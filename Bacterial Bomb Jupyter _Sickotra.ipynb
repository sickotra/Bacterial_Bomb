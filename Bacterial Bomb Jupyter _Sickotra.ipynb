{
 "cells": [
  {
   "cell_type": "markdown",
   "metadata": {},
   "source": [
    "# Bacterial Bomb - Model to Track Contamination"
   ]
  },
  {
   "cell_type": "markdown",
   "metadata": {},
   "source": [
    "**This model has been designed to track the fallout of a biological weapon that has been detonated on top of a building. The code used to build the model is detailed in this notebook.**\n",
    "\n",
    "Docstrings detailing Classes, methods and functions can be found at ENTER LINK\n",
    "\n",
    "---------"
   ]
  },
  {
   "cell_type": "markdown",
   "metadata": {},
   "source": [
    "First import all the packages that will be needed to run the program. Instructions to install `pandas` and `seaborn` with Anaconda can be found here: \n",
    "https://anaconda.org/anaconda/pandas \n",
    "https://anaconda.org/anaconda/seaborn"
   ]
  },
  {
   "cell_type": "code",
   "execution_count": 1,
   "metadata": {},
   "outputs": [],
   "source": [
    "import csv                      #to allow raster data to be read\n",
    "import random                   #for random number generating\n",
    "import matplotlib.pyplot as plt #for plotting spread \n",
    "import particle_framework       #the particle class created \n",
    "import pandas as pd             #for density map data frame\n",
    "import seaborn as sns           #for creating density map "
   ]
  },
  {
   "cell_type": "markdown",
   "metadata": {},
   "source": [
    "## Build the `Particle` Class"
   ]
  },
  {
   "cell_type": "markdown",
   "metadata": {},
   "source": [
    "Create the `Particle` Class which will be used as a framework and to initialise the particles. The class will enable the particles to spread either North, South, East or West depending on the directional probablities set. It will also enable them to rise up or fall down to the ground, again depending on the turbulance probabilities set. "
   ]
  },
  {
   "cell_type": "code",
   "execution_count": 28,
   "metadata": {},
   "outputs": [],
   "source": [
    "class Particle:\n",
    "    #'fix' the random numbers so outputs stay constant, can change the seed arg\n",
    "    random.seed(0)\n",
    "    def __init__(self, town, particles, y, x):\n",
    "        \n",
    "        #the initial starting point for each particle is at the bomb location\n",
    "        self.y = 150 \n",
    "        self.x = 50\n",
    "            \n",
    "        self.town = town  #giving every agent access to the map of the town\n",
    "        self.toxicity = 70 #base toxicity is 70 and will increase later        #TODO\n",
    "        self.particles = particles #every particle access to 'particles' list\n",
    "        self.height = 75 #all particles initial height = building height 75m \n",
    "        \n",
    "        \n",
    "    def __repr__(self):\n",
    "        \n",
    "        return str([self.x, self.y]) #used to print initial & moved particles\n",
    "       \n",
    "    \n",
    "    def spread(self, p_east, p_west, p_north, p_south):\n",
    "        \n",
    "        chance = random.randint(1, 100) #select a random integer between 1-100 \n",
    "        \n",
    "        if chance <= p_east:\n",
    "            self.x = self.x + 1 #move east 75% chance default or value entered\n",
    "            \n",
    "        elif (p_east < chance <= p_east + p_west):\n",
    "            self.x = self.x - 1 #move west 5% chance default or value entered \n",
    "            \n",
    "        elif (p_east + p_west < chance <= p_east + p_west + p_north):\n",
    "            self.y = self.y + 1 #move north 10% chance default or value entered\n",
    "        \n",
    "        elif (p_east + p_west + p_north < chance <= p_east + p_west + p_north + p_south): \n",
    "            self.y = self.y - 1 #move south 10% chance default of value entered \n",
    "            \n",
    "        #Town is non abstract landscape, particles cannot follow torus boundary\n",
    "        #Create solid wall boundary, check if particle off edge & adjust\n",
    "        if self.x < 0:   #if x, y hit 0, stop from going below 0 \n",
    "            self.x = 0\n",
    "        if self.y < 0:\n",
    "            self.y = 0\n",
    "        if self.x > 300:  #if x, y hit 299 (300x300 is town dimension),\n",
    "            self.x = 300  #stop from going any higher\n",
    "        if self.y > 300:\n",
    "            self.y = 300\n",
    "        \n",
    "            \n",
    "    def turbulance(self, p_rise, p_same, p_fall):\n",
    "        \n",
    "        chance = random.randint(1, 100) #select a random integer between 1-100 \n",
    "               \n",
    "        if self.height >= 75: #for particles ABOVE the building height of 75m\n",
    "            #particle rises, 20% default chance or value entered\n",
    "            if chance <= p_rise:\n",
    "                self.height = self.height + 1  \n",
    "                \n",
    "            #particle stays at same level, 10% chance or value entered   \n",
    "            elif (p_rise < chance <= p_rise + p_same):\n",
    "                self.height = self.height   \n",
    "            \n",
    "            #particle falls, 70% default chance of value entered    \n",
    "            elif (p_rise + p_same < chance <= p_rise + p_same + p_fall):\n",
    "                self.height = self.height - 1\n",
    "                      \n",
    "        elif (0 < self.height < 75):  #for particles BELOW the building height\n",
    "            self.height = self.height - 1  #falls until hits the ground at 0m"
   ]
  },
  {
   "cell_type": "markdown",
   "metadata": {},
   "source": [
    "## 1. Pull in the `wind.raster` data file and find out the bombing location"
   ]
  },
  {
   "cell_type": "markdown",
   "metadata": {},
   "source": [
    "First the the raster data file needs to be read and processed. "
   ]
  },
  {
   "cell_type": "code",
   "execution_count": 29,
   "metadata": {},
   "outputs": [],
   "source": [
    "\n",
    "\n",
    "\n",
    "# Setting up town\n",
    "f = open ('wind.raster', newline='') #read in data from raster file\n",
    "#csv.reader gives data as list of list to be looped through\n",
    "dataset = csv.reader (f, quoting=csv.QUOTE_NONNUMERIC) #converts no. to floats\n",
    "\n",
    "town = [] #empty town list to add the rowlist elements (mutable)\n",
    "\n",
    "for row in dataset:\n",
    "    rowlist = [] #empty list to add each row as an element\n",
    "    for value in row:\n",
    "        rowlist.append (value) #adds each row's data as its own rowlist element\n",
    "    town.append (rowlist)  #each rowlist added to environ list, 2D now \n",
    "f.close() \t#file closed after reading data"
   ]
  },
  {
   "cell_type": "markdown",
   "metadata": {},
   "source": [
    "Now the location of the building where the bomb was detonated can be identified."
   ]
  },
  {
   "cell_type": "code",
   "execution_count": 30,
   "metadata": {},
   "outputs": [
    {
     "name": "stdout",
     "output_type": "stream",
     "text": [
      "Coords of the building where bomb detonated: (50, 150)\n"
     ]
    }
   ],
   "source": [
    "# Locating the bomb detonation point\n",
    "counter = 0 #start a counter for the rows in the town list\n",
    "for row in town: #both for loops to check through every value in the 2D list\n",
    "    for value in row:\n",
    "        if value != 0: #if the value is not equal to zero, then set bomb coords \n",
    "            bomb_x = row.index(value) #bomb x coord\n",
    "            bomb_y = counter \n",
    "            #will print the coord of the only non zero pixel value (255)\n",
    "            print(\"Coords of the building where bomb detonated:\",(bomb_x, bomb_y))\n",
    "    #step the row counter by 1 to loop through all rows until non zero found\n",
    "    counter += 1"
   ]
  },
  {
   "cell_type": "markdown",
   "metadata": {},
   "source": [
    "Plot the raster data so that a map of the town can be outputted as a figure, with the bomb location marked."
   ]
  },
  {
   "cell_type": "code",
   "execution_count": 31,
   "metadata": {
    "scrolled": true
   },
   "outputs": [
    {
     "data": {
      "text/plain": [
       "<matplotlib.image.AxesImage at 0x229b46addc0>"
      ]
     },
     "execution_count": 31,
     "metadata": {},
     "output_type": "execute_result"
    },
    {
     "data": {
      "image/png": "[encoded data removed]",
      "text/plain": [
       "<Figure size 432x288 with 1 Axes>"
      ]
     },
     "metadata": {
      "needs_background": "light"
     },
     "output_type": "display_data"
    }
   ],
   "source": [
    "# Plotting the raster data\n",
    "plt.ylim (0, 300) #setting graph axis 300x300 to match raster\n",
    "plt.xlim (0, 300)\n",
    "plt.title ('A plot to show the map of the town and the bombing location')\n",
    "plt.xlabel('x metres') #graph axis labels, 1 pixel = 1 metre\n",
    "plt.ylabel('y metres')\n",
    "#mark the bomb location with a red diamond overlay \n",
    "plt.scatter (50, 150, color='red', marker=('D'))\n",
    "#plotting map of the area/town and bombing location\n",
    "plt.imshow(town) "
   ]
  },
  {
   "cell_type": "markdown",
   "metadata": {},
   "source": [
    "The figure outputted above should look like this image: \n",
    "<img src=\"initial_town.png\">\n"
   ]
  },
  {
   "cell_type": "markdown",
   "metadata": {},
   "source": [
    "## 2. Calculate where 5000 bacteria will end up"
   ]
  },
  {
   "cell_type": "markdown",
   "metadata": {},
   "source": [
    "Initialise/create the particles using the Particles class."
   ]
  },
  {
   "cell_type": "code",
   "execution_count": 32,
   "metadata": {},
   "outputs": [
    {
     "name": "stdout",
     "output_type": "stream",
     "text": [
      "Initialising particles--\n"
     ]
    }
   ],
   "source": [
    "# Major model parameters\n",
    "num_of_particles = 5000\n",
    "num_of_iterations = 100 #i.e after 700 seconds, 11mins\n",
    "\n",
    "#Chances/probability of wind blowing particle in different directions\n",
    "p_east = 75  #75 means 75% chance particle moves east each second/iteration \n",
    "p_west = 5   #NESW probs can be integer or decimal/float, just need sum = 100\n",
    "p_north = 10\n",
    "p_south = 10\n",
    "\n",
    "#Chances of wind turbulance effects \n",
    "p_rise = 20 #20% chance particle rises 1m per second (1 pixel per iteration)\n",
    "p_same = 10 #particle stays at the same level\n",
    "p_fall = 70 #probs can be integer or decimal/float, just need sum = 100\n",
    "\n",
    "\n",
    "\n",
    "particles = [] #empty list to add Partical class instances\n",
    "\n",
    "print (\"Initialising particles--\") \n",
    "# Creating particles and adding to particles list\n",
    "\n",
    "for i in range(num_of_particles): \n",
    "    y = 150\n",
    "    x = 50\n",
    "    #passing in data from town & particles list and y,x and appending to list\n",
    "    particles.append (particle_framework.Particle(town, particles, y, x)) "
   ]
  },
  {
   "cell_type": "markdown",
   "metadata": {},
   "source": [
    "To move the particles that have just been created, the `spread` and `turbulance` methods from the `Particles` class will need to be used. This replicates the effects that the wind and turbulance, in a real town, would have on the particles. The bacteria particles spread either North, East, South or West. The turbulance means that particles may rise upwards, but they will all eventually fall down to the ground."
   ]
  },
  {
   "cell_type": "code",
   "execution_count": 33,
   "metadata": {},
   "outputs": [
    {
     "name": "stdout",
     "output_type": "stream",
     "text": [
      "Spreading bomb particles--\n",
      "All particles have now settled on the ground\n"
     ]
    }
   ],
   "source": [
    "print (\"Spreading bomb particles--\")\n",
    "# Particles spread across town either NESW directions and rise/fall \n",
    "\n",
    "#methods in Particles class act on every element in particles list\n",
    "for i in range (num_of_particles): \n",
    "    #only run methods when the height of the particle is not 0 ie. not on ground\n",
    "    while particles[i].height != 0:\n",
    "        particles[i].spread(p_east, p_west, p_north, p_south) #NESW movement\n",
    "        particles[i].turbulance(p_rise, p_same, p_fall) #up/down movement\n",
    "\n",
    "print (\"All particles have now settled on the ground\")\n"
   ]
  },
  {
   "cell_type": "markdown",
   "metadata": {},
   "source": [
    "Plot these particles after spreading to visualise the movement."
   ]
  },
  {
   "cell_type": "code",
   "execution_count": 34,
   "metadata": {},
   "outputs": [
    {
     "data": {
      "image/png": "[encoded data removed]",
      "text/plain": [
       "<Figure size 432x288 with 1 Axes>"
      ]
     },
     "metadata": {
      "needs_background": "light"
     },
     "output_type": "display_data"
    }
   ],
   "source": [
    "plt.ylim (0, 300) #setting graph axis 300x300 to match raster\n",
    "plt.xlim (0, 300)\n",
    "plt.title ('A plot to show the map of the town and the particle contamination')\n",
    "plt.xlabel('x metres') #graph axis labels, 1 pixel = 1 metre\n",
    "plt.ylabel('y metres')\n",
    "#mark the bomb location with a red diamond overlay \n",
    "plt.scatter (50, 150, color='red', marker=('D'))\n",
    "#plotting map of the area/town and bombing location\n",
    "plt.imshow(town) \n",
    "\n",
    "for i in range (num_of_particles):\n",
    "    #ith obj from particles list, using Particles Class to specify x, y coords\n",
    "    plt.scatter (particles[i].x, particles[i].y) \n",
    "#figure caption\n",
    "txt= \"Fig 1. End locations of \"+str(num_of_particles)+\" particles in the town after \"+str(num_of_iterations)+\" seconds\"\n",
    "plt.figtext(0.5, 0.0001, txt, wrap=True, horizontalalignment='center', fontsize=10)\n",
    "plt.show() "
   ]
  },
  {
   "cell_type": "markdown",
   "metadata": {},
   "source": [
    "If all the default major model parameters have remained unchanged, the figure outputted about should look like:\n",
    "<img src=\"town_after_spread.png\">"
   ]
  },
  {
   "cell_type": "markdown",
   "metadata": {},
   "source": [
    "Output the end locations of all the bacteria particles after they have reached the ground. The output file format is a `.txt` text file."
   ]
  },
  {
   "cell_type": "code",
   "execution_count": 35,
   "metadata": {},
   "outputs": [],
   "source": [
    "f = open(\"end_locations.txt\",'w', newline='') #builtin open func to write end coords\n",
    "for line in particles: #for every line in particles list\n",
    "    f.write (repr(line)) #write as a string in the text file\n",
    "f.close() #file closed after writting the coords"
   ]
  },
  {
   "cell_type": "markdown",
   "metadata": {},
   "source": [
    "## 3. Draw a density map of where all the bacteria end up as an image and display it"
   ]
  },
  {
   "cell_type": "markdown",
   "metadata": {},
   "source": [
    "To draw a density map, first the x and y data of the particles are separated into two lists, and a disctionary is created with these. Using the `pandas` package, the dictionary forms the dataframe to be used for a density plot. The density plot is created and saved using the `seaborn` package."
   ]
  },
  {
   "cell_type": "code",
   "execution_count": 36,
   "metadata": {},
   "outputs": [
    {
     "data": {
      "image/png": "[encoded data removed]",
      "text/plain": [
       "<Figure size 432x288 with 1 Axes>"
      ]
     },
     "metadata": {
      "needs_background": "light"
     },
     "output_type": "display_data"
    }
   ],
   "source": [
    "# Creating separate lists for all x & y end locations for density plot\n",
    "all_x_data = []  #empty list for all x and y coords to go into\n",
    "all_y_data = [] \n",
    "for i in range (num_of_particles):\n",
    "    #for every particle, add its corresponding x coord/y coord into the list \n",
    "    all_x_data.append (particles[i].x)\n",
    "    all_y_data.append (particles[i].y)\n",
    "\n",
    "# Creating dictionary for x, y coords to use as pandas dataframe for density plot\n",
    "d = {'x': all_x_data,'y': all_y_data} #creating the dictionary of 2 columns \n",
    "\n",
    "# Create pandas data frame from the dict and output density map\n",
    "df = pd.DataFrame(d) #can check by calling d & df in console\n",
    "\n",
    "plt.figure() #create a 2nd figure output\n",
    "plt.title ('Density map of ' +str(num_of_particles)+' bacterial particles')\n",
    "plt.xlabel('x metres') #graph axis labels, 1 pixel = 1 metre\n",
    "plt.ylabel('y metres')\n",
    "\n",
    "# Density plot using seaborn, darker green = very dense, yellow = less dense\n",
    "density = sns.kdeplot(x= df.x, y= df.y, cmap='YlGn',shade=True,bw_method=0.5) \n",
    "density.figure.savefig(\"density_map.png\") #save as an image file"
   ]
  },
  {
   "cell_type": "markdown",
   "metadata": {},
   "source": [
    "If all the default major model parameters have remained unchanged, the figure outputted about should look like:\n",
    "<img src=\"density_map.png\">"
   ]
  },
  {
   "cell_type": "markdown",
   "metadata": {},
   "source": [
    "## 4. Save the density map to a file as text"
   ]
  },
  {
   "cell_type": "markdown",
   "metadata": {},
   "source": [
    "To begin with, it has to be determined how many particles have landed on each pixel in the town map. The density is recorded by adding 1 to the town pixels where a particle has landed. The output `.txt` text file will have `0`'s where no particles are present and for example, a pixel value of `20` where 20 particles have landed at that location on the town. This gives a density map in a plain text format. "
   ]
  },
  {
   "cell_type": "code",
   "execution_count": 37,
   "metadata": {},
   "outputs": [],
   "source": [
    "# Save density map to file as text\n",
    "for i in range (num_of_particles):  #for every particle\n",
    "    #for every particles y, x coords in the town, add 1 to the town pixel.\n",
    "    #the town pixel values will represent the no of particles/density there\n",
    "    town[particles[i].y][particles[i].x] += 1 \n",
    "\n",
    "f = open('density_map_text.txt', 'w', newline='') #create new text file\n",
    "writer = csv.writer(f, delimiter=',', quoting=csv.QUOTE_NONNUMERIC)\n",
    "#for every row in the town list, write that row to the new txt file\n",
    "for line in town:\n",
    "    writer.writerow(line) \n",
    "f.close() #close the file  "
   ]
  }
 ],
 "metadata": {
  "kernelspec": {
   "display_name": "Python 3",
   "language": "python",
   "name": "python3"
  },
  "language_info": {
   "codemirror_mode": {
    "name": "ipython",
    "version": 3
   },
   "file_extension": ".py",
   "mimetype": "text/x-python",
   "name": "python",
   "nbconvert_exporter": "python",
   "pygments_lexer": "ipython3",
   "version": "3.8.3"
  }
 },
 "nbformat": 4,
 "nbformat_minor": 4
}
