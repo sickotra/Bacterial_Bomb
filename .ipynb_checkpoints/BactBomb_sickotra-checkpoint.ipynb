{
 "cells": [
  {
   "cell_type": "markdown",
   "metadata": {},
   "source": [
    "# Bacterial Bomb - Model to Track Contamination"
   ]
  },
  {
   "cell_type": "markdown",
   "metadata": {},
   "source": [
    "<img src=\"jupyter/logo.gif\">"
   ]
  },
  {
   "cell_type": "markdown",
   "metadata": {},
   "source": [
    "**This model has been designed to track the fallout of a biological weapon that has been detonated on top of a building. The code used to build the model is detailed in this notebook.**\n",
    "\n",
    "Licensing and more can be found at https://github.com/sickotra/Bacterial_Bomb.git.\n",
    "\n",
    "---------"
   ]
  },
  {
   "cell_type": "markdown",
   "metadata": {},
   "source": [
    "First import all the packages that will be needed to run the program. Instructions to install `pandas` and `seaborn` with Anaconda can be found here: \n",
    "https://anaconda.org/anaconda/pandas \n",
    "https://anaconda.org/anaconda/seaborn"
   ]
  },
  {
   "cell_type": "code",
   "execution_count": 2,
   "metadata": {
    "ExecuteTime": {
     "end_time": "2020-11-16T17:08:28.700084Z",
     "start_time": "2020-11-16T17:08:24.820984Z"
    }
   },
   "outputs": [],
   "source": [
    "import csv                      #to allow raster data to be read\n",
    "import particle_framework       #the particle class created \n",
    "import random                   #for random number generating\n",
    "import matplotlib.pyplot as plt #for plotting spread \n",
    "import pandas as pd             #for density map data frame\n",
    "import time                     #to time spreading of particles\n",
    "import seaborn as sns           #for creating density map "
   ]
  },
  {
   "cell_type": "markdown",
   "metadata": {},
   "source": [
    "## Build the `Particle` Class"
   ]
  },
  {
   "cell_type": "markdown",
   "metadata": {},
   "source": [
    "Create the `Particle` Class which will be used as a framework and to initialise the particles. The class will enable the particles to spread either North, South, East or West depending on the directional probablities set. It will also enable them to rise up or fall down to the ground, again depending on the turbulance probabilities set. \n",
    "\n",
    "This code does not necessarily need to be run as the `particle_framework` import above already imported this Class. The codeblock can be unfolded to see the full code."
   ]
  },
  {
   "cell_type": "code",
   "execution_count": 1,
   "metadata": {
    "ExecuteTime": {
     "end_time": "2020-11-16T17:08:33.876703Z",
     "start_time": "2020-11-16T17:08:33.828887Z"
    },
    "code_folding": [
     0
    ]
   },
   "outputs": [],
   "source": [
    "class Particle:\n",
    "    \"\"\"\n",
    "    Particle Class:\n",
    "        A class to give attributes and behaviours to an abstract particle.\n",
    "        \n",
    "    Constructor arguements:\n",
    "        town -- 2D list containing the area particles will be in.\n",
    "        particles -- a list of all the particles in the town.\n",
    "        y -- y coord before init method sets particles' coods.\n",
    "        x -- x coord before init method sets particles' coods.\n",
    "    \n",
    "    Particle characteristics:\n",
    "        - height\n",
    "        - y coordinate\n",
    "        - x coordinate \n",
    "        \n",
    "    Particle behaviours:\n",
    "        - spread\n",
    "        - turbulence\n",
    "    \n",
    "    \"\"\"\n",
    "    \n",
    "    def __init__(self, town, particles, y, x):\n",
    "        \"\"\"\n",
    "        Construct the initial states of the bacterial particle instance object.\n",
    "\n",
    "        Parameters\n",
    "        ----------\n",
    "        town : list.\n",
    "            2D containing lists of row data from imported file 'wind.raster'.\n",
    "        particles : list.\n",
    "            2D containing lists of all the particles y,x coords.\n",
    "        y : int.\n",
    "            Initial y location of every particle.\n",
    "        x : int.\n",
    "            Initial x location of every particle.\n",
    "\n",
    "        Returns\n",
    "        -------\n",
    "        Particle.\n",
    "\n",
    "        \"\"\"\n",
    "        \n",
    "        #the initial starting point for each particle is at the bomb location\n",
    "        self._y = 150 \n",
    "        self._x = 50\n",
    "            \n",
    "        self._town = town  #giving every agent access to the map of the town\n",
    "        self._particles = particles #every particle access to 'particles' list\n",
    "        self._height = 75 #all particles initial height = building height 75m \n",
    "        \n",
    "    \n",
    "    # Accessor methods to protect variables, hidden vars\n",
    "    def get_y (self):\n",
    "        \"\"\"Divert access of y int variable to a hidden int variable.\"\"\"\n",
    "        return self._y\n",
    "    \n",
    "    def get_x (self):\n",
    "        \"\"\"Divert access of x int variable to a hidden int variable.\"\"\"\n",
    "        return self._x  \n",
    "    \n",
    "    def get_height(self):\n",
    "        \"\"\"Divert access of height int variable to a hidden int variable.\"\"\"\n",
    "        return self._height\n",
    "    \n",
    "    \n",
    "    # Mutator methods to protect changed vars\n",
    "    def set_y (self, value):\n",
    "        \"\"\"Divert mutation of y int variable to a hidden int variable.\"\"\"\n",
    "        self._y = value\n",
    "        \n",
    "    def set_x (self, value):\n",
    "        \"\"\"Divert mutation of x int variable to a hidden int variable.\"\"\"\n",
    "        self._x = value \n",
    "\n",
    "    def set_height(self, value):\n",
    "        \"\"\"Divert mutation of height int variable to a hidden int variable.\"\"\"\n",
    "        self._height = value\n",
    "        \n",
    "    # Properties - y, x property attribues and docstrings\n",
    "    y = property (get_y, set_y, \"The particle 'y' coord\") \n",
    "    x = property (get_x, set_x, \"The particle 'x' coord\") \n",
    "    height = property (get_height, set_height, \"The height of the building\")\n",
    "    \n",
    "        \n",
    "    def __repr__(self):\n",
    "        \"\"\"Make printable string version of instance objects in particles list.\"\"\"\n",
    "        \n",
    "        return str([self._x, self._y]) #used to print initial & moved particles\n",
    "       \n",
    "    \n",
    "    \n",
    "    def spread(self, p_east, p_west, p_north, p_south):\n",
    "        \"\"\"\n",
    "        Random walk particles 1 step in one of four directions, depending on\n",
    "        direction probabilities assigned by user.\n",
    "\n",
    "        Parameters\n",
    "        ----------\n",
    "        p_east : int.\n",
    "            Variable for percentage probability of particle moving east.\n",
    "        p_west : int.\n",
    "            Variable for percentage probability of particle moving west.\n",
    "        p_north : int.\n",
    "            Variable for percentage probability of particle moving north.\n",
    "        p_south : int.\n",
    "            Variable for percentage probability of particle moving south.\n",
    "\n",
    "        Returns\n",
    "        -------\n",
    "        None.\n",
    "\n",
    "        \"\"\"\n",
    "        \n",
    "        chance = random.randint(1, 100) #select a random integer between 1-100 \n",
    "        \n",
    "        if chance <= p_east:\n",
    "            self._x = self._x + 1 #move east 75% chance default or value entered\n",
    "            \n",
    "        elif (p_east < chance <= p_east + p_west):\n",
    "            self._x = self._x - 1 #move west 5% chance default or value entered \n",
    "            \n",
    "        elif (p_east + p_west < chance <= p_east + p_west + p_north):\n",
    "            self._y = self._y + 1 #move north 10% chance default or value entered\n",
    "        \n",
    "        elif (p_east + p_west + p_north < chance <= p_east + p_west + p_north + p_south): \n",
    "            self._y = self._y - 1 #move south 10% chance default of value entered \n",
    "            \n",
    "        #Town is non abstract landscape, particles cannot follow torus boundary\n",
    "        #Create solid wall boundary, check if particle off edge & adjust\n",
    "        if self._x < 0:   #if x, y hit 0, stop from going below 0 \n",
    "            self._x = 0\n",
    "        if self._y < 0:\n",
    "            self._y = 0\n",
    "        if self._x > 300:  #if x, y hit 299 (300x300 is town dimension),\n",
    "            self._x = 300  #stop from going any higher\n",
    "        if self._y > 300:\n",
    "            self._y = 300\n",
    "        \n",
    "            \n",
    "    \n",
    "    def turbulence(self, p_rise, p_same, p_fall):\n",
    "        \"\"\"\n",
    "        Random walk particles 1 step either up or down, depending on turbulance\n",
    "        probabilities assigned by user, until all particles reach the ground.\n",
    "\n",
    "        Parameters\n",
    "        ----------\n",
    "        p_rise : int.\n",
    "            Variable for percentage probability of particle rising upwards.\n",
    "        p_same : int.\n",
    "            Variable for percentage probability of particle remaining at the \n",
    "            same level.\n",
    "        p_fall : int.\n",
    "            Variable for percentage probability of particle falling downwards.\n",
    "\n",
    "        Returns\n",
    "        -------\n",
    "        None.\n",
    "\n",
    "        \"\"\"\n",
    "        \n",
    "        chance = random.randint(1, 100) #select a random integer between 1-100 \n",
    "               \n",
    "        if self._height >= 75: #for particles ABOVE the building height of 75m\n",
    "            #particle rises, 20% default chance or value entered\n",
    "            if chance <= p_rise:\n",
    "                self._height = self._height + 1  \n",
    "                \n",
    "            #particle stays at same level, 10% chance or value entered   \n",
    "            elif (p_rise < chance <= p_rise + p_same):\n",
    "                self._height = self._height   \n",
    "            \n",
    "            #particle falls, 70% default chance of value entered    \n",
    "            elif (p_rise + p_same < chance <= p_rise + p_same + p_fall):\n",
    "                self._height = self._height - 1\n",
    "                      \n",
    "        elif (0 < self._height < 75):  #for particles BELOW the building height\n",
    "            self._height = self._height - 1  #falls until hits the ground at 0m\n",
    "                   "
   ]
  },
  {
   "cell_type": "markdown",
   "metadata": {},
   "source": [
    "## Pull in the `wind.raster` data file and find out the bombing location"
   ]
  },
  {
   "cell_type": "markdown",
   "metadata": {},
   "source": [
    "First the the raster data file needs to be read and processed. "
   ]
  },
  {
   "cell_type": "code",
   "execution_count": 3,
   "metadata": {
    "ExecuteTime": {
     "end_time": "2020-11-16T17:08:36.470931Z",
     "start_time": "2020-11-16T17:08:36.363356Z"
    }
   },
   "outputs": [],
   "source": [
    "# Setting up town\n",
    "f = open ('inputs/wind.raster', newline='') #read in data from raster file\n",
    "#csv.reader gives data as list of list to be looped through\n",
    "dataset = csv.reader (f, quoting=csv.QUOTE_NONNUMERIC) #converts no. to floats\n",
    "\n",
    "town = [] #empty town list to add the rowlist elements (mutable)\n",
    "\n",
    "for row in dataset:\n",
    "    rowlist = [] #empty list to add each row as an element\n",
    "    for value in row:\n",
    "        rowlist.append (value) #adds each row's data as its own rowlist element\n",
    "    town.append (rowlist)  #each rowlist added to environ list, 2D now \n",
    "f.close() \t#file closed after reading data"
   ]
  },
  {
   "cell_type": "markdown",
   "metadata": {},
   "source": [
    "Now the location of the building where the bomb was detonated can be identified."
   ]
  },
  {
   "cell_type": "code",
   "execution_count": 4,
   "metadata": {
    "ExecuteTime": {
     "end_time": "2020-11-16T17:08:39.533828Z",
     "start_time": "2020-11-16T17:08:39.477735Z"
    }
   },
   "outputs": [
    {
     "name": "stdout",
     "output_type": "stream",
     "text": [
      "Coords of the building where bomb detonated: (50, 150)\n"
     ]
    }
   ],
   "source": [
    "# Locating the bomb detonation point\n",
    "counter = 0 #start a counter for the rows in the town list\n",
    "for row in town: #both for loops to check through every value in the 2D list\n",
    "    for value in row:\n",
    "        if value != 0: #if the value is not equal to zero, then set bomb coords \n",
    "            bomb_x = row.index(value) #bomb x coord\n",
    "            bomb_y = counter \n",
    "            #will print the coord of the only non zero pixel value (255)\n",
    "            print(\"Coords of the building where bomb detonated:\",(bomb_x, bomb_y))\n",
    "    #step the row counter by 1 to loop through all rows until non zero found\n",
    "    counter += 1"
   ]
  },
  {
   "cell_type": "markdown",
   "metadata": {},
   "source": [
    "Plot the raster data so that a map of the town can be outputted as a figure, with the bomb location marked."
   ]
  },
  {
   "cell_type": "code",
   "execution_count": 5,
   "metadata": {
    "ExecuteTime": {
     "end_time": "2020-11-16T17:08:43.747536Z",
     "start_time": "2020-11-16T17:08:43.233253Z"
    },
    "scrolled": true
   },
   "outputs": [
    {
     "data": {
      "text/plain": [
       "<matplotlib.image.AxesImage at 0x1b3f67b5a00>"
      ]
     },
     "execution_count": 5,
     "metadata": {},
     "output_type": "execute_result"
    },
    {
     "data": {
      "image/png": "[encoded data removed]",
      "text/plain": [
       "<Figure size 432x288 with 1 Axes>"
      ]
     },
     "metadata": {
      "needs_background": "light"
     },
     "output_type": "display_data"
    }
   ],
   "source": [
    "# Plotting the raster data\n",
    "plt.ylim (0, 300) #setting graph axis 300x300 to match raster\n",
    "plt.xlim (0, 300)\n",
    "plt.title ('A plot to show the map of the town and the bombing location')\n",
    "plt.xlabel('x metres') #graph axis labels, 1 pixel = 1 metre\n",
    "plt.ylabel('y metres')\n",
    "#mark the bomb location with a red diamond overlay \n",
    "plt.scatter (50, 150, color='red', marker=('D'))\n",
    "#plotting map of the area/town and bombing location\n",
    "plt.imshow(town) "
   ]
  },
  {
   "cell_type": "markdown",
   "metadata": {},
   "source": [
    "The figure outputted above should look like this image: \n",
    "<img src=\"jupyter/initial_town.png\">\n"
   ]
  },
  {
   "cell_type": "markdown",
   "metadata": {},
   "source": [
    "## Calculate where the bacteria will end up"
   ]
  },
  {
   "cell_type": "markdown",
   "metadata": {},
   "source": [
    "The **Major Model Parameters** need to be set. When the next few cells below are run, these parameters can be adjusted using sliders as desired. The codeblocks can be unfolded to reveal the code used to create these sliders. \n",
    "\n",
    "The default values are set to run the program for **5000 particles**, with the wind direction probabilities as:\n",
    "**East = 75%, West = 5%, North = 10%, South = 10%**. To use these default values, run the code blocks and leave the sliders unchanged.\n",
    "\n",
    "Please change the sliders only in the order that they are listed. If you decide to go back and change a percentage chosen, you will need to re-run the code blocks to update this change.\n",
    "\n",
    "Ensure that as you are choosing the slider values, that the total does not go above 100%. \\\n",
    "For example, choosing East = 80% and West = 20%, then you will need to set North and South as 0%. "
   ]
  },
  {
   "cell_type": "code",
   "execution_count": 5,
   "metadata": {
    "code_folding": []
   },
   "outputs": [],
   "source": [
    "# Major model parameters\n",
    "num_of_particles = 5000\n",
    "\n",
    "#Chances/probability of wind blowing particle in different directions\n",
    "p_east = 75  #75 means 75% chance particle moves east each second/iteration \n",
    "p_west = 5   #NESW just need sum = 100\n",
    "p_north = 10\n",
    "p_south = 10"
   ]
  },
  {
   "cell_type": "code",
   "execution_count": 8,
   "metadata": {
    "code_folding": [
     0
    ]
   },
   "outputs": [],
   "source": [
    "# Import modules needed for interactive sliders\n",
    "\n",
    "import ipywidgets as widgets \n",
    "from IPython.display import display"
   ]
  },
  {
   "cell_type": "code",
   "execution_count": 10,
   "metadata": {
    "code_folding": [
     0,
     4
    ]
   },
   "outputs": [
    {
     "data": {
      "application/vnd.jupyter.widget-view+json": {
       "model_id": "7368f525303841ad94507075c6d33d8a",
       "version_major": 2,
       "version_minor": 0
      },
      "text/plain": [
       "IntSlider(value=5000, description='Particles:', max=5000, min=1)"
      ]
     },
     "metadata": {},
     "output_type": "display_data"
    }
   ],
   "source": [
    "# Set the number of particles\n",
    "\n",
    "pslider = widgets.IntSlider(min=1, max=5000, step=1, description = 'Particles:', value = 5000)\n",
    "pslider.value = num_of_particles\n",
    "def on_change(v):\n",
    "   global num_of_particles\n",
    "   num_of_particles = v['new'] \n",
    "pslider.observe(on_change, names='value')\n",
    "display(pslider)\n",
    "\n"
   ]
  },
  {
   "cell_type": "code",
   "execution_count": 11,
   "metadata": {
    "code_folding": [
     0,
     4
    ],
    "scrolled": true
   },
   "outputs": [
    {
     "data": {
      "application/vnd.jupyter.widget-view+json": {
       "model_id": "204aa121535344b09374b4894ca41e2d",
       "version_major": 2,
       "version_minor": 0
      },
      "text/plain": [
       "IntSlider(value=75, description='East:', min=1)"
      ]
     },
     "metadata": {},
     "output_type": "display_data"
    }
   ],
   "source": [
    "#Probability of particles blowing East\n",
    "\n",
    "eslider = widgets.IntSlider(min=1, max=100, step=1, description = 'East:', value = 75)\n",
    "eslider.value = p_east\n",
    "def e_change(v):\n",
    "   global p_east\n",
    "   p_east = v['new'] \n",
    "eslider.observe(e_change, names='value')\n",
    "display(eslider)\n",
    "\n"
   ]
  },
  {
   "cell_type": "code",
   "execution_count": 12,
   "metadata": {
    "code_folding": [
     0,
     4
    ]
   },
   "outputs": [
    {
     "data": {
      "application/vnd.jupyter.widget-view+json": {
       "model_id": "9592a734f3bd4ca1a991a794df76914d",
       "version_major": 2,
       "version_minor": 0
      },
      "text/plain": [
       "IntSlider(value=5, description='West:', max=25, min=1)"
      ]
     },
     "metadata": {},
     "output_type": "display_data"
    }
   ],
   "source": [
    "#Probability of particles blowing West\n",
    "\n",
    "wslider = widgets.IntSlider(min=1, max=100- p_east, step=1, description = 'West:', value = 5)\n",
    "wslider.value = p_west\n",
    "def w_change(v):\n",
    "   global p_west\n",
    "   p_west = v['new'] \n",
    "wslider.observe(w_change, names='value')\n",
    "display(wslider)"
   ]
  },
  {
   "cell_type": "code",
   "execution_count": 13,
   "metadata": {
    "code_folding": [
     0,
     4
    ]
   },
   "outputs": [
    {
     "data": {
      "application/vnd.jupyter.widget-view+json": {
       "model_id": "900371834a384974831873aa1b1fcb2b",
       "version_major": 2,
       "version_minor": 0
      },
      "text/plain": [
       "IntSlider(value=10, description='North:', max=20, min=1)"
      ]
     },
     "metadata": {},
     "output_type": "display_data"
    }
   ],
   "source": [
    "# Probability of particles blowing North\n",
    "\n",
    "nslider = widgets.IntSlider(min=1, max=100- p_east-p_west, step=1, description = 'North:', value = 10)\n",
    "nslider.value = p_north\n",
    "def n_change(v):\n",
    "   global p_north\n",
    "   p_north = v['new'] \n",
    "nslider.observe(n_change, names='value')\n",
    "display(nslider)"
   ]
  },
  {
   "cell_type": "code",
   "execution_count": 14,
   "metadata": {
    "code_folding": [
     0,
     4
    ]
   },
   "outputs": [
    {
     "data": {
      "application/vnd.jupyter.widget-view+json": {
       "model_id": "5804272ce9d045229ec05d6eb182864d",
       "version_major": 2,
       "version_minor": 0
      },
      "text/plain": [
       "IntSlider(value=10, description='South:', max=10, min=1)"
      ]
     },
     "metadata": {},
     "output_type": "display_data"
    }
   ],
   "source": [
    "# Probability of particles blowing South\n",
    "\n",
    "sslider = widgets.IntSlider(min=1, max=100- p_east-p_west-p_north, step=1, description = 'South:', value = 10)\n",
    "sslider.value = p_south\n",
    "def s_change(v):\n",
    "   global p_south\n",
    "   p_south = v['new'] \n",
    "sslider.observe(s_change, names='value')\n",
    "display(sslider)"
   ]
  },
  {
   "cell_type": "markdown",
   "metadata": {},
   "source": [
    "The particles can now be created/initialised by using the `Particles` Class created in Section 1. The turbulance probabilities that cause the particles to either rise or fall to the ground have been fixed."
   ]
  },
  {
   "cell_type": "code",
   "execution_count": 6,
   "metadata": {},
   "outputs": [
    {
     "name": "stdout",
     "output_type": "stream",
     "text": [
      "Initialising particles--\n"
     ]
    }
   ],
   "source": [
    "#Chances of wind turbulence effects \n",
    "p_rise = 20 #20% chance particle rises 1m per second (1 pixel per iteration)\n",
    "p_same = 10 #particle stays at the same level\n",
    "p_fall = 70 #just need sum = 100\n",
    "\n",
    "\n",
    "particles = [] #empty list to add Partical class instances\n",
    "\n",
    "print (\"Initialising particles--\") \n",
    "# Creating particles and adding to particles list\n",
    "\n",
    "for i in range(num_of_particles): \n",
    "    y = 150\n",
    "    x = 50\n",
    "    #passing in data from town & particles list and y,x and appending to list\n",
    "    particles.append (particle_framework.Particle(town, particles, y, x)) "
   ]
  },
  {
   "cell_type": "markdown",
   "metadata": {},
   "source": [
    "To move the particles that have just been created, the `spread` and `turbulance` methods from the `Particles` class will need to be used. This replicates the effects that the wind and turbulance, in a real town, would have on the particles. The bacteria particles spread either North, East, South or West. The turbulance means that particles may rise upwards, but they will all eventually fall down to the ground."
   ]
  },
  {
   "cell_type": "code",
   "execution_count": 7,
   "metadata": {},
   "outputs": [
    {
     "name": "stdout",
     "output_type": "stream",
     "text": [
      "Spreading bomb particles--\n",
      "All particles have now settled on the ground\n",
      "Time taken to calculate particles reaching ground = 2.723374100000001\n",
      "Time taken for particles to actually hit the ground in the town = 75 seconds\n"
     ]
    }
   ],
   "source": [
    "print (\"Spreading bomb particles--\")\n",
    "# Particles spread across town either NESW directions and rise/fall \n",
    "start = time.perf_counter() #start clock to assess efficiency \n",
    "    \n",
    "#Methods in Particles class act on every element in particles list\n",
    "for i in range (num_of_particles): \n",
    "    \n",
    "    #only run methods when the height of the particle is not 0 ie. not on ground\n",
    "    seconds_count = 0 #to count the no of seconds/times while loop runs\n",
    "    while particles[i].height != 0:\n",
    "        \n",
    "        seconds_count += 1 #increment by 1 every loop iteration, 1 iter = 1 sec\n",
    "        particles[i].spread(p_east, p_west, p_north, p_south) #NESW movement\n",
    "        particles[i].turbulence(p_rise, p_same, p_fall) #up/down movement\n",
    "\n",
    "end = time.perf_counter() #end the timer for the calculating distances loops\n",
    "print (\"All particles have now settled on the ground\")\n",
    "print (\"Time taken to calculate particles reaching ground = \" + str (end - start))\n",
    "print (\"Time taken for particles to actually hit the ground in the town = \"+str(seconds_count)+\" seconds\")"
   ]
  },
  {
   "cell_type": "markdown",
   "metadata": {},
   "source": [
    "Plot these particles after spreading to visualise the movement."
   ]
  },
  {
   "cell_type": "code",
   "execution_count": 17,
   "metadata": {
    "scrolled": true
   },
   "outputs": [
    {
     "data": {
      "image/png": "[encoded data removed]",
      "text/plain": [
       "<Figure size 432x288 with 1 Axes>"
      ]
     },
     "metadata": {
      "needs_background": "light"
     },
     "output_type": "display_data"
    }
   ],
   "source": [
    "plt.ylim (0, 300) #setting graph axis 300x300 to match raster\n",
    "plt.xlim (0, 300)\n",
    "plt.title ('A plot to show the map of the town and the particle contamination')\n",
    "plt.xlabel('x metres') #graph axis labels, 1 pixel = 1 metre\n",
    "plt.ylabel('y metres')\n",
    "#mark the bomb location with a red diamond overlay \n",
    "plt.scatter (50, 150, color='red', marker=('D'))\n",
    "#plotting map of the area/town and bombing location\n",
    "plt.imshow(town) \n",
    "\n",
    "for i in range (num_of_particles):\n",
    "    #ith obj from particles list, using Particles Class to specify x, y coords\n",
    "    plt.scatter (particles[i].x, particles[i].y) \n",
    "#figure caption\n",
    "txt= \"Fig 1. End locations of \"+str(num_of_particles)+\" particles in the town after \"+str(seconds_count)+\" seconds\"\n",
    "plt.figtext(0.5, 0.0001, txt, wrap=True, horizontalalignment='center', fontsize=10)\n",
    "plt.show() "
   ]
  },
  {
   "cell_type": "markdown",
   "metadata": {},
   "source": [
    "If all the default major model parameters have remained unchanged, the figure outputted about should be similar to this:\n",
    "<img src=\"jupyter/town_after_spread.png\">"
   ]
  },
  {
   "cell_type": "markdown",
   "metadata": {},
   "source": [
    "Output the end locations of all the bacteria particles after they have reached the ground. The output file format is a `.txt` text file."
   ]
  },
  {
   "cell_type": "code",
   "execution_count": 18,
   "metadata": {},
   "outputs": [],
   "source": [
    "f = open(\"outputs/end_locations.txt\",'w', newline='') #builtin open func to write end coords\n",
    "for line in particles: #for every line in particles list\n",
    "    f.write (repr(line)) #write as a string in the text file\n",
    "f.close() #file closed after writting the coords"
   ]
  },
  {
   "cell_type": "markdown",
   "metadata": {},
   "source": [
    "## Draw a density map of where all the bacteria end up as an image and display it"
   ]
  },
  {
   "cell_type": "markdown",
   "metadata": {},
   "source": [
    "To draw a density map, first the x and y data of the particles are separated into two lists, and a disctionary is created with these. Using the `pandas` package, the dictionary forms the dataframe to be used for a density plot. The density plot is created and saved using the `seaborn` package."
   ]
  },
  {
   "cell_type": "code",
   "execution_count": 19,
   "metadata": {},
   "outputs": [
    {
     "data": {
      "image/png": "[encoded data removed]",
      "text/plain": [
       "<Figure size 432x288 with 1 Axes>"
      ]
     },
     "metadata": {
      "needs_background": "light"
     },
     "output_type": "display_data"
    }
   ],
   "source": [
    "# Creating separate lists for all x & y end locations for density plot\n",
    "all_x_data = []  #empty list for all x and y coords to go into\n",
    "all_y_data = [] \n",
    "for i in range (num_of_particles):\n",
    "    #for every particle, add its corresponding x coord/y coord into the list \n",
    "    all_x_data.append (particles[i].x)\n",
    "    all_y_data.append (particles[i].y)\n",
    "\n",
    "# Creating dictionary for x, y coords to use as pandas dataframe for density plot\n",
    "d = {'x': all_x_data,'y': all_y_data} #creating the dictionary of 2 columns \n",
    "\n",
    "# Create pandas data frame from the dict and output density map\n",
    "df = pd.DataFrame(d) #can check by calling d & df in console\n",
    "\n",
    "plt.figure() #create a 2nd figure output\n",
    "plt.title ('Density map of ' +str(num_of_particles)+' bacterial particles')\n",
    "plt.xlabel('x metres') #graph axis labels, 1 pixel = 1 metre\n",
    "plt.ylabel('y metres')\n",
    "\n",
    "# Density plot using seaborn, darker green = very dense, yellow = less dense\n",
    "density = sns.kdeplot(x= df.x, y= df.y, cmap='YlGn',shade=True,bw_method=0.5) \n",
    "density.figure.savefig(\"outputs/density_map.png\") #save as an image file"
   ]
  },
  {
   "cell_type": "markdown",
   "metadata": {},
   "source": [
    "If all the default major model parameters have remained unchanged, the figure outputted about should look like:\n",
    "<img src=\"outputs/density_map.png\">"
   ]
  },
  {
   "cell_type": "markdown",
   "metadata": {},
   "source": [
    "## Save the density map to a file as text"
   ]
  },
  {
   "cell_type": "markdown",
   "metadata": {},
   "source": [
    "To begin with, it has to be determined how many particles have landed on each pixel in the town map. The density is recorded by adding 1 to the town pixels where a particle has landed. The output `.txt` text file will have `0`'s where no particles are present and for example, a pixel value of `20` where 20 particles have landed at that location on the town. This gives a density map in a plain text format. "
   ]
  },
  {
   "cell_type": "code",
   "execution_count": 20,
   "metadata": {},
   "outputs": [],
   "source": [
    "# Save density map to file as text\n",
    "for i in range (num_of_particles):  #for every particle\n",
    "    #for every particles y, x coords in the town, add 1 to the town pixel.\n",
    "    #the town pixel values will represent the no of particles/density there\n",
    "    town[particles[i].y][particles[i].x] += 1 \n",
    "\n",
    "f = open('outputs/density_map_text.txt', 'w', newline='') #create new text file\n",
    "writer = csv.writer(f, delimiter=',', quoting=csv.QUOTE_NONNUMERIC)\n",
    "#for every row in the town list, write that row to the new txt file\n",
    "for line in town:\n",
    "    writer.writerow(line) \n",
    "f.close() #close the file  "
   ]
  }
 ],
 "metadata": {
  "kernelspec": {
   "display_name": "Python 3",
   "language": "python",
   "name": "python3"
  },
  "language_info": {
   "codemirror_mode": {
    "name": "ipython",
    "version": 3
   },
   "file_extension": ".py",
   "mimetype": "text/x-python",
   "name": "python",
   "nbconvert_exporter": "python",
   "pygments_lexer": "ipython3",
   "version": "3.8.3"
  },
  "toc": {
   "base_numbering": 1,
   "nav_menu": {},
   "number_sections": true,
   "sideBar": true,
   "skip_h1_title": true,
   "title_cell": "Table of Contents",
   "title_sidebar": "Contents",
   "toc_cell": false,
   "toc_position": {
    "height": "calc(100% - 180px)",
    "left": "10px",
    "top": "150px",
    "width": "254.2px"
   },
   "toc_section_display": true,
   "toc_window_display": true
  },
  "widgets": {
   "application/vnd.jupyter.widget-state+json": {
    "state": {
     "00962dae2eb144e3901b0d1e04887be0": {
      "model_module": "@jupyter-widgets/controls",
      "model_module_version": "1.5.0",
      "model_name": "IntSliderModel",
      "state": {
       "description": "Particles:",
       "layout": "IPY_MODEL_f8ea95baaa034cbcb72fdd572a85b52c",
       "max": 5000,
       "min": 1,
       "style": "IPY_MODEL_8649bb3a35d141e8a0449dd232ef4000",
       "value": 5000
      }
     },
     "00a1f2c9b8af4ff8a03154716ba56c00": {
      "model_module": "@jupyter-widgets/controls",
      "model_module_version": "1.5.0",
      "model_name": "IntSliderModel",
      "state": {
       "description": "South:",
       "layout": "IPY_MODEL_299fc5d6912a48ba93b7ab77eb52cae5",
       "max": 28,
       "style": "IPY_MODEL_9d227c0f4af74b39881726d073ee3c7b"
      }
     },
     "00b98255a7464e06aa29ea600c5807c2": {
      "model_module": "@jupyter-widgets/controls",
      "model_module_version": "1.5.0",
      "model_name": "IntSliderModel",
      "state": {
       "description": "South:",
       "layout": "IPY_MODEL_730814a2bef64994b1fe677a438ddce4",
       "style": "IPY_MODEL_b77736614aed41afa85f0b5b38ba744f"
      }
     },
     "00c3a8d92fa44ab59343d3bdd436af9a": {
      "model_module": "@jupyter-widgets/controls",
      "model_module_version": "1.5.0",
      "model_name": "SliderStyleModel",
      "state": {
       "description_width": ""
      }
     },
     "00c6c7addf2d4d549ea6671c4390b537": {
      "model_module": "@jupyter-widgets/controls",
      "model_module_version": "1.5.0",
      "model_name": "SliderStyleModel",
      "state": {
       "description_width": ""
      }
     },
     "0131c3c2f3e74070ab1768e523418452": {
      "model_module": "@jupyter-widgets/controls",
      "model_module_version": "1.5.0",
      "model_name": "SliderStyleModel",
      "state": {
       "description_width": ""
      }
     },
     "0170fb9b85fa4096b1f19ce185bc10bb": {
      "model_module": "@jupyter-widgets/base",
      "model_module_version": "1.2.0",
      "model_name": "LayoutModel",
      "state": {}
     },
     "01ed5c337c854fe4acb1f97caa97b5de": {
      "model_module": "@jupyter-widgets/controls",
      "model_module_version": "1.5.0",
      "model_name": "SliderStyleModel",
      "state": {
       "description_width": ""
      }
     },
     "023c14b2b46f417ba31bb13474b060fc": {
      "model_module": "@jupyter-widgets/controls",
      "model_module_version": "1.5.0",
      "model_name": "SliderStyleModel",
      "state": {
       "description_width": ""
      }
     },
     "02610cc843d64c5f843dc034267d9442": {
      "model_module": "@jupyter-widgets/controls",
      "model_module_version": "1.5.0",
      "model_name": "SliderStyleModel",
      "state": {
       "description_width": ""
      }
     },
     "02bf0ac15b1a4bb7aba57a90cc60e2ea": {
      "model_module": "@jupyter-widgets/controls",
      "model_module_version": "1.5.0",
      "model_name": "IntSliderModel",
      "state": {
       "description": "East:",
       "layout": "IPY_MODEL_1efc90768bfb486aa1e1b14690d67949",
       "style": "IPY_MODEL_788bf07054534a669eec32f1b8f8e1cd",
       "value": 77
      }
     },
     "0314721f8dd74426b582b4be833f0ac8": {
      "model_module": "@jupyter-widgets/controls",
      "model_module_version": "1.5.0",
      "model_name": "IntSliderModel",
      "state": {
       "description": "North:",
       "layout": "IPY_MODEL_bd56c1db2ea541d581938f1e5ba6540e",
       "max": 68,
       "style": "IPY_MODEL_3f6c5dc049dc4ee89dae890f53008a70",
       "value": 2
      }
     },
     "0321b7d1c7f34cd0bd0c91e4e6f430e7": {
      "model_module": "@jupyter-widgets/base",
      "model_module_version": "1.2.0",
      "model_name": "LayoutModel",
      "state": {}
     },
     "0328aad8f8c644b0b580f076519cab10": {
      "model_module": "@jupyter-widgets/controls",
      "model_module_version": "1.5.0",
      "model_name": "SliderStyleModel",
      "state": {
       "description_width": ""
      }
     },
     "0353ff5159954fd9880345f6e8de8b0c": {
      "model_module": "@jupyter-widgets/controls",
      "model_module_version": "1.5.0",
      "model_name": "SliderStyleModel",
      "state": {
       "description_width": ""
      }
     },
     "03a797c468174abc8286aaee3e31c1d5": {
      "model_module": "@jupyter-widgets/base",
      "model_module_version": "1.2.0",
      "model_name": "LayoutModel",
      "state": {}
     },
     "044222999c08414d98d6d7a65522477b": {
      "model_module": "@jupyter-widgets/controls",
      "model_module_version": "1.5.0",
      "model_name": "IntSliderModel",
      "state": {
       "description": "West:",
       "layout": "IPY_MODEL_1db3869ac2344c05ad8e95dada690d6e",
       "max": 34,
       "style": "IPY_MODEL_921c2502a2444c5ca1656ea8188b8a25",
       "value": 34
      }
     },
     "045a7c1d84c245c0b98b3c47851122ef": {
      "model_module": "@jupyter-widgets/controls",
      "model_module_version": "1.5.0",
      "model_name": "SliderStyleModel",
      "state": {
       "description_width": ""
      }
     },
     "053f1d6745fd4babb728427e8e0e0a57": {
      "model_module": "@jupyter-widgets/controls",
      "model_module_version": "1.5.0",
      "model_name": "IntSliderModel",
      "state": {
       "description": "West:",
       "layout": "IPY_MODEL_9d9b721687334ac7adee1babd172f175",
       "style": "IPY_MODEL_e64de745f4da4d32b0bab988fef0a1a8",
       "value": 5
      }
     },
     "05a87f5fb59344d9a5534bd16916580c": {
      "model_module": "@jupyter-widgets/controls",
      "model_module_version": "1.5.0",
      "model_name": "IntSliderModel",
      "state": {
       "description": "South:",
       "layout": "IPY_MODEL_56f211b893624591a7844734f831f6ac",
       "style": "IPY_MODEL_cd7d01ef70af4e4284e6130b5fd7a77f"
      }
     },
     "05ed241b8c25453c8622a0002c2d6c90": {
      "model_module": "@jupyter-widgets/controls",
      "model_module_version": "1.5.0",
      "model_name": "IntSliderModel",
      "state": {
       "description": "South:",
       "layout": "IPY_MODEL_6d3b8239f12a41f1b8fc1e8a91ed1783",
       "max": 10,
       "min": 1,
       "style": "IPY_MODEL_199271c51ea34a7aafaaad04221a8fe8",
       "value": 10
      }
     },
     "066daaf1aa4c4815adf8dbc18a29211c": {
      "model_module": "@jupyter-widgets/controls",
      "model_module_version": "1.5.0",
      "model_name": "SliderStyleModel",
      "state": {
       "description_width": ""
      }
     },
     "067602e029d14fc3ac91ac802e17d006": {
      "model_module": "@jupyter-widgets/controls",
      "model_module_version": "1.5.0",
      "model_name": "IntSliderModel",
      "state": {
       "description": "Particles:",
       "layout": "IPY_MODEL_a4908d86a7c041e49a61676e2d80b6d6",
       "max": 5000,
       "min": 1,
       "style": "IPY_MODEL_7e5d1f7e56a249d2b9f5af6aa259828c",
       "value": 5000
      }
     },
     "06befbdb8fdc425bb3be20ce824fe5ed": {
      "model_module": "@jupyter-widgets/controls",
      "model_module_version": "1.5.0",
      "model_name": "SliderStyleModel",
      "state": {
       "description_width": ""
      }
     },
     "06d2889b8733453db0fac51593918ad6": {
      "model_module": "@jupyter-widgets/controls",
      "model_module_version": "1.5.0",
      "model_name": "IntSliderModel",
      "state": {
       "layout": "IPY_MODEL_8b54238f538b42fd83a5f3d640430b98",
       "style": "IPY_MODEL_3d56202c2af34bf1a676cfbc9ac28a1c",
       "value": 100
      }
     },
     "071238a044d640fab05b81323d5c910a": {
      "model_module": "@jupyter-widgets/controls",
      "model_module_version": "1.5.0",
      "model_name": "SliderStyleModel",
      "state": {
       "description_width": ""
      }
     },
     "07ac80ae04004915921e2b589f1216b2": {
      "model_module": "@jupyter-widgets/controls",
      "model_module_version": "1.5.0",
      "model_name": "SliderStyleModel",
      "state": {
       "description_width": ""
      }
     },
     "07bb2ef1ae68488abee223cd3c38c553": {
      "model_module": "@jupyter-widgets/controls",
      "model_module_version": "1.5.0",
      "model_name": "IntSliderModel",
      "state": {
       "layout": "IPY_MODEL_5dc914aebb574994aa15e04e6482f86c",
       "style": "IPY_MODEL_ae37fdfd47844759a3278a029a9b83be",
       "value": 3
      }
     },
     "07bef62a9b26484a8f609524a8d9f136": {
      "model_module": "@jupyter-widgets/controls",
      "model_module_version": "1.5.0",
      "model_name": "IntSliderModel",
      "state": {
       "description": "East:",
       "layout": "IPY_MODEL_4727cea2694d42119f1385ffbf004423",
       "style": "IPY_MODEL_74dd6b83b6a246f388cc59e1893cb564",
       "value": 59
      }
     },
     "07ca0e09b57a403281642b7d6644aba6": {
      "model_module": "@jupyter-widgets/base",
      "model_module_version": "1.2.0",
      "model_name": "LayoutModel",
      "state": {}
     },
     "0824d1d93a73482b9e42e94700f6472a": {
      "model_module": "@jupyter-widgets/controls",
      "model_module_version": "1.5.0",
      "model_name": "IntSliderModel",
      "state": {
       "description": "Target 1",
       "layout": "IPY_MODEL_d4867b2b51b849aba169bba1708469ef",
       "style": "IPY_MODEL_c7acfd4c3d9a48039cf552b9d01f6904",
       "value": 100
      }
     },
     "0826f76d5b4945e4b1aa8cc568af6feb": {
      "model_module": "@jupyter-widgets/controls",
      "model_module_version": "1.5.0",
      "model_name": "IntSliderModel",
      "state": {
       "description": "West:",
       "layout": "IPY_MODEL_a0f4ad823c084e40be5679ac9d2e5b5b",
       "style": "IPY_MODEL_0b700a89e44247f78b9a75e2bfda012f",
       "value": 71
      }
     },
     "08c76e0ad0614da5a1098b101b56fd63": {
      "model_module": "@jupyter-widgets/controls",
      "model_module_version": "1.5.0",
      "model_name": "IntSliderModel",
      "state": {
       "description": "East:",
       "layout": "IPY_MODEL_391d0d270f014692bf57a5d930fe982e",
       "style": "IPY_MODEL_8e24d39b94684dceb4d599d9d8c309c8",
       "value": 57
      }
     },
     "08c8bc1ad54045efb0329ed2da7928e1": {
      "model_module": "@jupyter-widgets/base",
      "model_module_version": "1.2.0",
      "model_name": "LayoutModel",
      "state": {}
     },
     "08f331679f4245798d1bd8d11f68258f": {
      "model_module": "@jupyter-widgets/controls",
      "model_module_version": "1.5.0",
      "model_name": "SliderStyleModel",
      "state": {
       "description_width": ""
      }
     },
     "0911d53584da4f52a93229dc415224cd": {
      "model_module": "@jupyter-widgets/base",
      "model_module_version": "1.2.0",
      "model_name": "LayoutModel",
      "state": {}
     },
     "09155c46be95459ab4ed51f93615be01": {
      "model_module": "@jupyter-widgets/controls",
      "model_module_version": "1.5.0",
      "model_name": "SliderStyleModel",
      "state": {
       "description_width": ""
      }
     },
     "095a7a50567541979f6da5ed80847b0a": {
      "model_module": "@jupyter-widgets/controls",
      "model_module_version": "1.5.0",
      "model_name": "SliderStyleModel",
      "state": {
       "description_width": ""
      }
     },
     "09809808a37e4846a5365ce478dba202": {
      "model_module": "@jupyter-widgets/base",
      "model_module_version": "1.2.0",
      "model_name": "LayoutModel",
      "state": {}
     },
     "09f25b83c81f4d7e98157fd60cbbf336": {
      "model_module": "@jupyter-widgets/controls",
      "model_module_version": "1.5.0",
      "model_name": "SliderStyleModel",
      "state": {
       "description_width": ""
      }
     },
     "0b223a8617194e869c6c0d941077fb01": {
      "model_module": "@jupyter-widgets/controls",
      "model_module_version": "1.5.0",
      "model_name": "IntSliderModel",
      "state": {
       "description": "West:",
       "layout": "IPY_MODEL_fc8a81503edd4f8ead078059eebd1c17",
       "max": 56,
       "style": "IPY_MODEL_7822f5b0d1fb406ca94471ef3ba9d524",
       "value": 44
      }
     },
     "0b2bd8d02b6a4697b334540ec3db9fad": {
      "model_module": "@jupyter-widgets/base",
      "model_module_version": "1.2.0",
      "model_name": "LayoutModel",
      "state": {}
     },
     "0b433dcf777042f48d5990ee14e1314d": {
      "model_module": "@jupyter-widgets/controls",
      "model_module_version": "1.5.0",
      "model_name": "IntSliderModel",
      "state": {
       "description": "Source",
       "layout": "IPY_MODEL_2635c3a92f974614a612adc77ea58337",
       "style": "IPY_MODEL_659eb5c57d95497d96ad5f8e1546b3f9",
       "value": 100
      }
     },
     "0b700a89e44247f78b9a75e2bfda012f": {
      "model_module": "@jupyter-widgets/controls",
      "model_module_version": "1.5.0",
      "model_name": "SliderStyleModel",
      "state": {
       "description_width": ""
      }
     },
     "0b83220f35af40629b32424d3e9b3a8b": {
      "model_module": "@jupyter-widgets/base",
      "model_module_version": "1.2.0",
      "model_name": "LayoutModel",
      "state": {}
     },
     "0bb77747fc034aabb707d49721088822": {
      "model_module": "@jupyter-widgets/controls",
      "model_module_version": "1.5.0",
      "model_name": "SliderStyleModel",
      "state": {
       "description_width": ""
      }
     },
     "0bc07e017a6b4984ad2475924ed76b33": {
      "model_module": "@jupyter-widgets/controls",
      "model_module_version": "1.5.0",
      "model_name": "SliderStyleModel",
      "state": {
       "description_width": ""
      }
     },
     "0becc515ab72450b8e641d97327873ea": {
      "model_module": "@jupyter-widgets/controls",
      "model_module_version": "1.5.0",
      "model_name": "IntSliderModel",
      "state": {
       "description": "East:",
       "layout": "IPY_MODEL_97d41874480348bb987e9955de8b2da2",
       "min": 1,
       "style": "IPY_MODEL_3dde8b38bf2346e0af0ba0e12a0504c8",
       "value": 75
      }
     },
     "0bff213ef575483ebf13283bc1193f0b": {
      "model_module": "@jupyter-widgets/controls",
      "model_module_version": "1.5.0",
      "model_name": "IntSliderModel",
      "state": {
       "description": "North:",
       "layout": "IPY_MODEL_cfb896637f864ff0a2e68f58f60af75d",
       "style": "IPY_MODEL_0f6ccc0bf81044c8b731908e7f2cfe99"
      }
     },
     "0ca83fa0e37543899f5273253be96419": {
      "model_module": "@jupyter-widgets/base",
      "model_module_version": "1.2.0",
      "model_name": "LayoutModel",
      "state": {}
     },
     "0ccc97b2cf9d4bd9a7d691d4d9c8cbb1": {
      "model_module": "@jupyter-widgets/controls",
      "model_module_version": "1.5.0",
      "model_name": "SliderStyleModel",
      "state": {
       "description_width": ""
      }
     },
     "0cf503dff9c54a93b10ffddf1fbd593c": {
      "model_module": "@jupyter-widgets/controls",
      "model_module_version": "1.5.0",
      "model_name": "IntSliderModel",
      "state": {
       "description": "South:",
       "layout": "IPY_MODEL_6bd445f190344de08ae1cb7d5fa195a3",
       "style": "IPY_MODEL_34e36f8a1ffa4463904bd3ac31e7d19a",
       "value": 10
      }
     },
     "0d29e95c10f7480f8905f95fcd0e9d29": {
      "model_module": "@jupyter-widgets/controls",
      "model_module_version": "1.5.0",
      "model_name": "SliderStyleModel",
      "state": {
       "description_width": ""
      }
     },
     "0d49f2f5641f465286d987eea0b73cf1": {
      "model_module": "@jupyter-widgets/controls",
      "model_module_version": "1.5.0",
      "model_name": "SliderStyleModel",
      "state": {
       "description_width": ""
      }
     },
     "0d4d839e980f40ea9f548adfa6a584e0": {
      "model_module": "@jupyter-widgets/base",
      "model_module_version": "1.2.0",
      "model_name": "LayoutModel",
      "state": {}
     },
     "0dad30f31a29412db4b551200831017d": {
      "model_module": "@jupyter-widgets/controls",
      "model_module_version": "1.5.0",
      "model_name": "IntSliderModel",
      "state": {
       "description": "North:",
       "layout": "IPY_MODEL_bf1ab229505b43cdb185419a2342e5b2",
       "max": 20,
       "min": 1,
       "style": "IPY_MODEL_ebe0c0f8b2d2477991866e331febea2b",
       "value": 10
      }
     },
     "0dce0a9de1eb440eb8f1cbe095c98b35": {
      "model_module": "@jupyter-widgets/base",
      "model_module_version": "1.2.0",
      "model_name": "LayoutModel",
      "state": {}
     },
     "0df87abd097744f58b81e4233648a5e2": {
      "model_module": "@jupyter-widgets/controls",
      "model_module_version": "1.5.0",
      "model_name": "IntSliderModel",
      "state": {
       "description": "South:",
       "layout": "IPY_MODEL_a68bbc2e38264d09a935a3db65da0e26",
       "style": "IPY_MODEL_a2fff51e572c490b963d01c73e135cb7",
       "value": 100
      }
     },
     "0e110b0537474e61b84bd3e4889d97a2": {
      "model_module": "@jupyter-widgets/controls",
      "model_module_version": "1.5.0",
      "model_name": "SliderStyleModel",
      "state": {
       "description_width": ""
      }
     },
     "0e6383ca564e443296f5f35f97cddcae": {
      "model_module": "@jupyter-widgets/base",
      "model_module_version": "1.2.0",
      "model_name": "LayoutModel",
      "state": {}
     },
     "0e7f74e468f444bda57548b02518e428": {
      "model_module": "@jupyter-widgets/controls",
      "model_module_version": "1.5.0",
      "model_name": "SliderStyleModel",
      "state": {
       "description_width": ""
      }
     },
     "0e817dcaa75c4ee2aef6c4b05b5be804": {
      "model_module": "@jupyter-widgets/base",
      "model_module_version": "1.2.0",
      "model_name": "LayoutModel",
      "state": {}
     },
     "0f6ccc0bf81044c8b731908e7f2cfe99": {
      "model_module": "@jupyter-widgets/controls",
      "model_module_version": "1.5.0",
      "model_name": "SliderStyleModel",
      "state": {
       "description_width": ""
      }
     },
     "0f7ead812bc54bdb950e789e4da5fcc0": {
      "model_module": "@jupyter-widgets/controls",
      "model_module_version": "1.5.0",
      "model_name": "SliderStyleModel",
      "state": {
       "description_width": ""
      }
     },
     "0fb43a7b1a6c403892b6809389ed3a90": {
      "model_module": "@jupyter-widgets/controls",
      "model_module_version": "1.5.0",
      "model_name": "IntSliderModel",
      "state": {
       "description": "North:",
       "layout": "IPY_MODEL_3a1763641adc43779402c7cba1d36ac5",
       "max": 28,
       "style": "IPY_MODEL_0d29e95c10f7480f8905f95fcd0e9d29"
      }
     },
     "0fc2cac137ac4174a1c46cf515b178ad": {
      "model_module": "@jupyter-widgets/controls",
      "model_module_version": "1.5.0",
      "model_name": "SliderStyleModel",
      "state": {
       "description_width": ""
      }
     },
     "0fdfffd6bcaa43898dc4509450b4ec64": {
      "model_module": "@jupyter-widgets/controls",
      "model_module_version": "1.5.0",
      "model_name": "IntSliderModel",
      "state": {
       "description": "North:",
       "layout": "IPY_MODEL_f9b5929005d84a21802d85bef23907f0",
       "max": 35,
       "min": 1,
       "style": "IPY_MODEL_6f32b82f84e14693acb2b71445436b3b",
       "value": 10
      }
     },
     "10354b90a63e452795fb40c7b1eab24d": {
      "model_module": "@jupyter-widgets/controls",
      "model_module_version": "1.5.0",
      "model_name": "IntSliderModel",
      "state": {
       "description": "North:",
       "layout": "IPY_MODEL_57a134356bae4b1894b0fee7727d08bd",
       "style": "IPY_MODEL_2ba565e608334fc693d452eb8c5aa94a",
       "value": 10
      }
     },
     "10647fdda75d46aa9eedcb1a1a9d9b17": {
      "model_module": "@jupyter-widgets/controls",
      "model_module_version": "1.5.0",
      "model_name": "SliderStyleModel",
      "state": {
       "description_width": ""
      }
     },
     "111e4f41aa5b4bef841945bae6881ad4": {
      "model_module": "@jupyter-widgets/base",
      "model_module_version": "1.2.0",
      "model_name": "LayoutModel",
      "state": {}
     },
     "1133fda490b04819b2e9fb66357675dc": {
      "model_module": "@jupyter-widgets/controls",
      "model_module_version": "1.5.0",
      "model_name": "SliderStyleModel",
      "state": {
       "description_width": ""
      }
     },
     "118949c4ec2747ab8e33038391eb81ae": {
      "model_module": "@jupyter-widgets/controls",
      "model_module_version": "1.5.0",
      "model_name": "SliderStyleModel",
      "state": {
       "description_width": ""
      }
     },
     "122e88e16e0c4254a66a256562b33023": {
      "model_module": "@jupyter-widgets/base",
      "model_module_version": "1.2.0",
      "model_name": "LayoutModel",
      "state": {}
     },
     "125223f4fafe47d78fd2d44da35128b8": {
      "model_module": "@jupyter-widgets/controls",
      "model_module_version": "1.5.0",
      "model_name": "SliderStyleModel",
      "state": {
       "description_width": ""
      }
     },
     "128dbba711e9487791aac2c00603e7de": {
      "model_module": "@jupyter-widgets/controls",
      "model_module_version": "1.5.0",
      "model_name": "SliderStyleModel",
      "state": {
       "description_width": ""
      }
     },
     "1308355ef67448b1832960aae60e4626": {
      "model_module": "@jupyter-widgets/controls",
      "model_module_version": "1.5.0",
      "model_name": "IntSliderModel",
      "state": {
       "description": "West:",
       "layout": "IPY_MODEL_6641c628b3e446fc982336fd17149b66",
       "max": 25,
       "min": 1,
       "style": "IPY_MODEL_4ef6cc9233754778befae19f5237e833",
       "value": 5
      }
     },
     "1342e654b0c7453eb990b20d6aa0ab90": {
      "model_module": "@jupyter-widgets/controls",
      "model_module_version": "1.5.0",
      "model_name": "SliderStyleModel",
      "state": {
       "description_width": ""
      }
     },
     "13509214d6c0457c95403bfb674e4a88": {
      "model_module": "@jupyter-widgets/base",
      "model_module_version": "1.2.0",
      "model_name": "LayoutModel",
      "state": {}
     },
     "136582d0ae7f48ffbd2b630ecf28591c": {
      "model_module": "@jupyter-widgets/controls",
      "model_module_version": "1.5.0",
      "model_name": "IntSliderModel",
      "state": {
       "description": "North:",
       "layout": "IPY_MODEL_c7fc204b9fea417eab021a0b5460c536",
       "style": "IPY_MODEL_0bc07e017a6b4984ad2475924ed76b33"
      }
     },
     "13705934ef55453f922dee6811b56364": {
      "model_module": "@jupyter-widgets/controls",
      "model_module_version": "1.5.0",
      "model_name": "IntSliderModel",
      "state": {
       "description": "South:",
       "layout": "IPY_MODEL_ddead5705ff141d989a1515433c17a6e",
       "style": "IPY_MODEL_94487041555b450cb86ef21a37ea9446"
      }
     },
     "13a71af4878f4b9f8b6872b56c71f424": {
      "model_module": "@jupyter-widgets/controls",
      "model_module_version": "1.5.0",
      "model_name": "IntSliderModel",
      "state": {
       "description": "West:",
       "layout": "IPY_MODEL_60d56c970768482a862b17edaaa9b6ac",
       "style": "IPY_MODEL_60b334b3fb914b3fbd1691acad6305f3"
      }
     },
     "13b6bbf34bde4a0eb032eb44e42d4f4a": {
      "model_module": "@jupyter-widgets/base",
      "model_module_version": "1.2.0",
      "model_name": "LayoutModel",
      "state": {}
     },
     "14464fa25cc14a0e8a40ce5501920ff0": {
      "model_module": "@jupyter-widgets/controls",
      "model_module_version": "1.5.0",
      "model_name": "IntSliderModel",
      "state": {
       "layout": "IPY_MODEL_27fa3b880bc64a1fabc87875eb134387",
       "max": 73,
       "min": 27,
       "style": "IPY_MODEL_636cc44e0f144d5fb89c5fa43d8b2573",
       "value": 27
      }
     },
     "145f17d48dff47d18d1109cfb68c9440": {
      "model_module": "@jupyter-widgets/controls",
      "model_module_version": "1.5.0",
      "model_name": "SliderStyleModel",
      "state": {
       "description_width": ""
      }
     },
     "14a11c0162a54441b78ff9b64c28870c": {
      "model_module": "@jupyter-widgets/controls",
      "model_module_version": "1.5.0",
      "model_name": "IntSliderModel",
      "state": {
       "description": "Slider 2",
       "layout": "IPY_MODEL_09809808a37e4846a5365ce478dba202",
       "style": "IPY_MODEL_6dad0919a6c944df9c9fa363a7345850",
       "value": 85
      }
     },
     "14dddd16c6ec4c3387dee12cd890be77": {
      "model_module": "@jupyter-widgets/controls",
      "model_module_version": "1.5.0",
      "model_name": "SliderStyleModel",
      "state": {
       "description_width": ""
      }
     },
     "1567cd8cb1474b8bbf5cadf005f7989e": {
      "model_module": "@jupyter-widgets/controls",
      "model_module_version": "1.5.0",
      "model_name": "IntSliderModel",
      "state": {
       "description": "East:",
       "layout": "IPY_MODEL_35589220766d40ec819016dbfdcefb95",
       "style": "IPY_MODEL_1cd7bf975c954da2a4e3062e90ba4dda",
       "value": 75
      }
     },
     "156e22f7f1f543bc8cdb0f1e76fa2f28": {
      "model_module": "@jupyter-widgets/base",
      "model_module_version": "1.2.0",
      "model_name": "LayoutModel",
      "state": {}
     },
     "1579cf8cc8ee403aa9c93769b6a9217e": {
      "model_module": "@jupyter-widgets/controls",
      "model_module_version": "1.5.0",
      "model_name": "SliderStyleModel",
      "state": {
       "description_width": ""
      }
     },
     "15caf68c66b547dba9246640fb3e3d13": {
      "model_module": "@jupyter-widgets/controls",
      "model_module_version": "1.5.0",
      "model_name": "IntSliderModel",
      "state": {
       "description": "West:",
       "layout": "IPY_MODEL_1661642391534bbeacf62a9a0a57c93f",
       "min": 1,
       "style": "IPY_MODEL_3345bd5a012d433e95bae012df562529",
       "value": 26
      }
     },
     "15d8847aea1a4fdebd39bc12b3352a3c": {
      "model_module": "@jupyter-widgets/controls",
      "model_module_version": "1.5.0",
      "model_name": "SliderStyleModel",
      "state": {
       "description_width": ""
      }
     },
     "1626728f134f40c0b8381bd23550751d": {
      "model_module": "@jupyter-widgets/base",
      "model_module_version": "1.2.0",
      "model_name": "LayoutModel",
      "state": {}
     },
     "1661642391534bbeacf62a9a0a57c93f": {
      "model_module": "@jupyter-widgets/base",
      "model_module_version": "1.2.0",
      "model_name": "LayoutModel",
      "state": {}
     },
     "166fab52578544ec952f26cac47343b1": {
      "model_module": "@jupyter-widgets/base",
      "model_module_version": "1.2.0",
      "model_name": "LayoutModel",
      "state": {}
     },
     "167d9823a3b34bf89504968768814026": {
      "model_module": "@jupyter-widgets/base",
      "model_module_version": "1.2.0",
      "model_name": "LayoutModel",
      "state": {}
     },
     "16e0713565bb485da9ba187111bae3fe": {
      "model_module": "@jupyter-widgets/base",
      "model_module_version": "1.2.0",
      "model_name": "LayoutModel",
      "state": {}
     },
     "1710f14152eb46558dbff20da2acc7a9": {
      "model_module": "@jupyter-widgets/base",
      "model_module_version": "1.2.0",
      "model_name": "LayoutModel",
      "state": {}
     },
     "173f0fb61cc5404eb0dcaf5b1c03c3ec": {
      "model_module": "@jupyter-widgets/base",
      "model_module_version": "1.2.0",
      "model_name": "LayoutModel",
      "state": {}
     },
     "1741b2d3c97a4c52986d07c00eea08d5": {
      "model_module": "@jupyter-widgets/base",
      "model_module_version": "1.2.0",
      "model_name": "LayoutModel",
      "state": {}
     },
     "177c06ee5f98433491f2b51f4b5232bb": {
      "model_module": "@jupyter-widgets/base",
      "model_module_version": "1.2.0",
      "model_name": "LayoutModel",
      "state": {}
     },
     "17d58a58d1d84533a32cc3d6f67253ff": {
      "model_module": "@jupyter-widgets/base",
      "model_module_version": "1.2.0",
      "model_name": "LayoutModel",
      "state": {}
     },
     "1816d8009341492db15eb146029fce5b": {
      "model_module": "@jupyter-widgets/controls",
      "model_module_version": "1.5.0",
      "model_name": "IntSliderModel",
      "state": {
       "description": "South:",
       "layout": "IPY_MODEL_5581583999914f229759b6cc5ceb4f97",
       "style": "IPY_MODEL_3961aed6c2824a1e922c3577c5df3c91"
      }
     },
     "182865493cf14504809e1e02ad427001": {
      "model_module": "@jupyter-widgets/base",
      "model_module_version": "1.2.0",
      "model_name": "LayoutModel",
      "state": {}
     },
     "1848dd365a9944ee928ef1b2952f8ec4": {
      "model_module": "@jupyter-widgets/base",
      "model_module_version": "1.2.0",
      "model_name": "LayoutModel",
      "state": {}
     },
     "1883289c6186438c8d0461fe2d0bbc8b": {
      "model_module": "@jupyter-widgets/controls",
      "model_module_version": "1.5.0",
      "model_name": "IntSliderModel",
      "state": {
       "description": "East:",
       "layout": "IPY_MODEL_4fe0eef2125540478b072ef20ff12e17",
       "style": "IPY_MODEL_00c6c7addf2d4d549ea6671c4390b537",
       "value": 75
      }
     },
     "18bb0eaa5e384a868ad333b922b21a62": {
      "model_module": "@jupyter-widgets/controls",
      "model_module_version": "1.5.0",
      "model_name": "SliderStyleModel",
      "state": {
       "description_width": ""
      }
     },
     "18bf1c0e69f0409ab4f91abf693c7020": {
      "model_module": "@jupyter-widgets/base",
      "model_module_version": "1.2.0",
      "model_name": "LayoutModel",
      "state": {}
     },
     "19251b0ddd6642a39399f9fb6281a09b": {
      "model_module": "@jupyter-widgets/controls",
      "model_module_version": "1.5.0",
      "model_name": "IntSliderModel",
      "state": {
       "description": "North:",
       "layout": "IPY_MODEL_56fbb0c7a9664d6b88bb8bca51ac3ff3",
       "max": 69,
       "style": "IPY_MODEL_21147f599d634438865c247fc6c67442",
       "value": 69
      }
     },
     "199271c51ea34a7aafaaad04221a8fe8": {
      "model_module": "@jupyter-widgets/controls",
      "model_module_version": "1.5.0",
      "model_name": "SliderStyleModel",
      "state": {
       "description_width": ""
      }
     },
     "1a105f809e9747b4b5bde7ef350ad613": {
      "model_module": "@jupyter-widgets/controls",
      "model_module_version": "1.5.0",
      "model_name": "IntSliderModel",
      "state": {
       "description": "West:",
       "layout": "IPY_MODEL_dca06d5daf6643a18bdcc5bbd2facb38",
       "style": "IPY_MODEL_0e110b0537474e61b84bd3e4889d97a2",
       "value": 5
      }
     },
     "1a848751118e46eba056f277e3e3c56b": {
      "model_module": "@jupyter-widgets/base",
      "model_module_version": "1.2.0",
      "model_name": "LayoutModel",
      "state": {}
     },
     "1b6f810fa0c64f649a2247a824713568": {
      "model_module": "@jupyter-widgets/controls",
      "model_module_version": "1.5.0",
      "model_name": "IntSliderModel",
      "state": {
       "description": "West:",
       "layout": "IPY_MODEL_d78a4913d07244779a837a6b292e8b6d",
       "style": "IPY_MODEL_9cbf2b340b5e4b18b1ca5afc5dd91ff8"
      }
     },
     "1b84fbf49b644cd4877529e83cf7c729": {
      "model_module": "@jupyter-widgets/controls",
      "model_module_version": "1.5.0",
      "model_name": "IntSliderModel",
      "state": {
       "description": "West:",
       "layout": "IPY_MODEL_40f319bcd2dc4d2491fe0ecec1592aff",
       "max": 25,
       "min": 1,
       "style": "IPY_MODEL_af75542fe35b4bef8f733cfa7415231b",
       "value": 5
      }
     },
     "1c2c4670825c44c4ad7d9b9ac24b5436": {
      "model_module": "@jupyter-widgets/controls",
      "model_module_version": "1.5.0",
      "model_name": "IntSliderModel",
      "state": {
       "description": "North:",
       "layout": "IPY_MODEL_8ad4e73a278f4d9d930dc92d09199922",
       "style": "IPY_MODEL_67a1f9f2bd3643faa8031fb0f4650bc9",
       "value": 62
      }
     },
     "1c5da415ad034b2189c56492fcc0fb1f": {
      "model_module": "@jupyter-widgets/base",
      "model_module_version": "1.2.0",
      "model_name": "LayoutModel",
      "state": {}
     },
     "1c9cbd3e5f2447fea7fc84a2330b7bfb": {
      "model_module": "@jupyter-widgets/base",
      "model_module_version": "1.2.0",
      "model_name": "LayoutModel",
      "state": {}
     },
     "1cc128ce86054e828a423c10c0a92ac0": {
      "model_module": "@jupyter-widgets/controls",
      "model_module_version": "1.5.0",
      "model_name": "IntSliderModel",
      "state": {
       "description": "East:",
       "layout": "IPY_MODEL_4bbfa85713734318ba32d9d3334c3ffa",
       "style": "IPY_MODEL_af6aae8ec7f4463ba7f03042a5de7232",
       "value": 28
      }
     },
     "1cc98aa80a8141c5a97e23899d5bdd8f": {
      "model_module": "@jupyter-widgets/controls",
      "model_module_version": "1.5.0",
      "model_name": "IntSliderModel",
      "state": {
       "description": "South:",
       "layout": "IPY_MODEL_e3c2462cabba46b0a789a312b27b8b5b",
       "style": "IPY_MODEL_cf91d54ffedf4cc0b63cd51b7b7befe2",
       "value": 10
      }
     },
     "1cd7bf975c954da2a4e3062e90ba4dda": {
      "model_module": "@jupyter-widgets/controls",
      "model_module_version": "1.5.0",
      "model_name": "SliderStyleModel",
      "state": {
       "description_width": ""
      }
     },
     "1cf46d3f7d814d07840286439ff19d8e": {
      "model_module": "@jupyter-widgets/controls",
      "model_module_version": "1.5.0",
      "model_name": "IntSliderModel",
      "state": {
       "description": "East:",
       "layout": "IPY_MODEL_be4c12bb93ef4a0294caf4609b8f3f70",
       "style": "IPY_MODEL_a7532c0c879e4410b1ef1ea1bdf03b7a",
       "value": 22
      }
     },
     "1d67cc69abc545d6ba3af67f639beecc": {
      "model_module": "@jupyter-widgets/controls",
      "model_module_version": "1.5.0",
      "model_name": "SliderStyleModel",
      "state": {
       "description_width": ""
      }
     },
     "1d77b7bee8014d019d29d51550bd25c4": {
      "model_module": "@jupyter-widgets/base",
      "model_module_version": "1.2.0",
      "model_name": "LayoutModel",
      "state": {}
     },
     "1db3869ac2344c05ad8e95dada690d6e": {
      "model_module": "@jupyter-widgets/base",
      "model_module_version": "1.2.0",
      "model_name": "LayoutModel",
      "state": {}
     },
     "1e40a885bd394bc4861788bad05be826": {
      "model_module": "@jupyter-widgets/controls",
      "model_module_version": "1.5.0",
      "model_name": "IntSliderModel",
      "state": {
       "description": "East:",
       "layout": "IPY_MODEL_5768005116e2478583d863f71675f40a",
       "style": "IPY_MODEL_88d56bdc283248e79f2bab13621b5e14",
       "value": 57
      }
     },
     "1e64d7c1446649f498c4673fc17b7e40": {
      "model_module": "@jupyter-widgets/controls",
      "model_module_version": "1.5.0",
      "model_name": "IntSliderModel",
      "state": {
       "description": "North:",
       "layout": "IPY_MODEL_af4f64049aae4630b0fea6bd72c3490d",
       "max": 14,
       "style": "IPY_MODEL_46c072967f644e18b5f080bbbca4a16e",
       "value": 14
      }
     },
     "1ed6cb580e7b4ab29c0138576ec19341": {
      "model_module": "@jupyter-widgets/base",
      "model_module_version": "1.2.0",
      "model_name": "LayoutModel",
      "state": {}
     },
     "1ee52e6a2c9b48dfaf6fa91fa91168bf": {
      "model_module": "@jupyter-widgets/base",
      "model_module_version": "1.2.0",
      "model_name": "LayoutModel",
      "state": {}
     },
     "1efc90768bfb486aa1e1b14690d67949": {
      "model_module": "@jupyter-widgets/base",
      "model_module_version": "1.2.0",
      "model_name": "LayoutModel",
      "state": {}
     },
     "1f07583f184a44aa8e8aad3382752d28": {
      "model_module": "@jupyter-widgets/controls",
      "model_module_version": "1.5.0",
      "model_name": "IntSliderModel",
      "state": {
       "description": "East:",
       "layout": "IPY_MODEL_1c5da415ad034b2189c56492fcc0fb1f",
       "style": "IPY_MODEL_669b455ce04543fab40b90f9ff91bd00",
       "value": 75
      }
     },
     "1f07d6e29b3d4bd6b19112ad80071466": {
      "model_module": "@jupyter-widgets/controls",
      "model_module_version": "1.5.0",
      "model_name": "SliderStyleModel",
      "state": {
       "description_width": ""
      }
     },
     "1f0c173e91c14f5797e1d82b5384a126": {
      "model_module": "@jupyter-widgets/base",
      "model_module_version": "1.2.0",
      "model_name": "LayoutModel",
      "state": {}
     },
     "1f1ffed4f95c409084c08b0a63ad8d1a": {
      "model_module": "@jupyter-widgets/controls",
      "model_module_version": "1.5.0",
      "model_name": "IntSliderModel",
      "state": {
       "description": "West:",
       "layout": "IPY_MODEL_0ca83fa0e37543899f5273253be96419",
       "style": "IPY_MODEL_353062cac66d4ff9acacfec5f28d474b"
      }
     },
     "20403e9a78ea4f2f8c88755de9ba9755": {
      "model_module": "@jupyter-widgets/base",
      "model_module_version": "1.2.0",
      "model_name": "LayoutModel",
      "state": {}
     },
     "204aa121535344b09374b4894ca41e2d": {
      "model_module": "@jupyter-widgets/controls",
      "model_module_version": "1.5.0",
      "model_name": "IntSliderModel",
      "state": {
       "description": "East:",
       "layout": "IPY_MODEL_845f1d67eb324a2cbb5b603ef2bd03b4",
       "min": 1,
       "style": "IPY_MODEL_40c028e8926a416c99a9b4ecab8a1bfa",
       "value": 75
      }
     },
     "204d30d9898e432f8a11031d58cdd4d7": {
      "model_module": "@jupyter-widgets/base",
      "model_module_version": "1.2.0",
      "model_name": "LayoutModel",
      "state": {}
     },
     "2096d636e3dc4bb891ed836c6ae04e87": {
      "model_module": "@jupyter-widgets/base",
      "model_module_version": "1.2.0",
      "model_name": "LayoutModel",
      "state": {}
     },
     "21147f599d634438865c247fc6c67442": {
      "model_module": "@jupyter-widgets/controls",
      "model_module_version": "1.5.0",
      "model_name": "SliderStyleModel",
      "state": {
       "description_width": ""
      }
     },
     "212b1e057446491c89da8f0d69ab834c": {
      "model_module": "@jupyter-widgets/controls",
      "model_module_version": "1.5.0",
      "model_name": "IntSliderModel",
      "state": {
       "description": "North:",
       "layout": "IPY_MODEL_f4aea03c45734d1a8fea80b2d9bab6c3",
       "style": "IPY_MODEL_5d5957ee9a7240bfb7297011246d6353"
      }
     },
     "213a3cffffa4482ba21b72fb5aebb510": {
      "model_module": "@jupyter-widgets/controls",
      "model_module_version": "1.5.0",
      "model_name": "IntSliderModel",
      "state": {
       "description": "South:",
       "layout": "IPY_MODEL_99418da0671c45188306ec871dd72aa5",
       "style": "IPY_MODEL_b3572808fe554cc2a2a04eefaf50d502"
      }
     },
     "22fa5e4c9879453d87de4060702f23be": {
      "model_module": "@jupyter-widgets/controls",
      "model_module_version": "1.5.0",
      "model_name": "IntSliderModel",
      "state": {
       "description": "North:",
       "layout": "IPY_MODEL_5b008ed3ef314cc38ce0143b7ce78e65",
       "style": "IPY_MODEL_5bfa73e8f1e348c6bacde853b957858d",
       "value": 10
      }
     },
     "233cc998cb6e4fde903b44c6bc107b8c": {
      "model_module": "@jupyter-widgets/controls",
      "model_module_version": "1.5.0",
      "model_name": "SliderStyleModel",
      "state": {
       "description_width": ""
      }
     },
     "24a6be15ce57470cab9adc9f36ad0c56": {
      "model_module": "@jupyter-widgets/controls",
      "model_module_version": "1.5.0",
      "model_name": "IntSliderModel",
      "state": {
       "description": "South:",
       "layout": "IPY_MODEL_d17eb7f5dabe433f95016311fc58f8e9",
       "max": 10,
       "min": 1,
       "style": "IPY_MODEL_071238a044d640fab05b81323d5c910a",
       "value": 10
      }
     },
     "2509c7d87d7b49b1ba67e1d8415e9097": {
      "model_module": "@jupyter-widgets/controls",
      "model_module_version": "1.5.0",
      "model_name": "IntSliderModel",
      "state": {
       "layout": "IPY_MODEL_1ee52e6a2c9b48dfaf6fa91fa91168bf",
       "style": "IPY_MODEL_5c5894dbdb2c4e9cb4075470e7d2566d",
       "value": 52
      }
     },
     "252d0a275764450e809e6caa281258e1": {
      "model_module": "@jupyter-widgets/controls",
      "model_module_version": "1.5.0",
      "model_name": "SliderStyleModel",
      "state": {
       "description_width": ""
      }
     },
     "2532c68784e747d9a28ea9ff5d5fbec3": {
      "model_module": "@jupyter-widgets/controls",
      "model_module_version": "1.5.0",
      "model_name": "SliderStyleModel",
      "state": {
       "description_width": ""
      }
     },
     "257e50324828479ebf515fd01562a654": {
      "model_module": "@jupyter-widgets/base",
      "model_module_version": "1.2.0",
      "model_name": "LayoutModel",
      "state": {}
     },
     "25d81cff5f1943c18e5f77aa88c4ea4b": {
      "model_module": "@jupyter-widgets/base",
      "model_module_version": "1.2.0",
      "model_name": "LayoutModel",
      "state": {}
     },
     "2635c3a92f974614a612adc77ea58337": {
      "model_module": "@jupyter-widgets/base",
      "model_module_version": "1.2.0",
      "model_name": "LayoutModel",
      "state": {}
     },
     "263f14ee3d614ac8b70f90e9bb79cece": {
      "model_module": "@jupyter-widgets/controls",
      "model_module_version": "1.5.0",
      "model_name": "SliderStyleModel",
      "state": {
       "description_width": ""
      }
     },
     "27189ac578f047a5b155326ac1d3c7d7": {
      "model_module": "@jupyter-widgets/controls",
      "model_module_version": "1.5.0",
      "model_name": "SliderStyleModel",
      "state": {
       "description_width": ""
      }
     },
     "27fa3b880bc64a1fabc87875eb134387": {
      "model_module": "@jupyter-widgets/base",
      "model_module_version": "1.2.0",
      "model_name": "LayoutModel",
      "state": {}
     },
     "288aff9e8a9d4808865519fb3ee8aa54": {
      "model_module": "@jupyter-widgets/base",
      "model_module_version": "1.2.0",
      "model_name": "LayoutModel",
      "state": {}
     },
     "28d2426dfd8b4353b3d0b9c05e9fe3e1": {
      "model_module": "@jupyter-widgets/controls",
      "model_module_version": "1.5.0",
      "model_name": "IntSliderModel",
      "state": {
       "description": "East:",
       "layout": "IPY_MODEL_2d4d44b69fdf4242a964103605c2ec65",
       "style": "IPY_MODEL_32c72c990bc4463797a39bf044e28fe1",
       "value": 75
      }
     },
     "2923fde20dd74f97acbdea4ff36c57e9": {
      "model_module": "@jupyter-widgets/controls",
      "model_module_version": "1.5.0",
      "model_name": "SliderStyleModel",
      "state": {
       "description_width": ""
      }
     },
     "299fc5d6912a48ba93b7ab77eb52cae5": {
      "model_module": "@jupyter-widgets/base",
      "model_module_version": "1.2.0",
      "model_name": "LayoutModel",
      "state": {}
     },
     "29b1e5a87f9f4c06a5e714f5ffbc27bc": {
      "model_module": "@jupyter-widgets/controls",
      "model_module_version": "1.5.0",
      "model_name": "IntSliderModel",
      "state": {
       "description": "East:",
       "layout": "IPY_MODEL_af05a73da07c443da6d418e54efc5167",
       "min": 1,
       "style": "IPY_MODEL_1579cf8cc8ee403aa9c93769b6a9217e",
       "value": 75
      }
     },
     "29db0a455d8e4c6aadde88f0d2b56a39": {
      "model_module": "@jupyter-widgets/controls",
      "model_module_version": "1.5.0",
      "model_name": "IntSliderModel",
      "state": {
       "description": "East:",
       "layout": "IPY_MODEL_c2fe50473dd84d8c881bdf37a32f699d",
       "style": "IPY_MODEL_ab9744f872c4441eb2e7a5abbf225de8",
       "value": 72
      }
     },
     "29e640eb254c465c90412b26efaa9a20": {
      "model_module": "@jupyter-widgets/base",
      "model_module_version": "1.2.0",
      "model_name": "LayoutModel",
      "state": {}
     },
     "29ea589df647420cb40e422b6d922402": {
      "model_module": "@jupyter-widgets/controls",
      "model_module_version": "1.5.0",
      "model_name": "IntSliderModel",
      "state": {
       "description": "North:",
       "layout": "IPY_MODEL_f75a0f971bed443aafd30cfe30093ded",
       "style": "IPY_MODEL_95b42870db404fb3a1139a173b74b779",
       "value": 10
      }
     },
     "2a20d87b74d2442f9b1e2de11606255b": {
      "model_module": "@jupyter-widgets/base",
      "model_module_version": "1.2.0",
      "model_name": "LayoutModel",
      "state": {}
     },
     "2a7c80f7378a4297874f27af75d9f2ad": {
      "model_module": "@jupyter-widgets/controls",
      "model_module_version": "1.5.0",
      "model_name": "IntSliderModel",
      "state": {
       "description": "West:",
       "layout": "IPY_MODEL_6da1b4836a5546b4be7fe6bfcfa09ed6",
       "max": 25,
       "min": 1,
       "style": "IPY_MODEL_3b339109e20840a9ada99f2516b3ad91",
       "value": 14
      }
     },
     "2a9eda2929d44d06bc1b97de2ca16c05": {
      "model_module": "@jupyter-widgets/controls",
      "model_module_version": "1.5.0",
      "model_name": "IntSliderModel",
      "state": {
       "layout": "IPY_MODEL_c0e4c41709bc49478cea2cdb4212df8a",
       "style": "IPY_MODEL_76b009839721483ab3020cc0384c81ec",
       "value": 100
      }
     },
     "2afd9727cb0342b7a83c29c778ed1484": {
      "model_module": "@jupyter-widgets/controls",
      "model_module_version": "1.5.0",
      "model_name": "SliderStyleModel",
      "state": {
       "description_width": ""
      }
     },
     "2b036ead2de2486eb74e1a679778aa75": {
      "model_module": "@jupyter-widgets/base",
      "model_module_version": "1.2.0",
      "model_name": "LayoutModel",
      "state": {}
     },
     "2b4efd830d144424b5999c0cfecb607c": {
      "model_module": "@jupyter-widgets/base",
      "model_module_version": "1.2.0",
      "model_name": "LayoutModel",
      "state": {}
     },
     "2ba565e608334fc693d452eb8c5aa94a": {
      "model_module": "@jupyter-widgets/controls",
      "model_module_version": "1.5.0",
      "model_name": "SliderStyleModel",
      "state": {
       "description_width": ""
      }
     },
     "2bcbfd7e37ac42df82af4914a81ade01": {
      "model_module": "@jupyter-widgets/base",
      "model_module_version": "1.2.0",
      "model_name": "LayoutModel",
      "state": {}
     },
     "2bec5385bee54900a3e8918273a43ede": {
      "model_module": "@jupyter-widgets/controls",
      "model_module_version": "1.5.0",
      "model_name": "SliderStyleModel",
      "state": {
       "description_width": ""
      }
     },
     "2c1e76d697e6489fa07781216b8acca6": {
      "model_module": "@jupyter-widgets/controls",
      "model_module_version": "1.5.0",
      "model_name": "IntSliderModel",
      "state": {
       "description": "East:",
       "layout": "IPY_MODEL_1848dd365a9944ee928ef1b2952f8ec4",
       "style": "IPY_MODEL_59a67350745e4121bde4f1035ddced05",
       "value": 36
      }
     },
     "2ce842fc4bd34530ba323419702cd74f": {
      "model_module": "@jupyter-widgets/controls",
      "model_module_version": "1.5.0",
      "model_name": "SliderStyleModel",
      "state": {
       "description_width": ""
      }
     },
     "2d132665fa13418cba5e96e183036f1b": {
      "model_module": "@jupyter-widgets/controls",
      "model_module_version": "1.5.0",
      "model_name": "SliderStyleModel",
      "state": {
       "description_width": ""
      }
     },
     "2d4d44b69fdf4242a964103605c2ec65": {
      "model_module": "@jupyter-widgets/base",
      "model_module_version": "1.2.0",
      "model_name": "LayoutModel",
      "state": {}
     },
     "2d5d46f1382b456897f191ab38b91efd": {
      "model_module": "@jupyter-widgets/controls",
      "model_module_version": "1.5.0",
      "model_name": "IntSliderModel",
      "state": {
       "description": "North:",
       "layout": "IPY_MODEL_7d77695e84944e66bf29c3eaa2f6dd82",
       "max": 20,
       "min": 1,
       "style": "IPY_MODEL_4faeb756e1c04557877513828e007ce2",
       "value": 10
      }
     },
     "2da304b266734aa28fb7b9e4ba4e713a": {
      "model_module": "@jupyter-widgets/controls",
      "model_module_version": "1.5.0",
      "model_name": "SliderStyleModel",
      "state": {
       "description_width": ""
      }
     },
     "2dcc68594f1d4b3c8c9fa58d2a28501b": {
      "model_module": "@jupyter-widgets/controls",
      "model_module_version": "1.5.0",
      "model_name": "SliderStyleModel",
      "state": {
       "description_width": ""
      }
     },
     "2e7a303f61274777b5399ffb6ee55418": {
      "model_module": "@jupyter-widgets/controls",
      "model_module_version": "1.5.0",
      "model_name": "IntSliderModel",
      "state": {
       "description": "South:",
       "layout": "IPY_MODEL_555d51c17e2242fd93c37a0042ca8fee",
       "style": "IPY_MODEL_7222d8dcd2124aa898eb16a938dd0e87"
      }
     },
     "2eb9ec613da2455e94daccb4ad8f1648": {
      "model_module": "@jupyter-widgets/controls",
      "model_module_version": "1.5.0",
      "model_name": "SliderStyleModel",
      "state": {
       "description_width": ""
      }
     },
     "2efe8e13cf774b73ae7f0b6b6e657898": {
      "model_module": "@jupyter-widgets/controls",
      "model_module_version": "1.5.0",
      "model_name": "SliderStyleModel",
      "state": {
       "description_width": ""
      }
     },
     "2f07df8e6b8b44899063d4f589446d14": {
      "model_module": "@jupyter-widgets/controls",
      "model_module_version": "1.5.0",
      "model_name": "IntSliderModel",
      "state": {
       "description": "West:",
       "layout": "IPY_MODEL_0911d53584da4f52a93229dc415224cd",
       "max": 25,
       "min": 1,
       "style": "IPY_MODEL_31e8e713ae36486bae3f24886d9c037b",
       "value": 5
      }
     },
     "2f705a26f30b4deba18609b48d16dc42": {
      "model_module": "@jupyter-widgets/controls",
      "model_module_version": "1.5.0",
      "model_name": "IntSliderModel",
      "state": {
       "description": "South:",
       "layout": "IPY_MODEL_9ad2b06a7ff84087ba769ed7932c66a0",
       "style": "IPY_MODEL_8a967f51daf44f8fa4306d938e29ed46"
      }
     },
     "2f7c07d9bc6a45498ed1a59b7ab68f05": {
      "model_module": "@jupyter-widgets/controls",
      "model_module_version": "1.5.0",
      "model_name": "IntSliderModel",
      "state": {
       "description": "South:",
       "layout": "IPY_MODEL_a68b9f75e89b4e8b8ae0f893ee02ddd1",
       "max": 16,
       "style": "IPY_MODEL_aa09a5cca74b4fe8bea18c59e2ac3704",
       "value": 16
      }
     },
     "309c02d5a4804a77a8cfab8eee281228": {
      "model_module": "@jupyter-widgets/controls",
      "model_module_version": "1.5.0",
      "model_name": "SliderStyleModel",
      "state": {
       "description_width": ""
      }
     },
     "316dd892a5264768a674c8c9b39aab1e": {
      "model_module": "@jupyter-widgets/controls",
      "model_module_version": "1.5.0",
      "model_name": "IntSliderModel",
      "state": {
       "description": "South:",
       "layout": "IPY_MODEL_5f48bddf66f44b2f9e3077aed8daf23c",
       "style": "IPY_MODEL_31ff521a12f74957869780acde35397c",
       "value": 10
      }
     },
     "318dbe71bb3b4f4f883f17b33716d12b": {
      "model_module": "@jupyter-widgets/controls",
      "model_module_version": "1.5.0",
      "model_name": "SliderStyleModel",
      "state": {
       "description_width": ""
      }
     },
     "31e8e713ae36486bae3f24886d9c037b": {
      "model_module": "@jupyter-widgets/controls",
      "model_module_version": "1.5.0",
      "model_name": "SliderStyleModel",
      "state": {
       "description_width": ""
      }
     },
     "31ff521a12f74957869780acde35397c": {
      "model_module": "@jupyter-widgets/controls",
      "model_module_version": "1.5.0",
      "model_name": "SliderStyleModel",
      "state": {
       "description_width": ""
      }
     },
     "322996ca1a0445a599bcbde2ffa4eeea": {
      "model_module": "@jupyter-widgets/controls",
      "model_module_version": "1.5.0",
      "model_name": "SliderStyleModel",
      "state": {
       "description_width": ""
      }
     },
     "32c72c990bc4463797a39bf044e28fe1": {
      "model_module": "@jupyter-widgets/controls",
      "model_module_version": "1.5.0",
      "model_name": "SliderStyleModel",
      "state": {
       "description_width": ""
      }
     },
     "32f66b09fb9744b096e5f0fe50ae1780": {
      "model_module": "@jupyter-widgets/controls",
      "model_module_version": "1.5.0",
      "model_name": "IntSliderModel",
      "state": {
       "description": "Particles:",
       "layout": "IPY_MODEL_348e4942e13f4c199e2a4ba78e15dfec",
       "max": 5000,
       "min": 1,
       "style": "IPY_MODEL_4e042cc2f9bb4b7a9c4335b62fd96c6a",
       "value": 5000
      }
     },
     "3345bd5a012d433e95bae012df562529": {
      "model_module": "@jupyter-widgets/controls",
      "model_module_version": "1.5.0",
      "model_name": "SliderStyleModel",
      "state": {
       "description_width": ""
      }
     },
     "33bccced14d0454eae108591664285cc": {
      "model_module": "@jupyter-widgets/base",
      "model_module_version": "1.2.0",
      "model_name": "LayoutModel",
      "state": {}
     },
     "341868817fac43fca4c9066bb1ed56fe": {
      "model_module": "@jupyter-widgets/base",
      "model_module_version": "1.2.0",
      "model_name": "LayoutModel",
      "state": {}
     },
     "34554c0b96834b6c941c99860874fe59": {
      "model_module": "@jupyter-widgets/controls",
      "model_module_version": "1.5.0",
      "model_name": "SliderStyleModel",
      "state": {
       "description_width": ""
      }
     },
     "345831bf79fc4666be7c309308292b5c": {
      "model_module": "@jupyter-widgets/controls",
      "model_module_version": "1.5.0",
      "model_name": "SliderStyleModel",
      "state": {
       "description_width": ""
      }
     },
     "346e6a81c70246d4bc788c9ba844847a": {
      "model_module": "@jupyter-widgets/controls",
      "model_module_version": "1.5.0",
      "model_name": "IntSliderModel",
      "state": {
       "description": "Particles:",
       "layout": "IPY_MODEL_9f758ec541f647ae936c558d4540cc38",
       "max": 5000,
       "min": 1,
       "style": "IPY_MODEL_c0e14db76b004e078f9a784eedfc5ec8",
       "value": 5000
      }
     },
     "348e4942e13f4c199e2a4ba78e15dfec": {
      "model_module": "@jupyter-widgets/base",
      "model_module_version": "1.2.0",
      "model_name": "LayoutModel",
      "state": {}
     },
     "349d7cda1c504df3a966f965ae58da1f": {
      "model_module": "@jupyter-widgets/controls",
      "model_module_version": "1.5.0",
      "model_name": "IntSliderModel",
      "state": {
       "layout": "IPY_MODEL_a1f285bb5d744acab1fd22c022218a1a",
       "style": "IPY_MODEL_b0cdaa16d95b4280906bbfae02a85e3a",
       "value": 7
      }
     },
     "34e36f8a1ffa4463904bd3ac31e7d19a": {
      "model_module": "@jupyter-widgets/controls",
      "model_module_version": "1.5.0",
      "model_name": "SliderStyleModel",
      "state": {
       "description_width": ""
      }
     },
     "353062cac66d4ff9acacfec5f28d474b": {
      "model_module": "@jupyter-widgets/controls",
      "model_module_version": "1.5.0",
      "model_name": "SliderStyleModel",
      "state": {
       "description_width": ""
      }
     },
     "35589220766d40ec819016dbfdcefb95": {
      "model_module": "@jupyter-widgets/base",
      "model_module_version": "1.2.0",
      "model_name": "LayoutModel",
      "state": {}
     },
     "3575ecd50fd5429e8b9d67b41605dab8": {
      "model_module": "@jupyter-widgets/controls",
      "model_module_version": "1.5.0",
      "model_name": "IntSliderModel",
      "state": {
       "description": "South:",
       "layout": "IPY_MODEL_de13137e92f545a886c63ea61debf717",
       "style": "IPY_MODEL_77c60a6125cb4d9584f5f21600257a68"
      }
     },
     "35a2dbef007f4f91ac276d36d250b2ef": {
      "model_module": "@jupyter-widgets/controls",
      "model_module_version": "1.5.0",
      "model_name": "IntSliderModel",
      "state": {
       "description": "North:",
       "layout": "IPY_MODEL_78a856da419141b3b9063dad21563db5",
       "style": "IPY_MODEL_18bb0eaa5e384a868ad333b922b21a62",
       "value": 100
      }
     },
     "35a656aef4ac48a18732c6cda041dae4": {
      "model_module": "@jupyter-widgets/controls",
      "model_module_version": "1.5.0",
      "model_name": "SliderStyleModel",
      "state": {
       "description_width": ""
      }
     },
     "35dc87aac2094fdc85eb259984c079b5": {
      "model_module": "@jupyter-widgets/controls",
      "model_module_version": "1.5.0",
      "model_name": "SliderStyleModel",
      "state": {
       "description_width": ""
      }
     },
     "365b737e4f16464c81ef5fb2ca17c018": {
      "model_module": "@jupyter-widgets/controls",
      "model_module_version": "1.5.0",
      "model_name": "SliderStyleModel",
      "state": {
       "description_width": ""
      }
     },
     "365ca9f3f313463cb9b68bd7840f6a44": {
      "model_module": "@jupyter-widgets/base",
      "model_module_version": "1.2.0",
      "model_name": "LayoutModel",
      "state": {}
     },
     "36b0bd40aa0f45ada94bd74dcd114d2f": {
      "model_module": "@jupyter-widgets/controls",
      "model_module_version": "1.5.0",
      "model_name": "IntSliderModel",
      "state": {
       "description": "North:",
       "layout": "IPY_MODEL_453cc4dd2dd6497095502a221a7667d1",
       "max": 18,
       "style": "IPY_MODEL_00c3a8d92fa44ab59343d3bdd436af9a",
       "value": 18
      }
     },
     "37caa8cad46b48e7b569d2c237061132": {
      "model_module": "@jupyter-widgets/controls",
      "model_module_version": "1.5.0",
      "model_name": "IntSliderModel",
      "state": {
       "description": "South:",
       "layout": "IPY_MODEL_29e640eb254c465c90412b26efaa9a20",
       "style": "IPY_MODEL_35dc87aac2094fdc85eb259984c079b5"
      }
     },
     "391d0d270f014692bf57a5d930fe982e": {
      "model_module": "@jupyter-widgets/base",
      "model_module_version": "1.2.0",
      "model_name": "LayoutModel",
      "state": {}
     },
     "3961aed6c2824a1e922c3577c5df3c91": {
      "model_module": "@jupyter-widgets/controls",
      "model_module_version": "1.5.0",
      "model_name": "SliderStyleModel",
      "state": {
       "description_width": ""
      }
     },
     "398ea1d7f4054d9b8fc31e9084e6adec": {
      "model_module": "@jupyter-widgets/controls",
      "model_module_version": "1.5.0",
      "model_name": "SliderStyleModel",
      "state": {
       "description_width": ""
      }
     },
     "39bf4b5c2e0b46d69f33ab6f1abc1ee6": {
      "model_module": "@jupyter-widgets/controls",
      "model_module_version": "1.5.0",
      "model_name": "IntSliderModel",
      "state": {
       "description": "South:",
       "layout": "IPY_MODEL_4203ac9dfa664a52a76e9d5c82027624",
       "max": 13,
       "style": "IPY_MODEL_97f95e5a5d8543ff92f847306c742540"
      }
     },
     "39dbc00239d44ed7896a1adec5550538": {
      "model_module": "@jupyter-widgets/controls",
      "model_module_version": "1.5.0",
      "model_name": "SliderStyleModel",
      "state": {
       "description_width": ""
      }
     },
     "3a1763641adc43779402c7cba1d36ac5": {
      "model_module": "@jupyter-widgets/base",
      "model_module_version": "1.2.0",
      "model_name": "LayoutModel",
      "state": {}
     },
     "3a776736603c467b9795ac1e223a24f6": {
      "model_module": "@jupyter-widgets/controls",
      "model_module_version": "1.5.0",
      "model_name": "SliderStyleModel",
      "state": {
       "description_width": ""
      }
     },
     "3b0bf4faffb244beb7eb8ae378bc7406": {
      "model_module": "@jupyter-widgets/controls",
      "model_module_version": "1.5.0",
      "model_name": "DescriptionStyleModel",
      "state": {
       "description_width": ""
      }
     },
     "3b307857b08244b282db4baf4ccab2b2": {
      "model_module": "@jupyter-widgets/controls",
      "model_module_version": "1.5.0",
      "model_name": "SliderStyleModel",
      "state": {
       "description_width": ""
      }
     },
     "3b339109e20840a9ada99f2516b3ad91": {
      "model_module": "@jupyter-widgets/controls",
      "model_module_version": "1.5.0",
      "model_name": "SliderStyleModel",
      "state": {
       "description_width": ""
      }
     },
     "3b367d9514984b1db1d22e8f67dbbcd2": {
      "model_module": "@jupyter-widgets/controls",
      "model_module_version": "1.5.0",
      "model_name": "IntSliderModel",
      "state": {
       "description": "West:",
       "layout": "IPY_MODEL_c5e45f9e35004a40bcaf26da859e08d2",
       "style": "IPY_MODEL_7a9d7c36bcfc43e1abf4faf76b30c2e5"
      }
     },
     "3b69e689d8494a048c9c1adee3ff9d96": {
      "model_module": "@jupyter-widgets/base",
      "model_module_version": "1.2.0",
      "model_name": "LayoutModel",
      "state": {}
     },
     "3b763c91ca264ff5a2f069d4dc34993b": {
      "model_module": "@jupyter-widgets/controls",
      "model_module_version": "1.5.0",
      "model_name": "SliderStyleModel",
      "state": {
       "description_width": ""
      }
     },
     "3b95e4d36df845b2b8dab002ac2cdeba": {
      "model_module": "@jupyter-widgets/controls",
      "model_module_version": "1.5.0",
      "model_name": "IntSliderModel",
      "state": {
       "description": "West:",
       "layout": "IPY_MODEL_e37f7b9dfe2842dfade01848ca576240",
       "max": 24,
       "style": "IPY_MODEL_acdb844f8f9c43b0a626461499fb82b1",
       "value": 15
      }
     },
     "3c40dc2dfcfc45f0b9d9bff8339914fe": {
      "model_module": "@jupyter-widgets/controls",
      "model_module_version": "1.5.0",
      "model_name": "SliderStyleModel",
      "state": {
       "description_width": ""
      }
     },
     "3c49ce2fa96649109f9974e7f3f90b8d": {
      "model_module": "@jupyter-widgets/controls",
      "model_module_version": "1.5.0",
      "model_name": "IntSliderModel",
      "state": {
       "description": "West:",
       "layout": "IPY_MODEL_a1b3d5f6e2ab457caa27db8e6cec6c8c",
       "max": 25,
       "min": 1,
       "style": "IPY_MODEL_14dddd16c6ec4c3387dee12cd890be77",
       "value": 5
      }
     },
     "3cd63772334f485fbee006e81af3fc79": {
      "model_module": "@jupyter-widgets/controls",
      "model_module_version": "1.5.0",
      "model_name": "SliderStyleModel",
      "state": {
       "description_width": ""
      }
     },
     "3cff8244de8b46e38c2b3bb3497f58b4": {
      "model_module": "@jupyter-widgets/controls",
      "model_module_version": "1.5.0",
      "model_name": "IntSliderModel",
      "state": {
       "layout": "IPY_MODEL_1626728f134f40c0b8381bd23550751d",
       "style": "IPY_MODEL_61063c19639b4a7e8ec68c805b67e60f",
       "value": 7
      }
     },
     "3d56202c2af34bf1a676cfbc9ac28a1c": {
      "model_module": "@jupyter-widgets/controls",
      "model_module_version": "1.5.0",
      "model_name": "SliderStyleModel",
      "state": {
       "description_width": ""
      }
     },
     "3d5965333ac74129ab5cb72bd0a0c6a3": {
      "model_module": "@jupyter-widgets/controls",
      "model_module_version": "1.5.0",
      "model_name": "SliderStyleModel",
      "state": {
       "description_width": ""
      }
     },
     "3d751205af13466baefe76fe2837f5b4": {
      "model_module": "@jupyter-widgets/controls",
      "model_module_version": "1.5.0",
      "model_name": "IntSliderModel",
      "state": {
       "description": "Particles:",
       "layout": "IPY_MODEL_8660e52eeb1e408a915de97eff47bc6a",
       "max": 5000,
       "min": 1,
       "style": "IPY_MODEL_309c02d5a4804a77a8cfab8eee281228",
       "value": 901
      }
     },
     "3d8caeee22e747dc9baea7d05745631a": {
      "model_module": "@jupyter-widgets/controls",
      "model_module_version": "1.5.0",
      "model_name": "IntSliderModel",
      "state": {
       "description": "East:",
       "layout": "IPY_MODEL_a3e3cc34998349f0b3c98e112b91d156",
       "style": "IPY_MODEL_ea10d3b770424cfabc72ad0b03db1711",
       "value": 45
      }
     },
     "3da5ab480d7e4ec7aaae6254b3c6a1c0": {
      "model_module": "@jupyter-widgets/controls",
      "model_module_version": "1.5.0",
      "model_name": "SliderStyleModel",
      "state": {
       "description_width": ""
      }
     },
     "3dc7252aeacf448e895f4c529bf55b4d": {
      "model_module": "@jupyter-widgets/controls",
      "model_module_version": "1.5.0",
      "model_name": "SliderStyleModel",
      "state": {
       "description_width": ""
      }
     },
     "3dde8b38bf2346e0af0ba0e12a0504c8": {
      "model_module": "@jupyter-widgets/controls",
      "model_module_version": "1.5.0",
      "model_name": "SliderStyleModel",
      "state": {
       "description_width": ""
      }
     },
     "3f6c5dc049dc4ee89dae890f53008a70": {
      "model_module": "@jupyter-widgets/controls",
      "model_module_version": "1.5.0",
      "model_name": "SliderStyleModel",
      "state": {
       "description_width": ""
      }
     },
     "40204fed84ac4627b634d6cbf2c537ce": {
      "model_module": "@jupyter-widgets/controls",
      "model_module_version": "1.5.0",
      "model_name": "IntSliderModel",
      "state": {
       "description": "Particles:",
       "layout": "IPY_MODEL_f88712098b5d459a8c3369995d5bbedc",
       "max": 5000,
       "min": 1,
       "style": "IPY_MODEL_ce709be0bc954ad391c2247208c3250a",
       "value": 5000
      }
     },
     "40b848545411416285474d22c9937994": {
      "model_module": "@jupyter-widgets/controls",
      "model_module_version": "1.5.0",
      "model_name": "SliderStyleModel",
      "state": {
       "description_width": ""
      }
     },
     "40bfbd2cddc040e5a2fe0b2936792ce8": {
      "model_module": "@jupyter-widgets/controls",
      "model_module_version": "1.5.0",
      "model_name": "IntSliderModel",
      "state": {
       "description": "South:",
       "layout": "IPY_MODEL_69cdca173d824649b67fc6a93386d257",
       "style": "IPY_MODEL_128dbba711e9487791aac2c00603e7de"
      }
     },
     "40c028e8926a416c99a9b4ecab8a1bfa": {
      "model_module": "@jupyter-widgets/controls",
      "model_module_version": "1.5.0",
      "model_name": "SliderStyleModel",
      "state": {
       "description_width": ""
      }
     },
     "40f319bcd2dc4d2491fe0ecec1592aff": {
      "model_module": "@jupyter-widgets/base",
      "model_module_version": "1.2.0",
      "model_name": "LayoutModel",
      "state": {}
     },
     "41002ef9723c4badbc22e1264ff2d202": {
      "model_module": "@jupyter-widgets/controls",
      "model_module_version": "1.5.0",
      "model_name": "IntSliderModel",
      "state": {
       "description": "Particles:",
       "layout": "IPY_MODEL_db04a3395337431d88d52527908ede5e",
       "max": 5000,
       "min": 1,
       "style": "IPY_MODEL_f29c12c52b68454c98a5c600e12c7092",
       "value": 5000
      }
     },
     "419009ec3a764fb3b86abd6437600858": {
      "model_module": "@jupyter-widgets/controls",
      "model_module_version": "1.5.0",
      "model_name": "IntSliderModel",
      "state": {
       "description": "South:",
       "layout": "IPY_MODEL_da35e2c98df447c6b1211494af7d029d",
       "style": "IPY_MODEL_4e5a3ff9e06042fb8f79e93aebd3f76b"
      }
     },
     "41bee746ffa74d1c8e724f8a29105aef": {
      "model_module": "@jupyter-widgets/controls",
      "model_module_version": "1.5.0",
      "model_name": "IntSliderModel",
      "state": {
       "description": "South:",
       "layout": "IPY_MODEL_83500b27d60b46e4908810f4ccc8d89a",
       "max": 25,
       "min": 1,
       "style": "IPY_MODEL_125223f4fafe47d78fd2d44da35128b8",
       "value": 25
      }
     },
     "41c53c13fb254eaf9132f84fa302c0f6": {
      "model_module": "@jupyter-widgets/controls",
      "model_module_version": "1.5.0",
      "model_name": "IntSliderModel",
      "state": {
       "description": "North:",
       "layout": "IPY_MODEL_675f6e309d44445cbe162a16ac5d77a5",
       "max": 28,
       "style": "IPY_MODEL_9c000759d9af43ab87f85fd5a92122b0"
      }
     },
     "4203ac9dfa664a52a76e9d5c82027624": {
      "model_module": "@jupyter-widgets/base",
      "model_module_version": "1.2.0",
      "model_name": "LayoutModel",
      "state": {}
     },
     "422facf2ebdd4068a6266da5f39939a8": {
      "model_module": "@jupyter-widgets/controls",
      "model_module_version": "1.5.0",
      "model_name": "SliderStyleModel",
      "state": {
       "description_width": ""
      }
     },
     "425774ed65274aed862a2ffceac5aaaa": {
      "model_module": "@jupyter-widgets/base",
      "model_module_version": "1.2.0",
      "model_name": "LayoutModel",
      "state": {}
     },
     "42612b0f11784ff69af6a42d937269e6": {
      "model_module": "@jupyter-widgets/base",
      "model_module_version": "1.2.0",
      "model_name": "LayoutModel",
      "state": {}
     },
     "427cc7b4af3d4c97a7259c8bd152dee0": {
      "model_module": "@jupyter-widgets/controls",
      "model_module_version": "1.5.0",
      "model_name": "SliderStyleModel",
      "state": {
       "description_width": ""
      }
     },
     "43604e4a51204597981aa57a4d37bcdc": {
      "model_module": "@jupyter-widgets/controls",
      "model_module_version": "1.5.0",
      "model_name": "IntSliderModel",
      "state": {
       "description": "South:",
       "layout": "IPY_MODEL_66eebf999b154984b259b109b8ea359b",
       "style": "IPY_MODEL_ec736254ced74d048c31ec47a6bc7ac2"
      }
     },
     "43b0f4a8578e44ee96b1bc56a4af90bd": {
      "model_module": "@jupyter-widgets/controls",
      "model_module_version": "1.5.0",
      "model_name": "IntSliderModel",
      "state": {
       "description": "North:",
       "layout": "IPY_MODEL_0321b7d1c7f34cd0bd0c91e4e6f430e7",
       "style": "IPY_MODEL_f12c4b5a9d334d65aae05fab02d76a8b"
      }
     },
     "43da87231daf4d8c8f361c4486c6a575": {
      "model_module": "@jupyter-widgets/controls",
      "model_module_version": "1.5.0",
      "model_name": "IntSliderModel",
      "state": {
       "description": "East:",
       "layout": "IPY_MODEL_f7bffb6da70a489ca03cd10982f9e03c",
       "style": "IPY_MODEL_0d49f2f5641f465286d987eea0b73cf1",
       "value": 30
      }
     },
     "443da434557a48d1934c003b175f0a62": {
      "model_module": "@jupyter-widgets/controls",
      "model_module_version": "1.5.0",
      "model_name": "IntSliderModel",
      "state": {
       "description": "North:",
       "layout": "IPY_MODEL_2096d636e3dc4bb891ed836c6ae04e87",
       "style": "IPY_MODEL_2d132665fa13418cba5e96e183036f1b",
       "value": 100
      }
     },
     "453cc4dd2dd6497095502a221a7667d1": {
      "model_module": "@jupyter-widgets/base",
      "model_module_version": "1.2.0",
      "model_name": "LayoutModel",
      "state": {}
     },
     "4544e9c059fe47708ba8012a7d984938": {
      "model_module": "@jupyter-widgets/controls",
      "model_module_version": "1.5.0",
      "model_name": "IntSliderModel",
      "state": {
       "description": "Particles:",
       "layout": "IPY_MODEL_79d7133941f943ab9f66f1cb3e8ac835",
       "max": 5000,
       "min": 1,
       "style": "IPY_MODEL_d2205d9f79a54ddfabcc784df437610f",
       "value": 5000
      }
     },
     "460aad16f3a14a3d823567321ba0c59e": {
      "model_module": "@jupyter-widgets/controls",
      "model_module_version": "1.5.0",
      "model_name": "SliderStyleModel",
      "state": {
       "description_width": ""
      }
     },
     "462763e3c7434c08aa2909568cca0db6": {
      "model_module": "@jupyter-widgets/base",
      "model_module_version": "1.2.0",
      "model_name": "LayoutModel",
      "state": {}
     },
     "46365b0f89e54466a971a502cb32acce": {
      "model_module": "@jupyter-widgets/base",
      "model_module_version": "1.2.0",
      "model_name": "LayoutModel",
      "state": {}
     },
     "467c4e0507aa4e0386c086f96087ce0f": {
      "model_module": "@jupyter-widgets/controls",
      "model_module_version": "1.5.0",
      "model_name": "LabelModel",
      "state": {
       "layout": "IPY_MODEL_b90da06bed2a4ac1b558453d0d7e0b6f",
       "style": "IPY_MODEL_c287c2e240104bd5bc8b5b4b68a35f4c",
       "value": "The values of slider1 and slider2 are synchronized"
      }
     },
     "46c072967f644e18b5f080bbbca4a16e": {
      "model_module": "@jupyter-widgets/controls",
      "model_module_version": "1.5.0",
      "model_name": "SliderStyleModel",
      "state": {
       "description_width": ""
      }
     },
     "46d88b81b88f492bb947d7d42ff1a388": {
      "model_module": "@jupyter-widgets/controls",
      "model_module_version": "1.5.0",
      "model_name": "IntSliderModel",
      "state": {
       "layout": "IPY_MODEL_166fab52578544ec952f26cac47343b1",
       "max": 51,
       "style": "IPY_MODEL_08f331679f4245798d1bd8d11f68258f",
       "value": 51
      }
     },
     "4727cea2694d42119f1385ffbf004423": {
      "model_module": "@jupyter-widgets/base",
      "model_module_version": "1.2.0",
      "model_name": "LayoutModel",
      "state": {}
     },
     "4826e263ed6640a590f35e1a76dd3e8d": {
      "model_module": "@jupyter-widgets/base",
      "model_module_version": "1.2.0",
      "model_name": "LayoutModel",
      "state": {}
     },
     "49836413ec2048d49ca0c7dc3e22b78b": {
      "model_module": "@jupyter-widgets/base",
      "model_module_version": "1.2.0",
      "model_name": "LayoutModel",
      "state": {}
     },
     "49858fbe90de45148cb48edc4237438b": {
      "model_module": "@jupyter-widgets/controls",
      "model_module_version": "1.5.0",
      "model_name": "IntSliderModel",
      "state": {
       "description": "North:",
       "layout": "IPY_MODEL_b9d030b5a5d44daa8e3048e6ac88221f",
       "style": "IPY_MODEL_8bd6dd5c4ed5477b8bbd918dedea8ff6"
      }
     },
     "498f60fb76674abfa38ad543ba6df634": {
      "model_module": "@jupyter-widgets/base",
      "model_module_version": "1.2.0",
      "model_name": "LayoutModel",
      "state": {}
     },
     "49c0334c238b4b52b181e4239f2c41e9": {
      "model_module": "@jupyter-widgets/controls",
      "model_module_version": "1.5.0",
      "model_name": "IntSliderModel",
      "state": {
       "description": "East:",
       "layout": "IPY_MODEL_2b036ead2de2486eb74e1a679778aa75",
       "style": "IPY_MODEL_a4319d04a4c84986869e7b3a9ea4bc15",
       "value": 66
      }
     },
     "49fee9ab2cfb4d39910e6535c3fc9930": {
      "model_module": "@jupyter-widgets/controls",
      "model_module_version": "1.5.0",
      "model_name": "IntSliderModel",
      "state": {
       "description": "South:",
       "layout": "IPY_MODEL_498f60fb76674abfa38ad543ba6df634",
       "max": 69,
       "style": "IPY_MODEL_39dbc00239d44ed7896a1adec5550538",
       "value": 69
      }
     },
     "4a06f75b676e43d8aafe1dc8bc6f9989": {
      "model_module": "@jupyter-widgets/base",
      "model_module_version": "1.2.0",
      "model_name": "LayoutModel",
      "state": {}
     },
     "4ae1530ce1f34ef4b7586fd50c3b5d0a": {
      "model_module": "@jupyter-widgets/controls",
      "model_module_version": "1.5.0",
      "model_name": "IntSliderModel",
      "state": {
       "description": "East:",
       "layout": "IPY_MODEL_59bfb923c4ea40579d75c79a039d48c2",
       "style": "IPY_MODEL_4f0709c6153e4013b753e02e4fb55c38",
       "value": 75
      }
     },
     "4ae69bbf8f8f4199a7b72cc652fa2026": {
      "model_module": "@jupyter-widgets/controls",
      "model_module_version": "1.5.0",
      "model_name": "IntSliderModel",
      "state": {
       "description": "West:",
       "layout": "IPY_MODEL_4b4b84a3811f4072b641925f00ff657b",
       "max": 43,
       "style": "IPY_MODEL_023c14b2b46f417ba31bb13474b060fc",
       "value": 36
      }
     },
     "4af9c6175a2c46f3ae3a5e49a5bdb6a5": {
      "model_module": "@jupyter-widgets/controls",
      "model_module_version": "1.5.0",
      "model_name": "IntSliderModel",
      "state": {
       "layout": "IPY_MODEL_ce85ca6831d143989679bc96536baa23",
       "style": "IPY_MODEL_7eb130a8da9d4349b9a39dc87136f46b",
       "value": 45
      }
     },
     "4b4b84a3811f4072b641925f00ff657b": {
      "model_module": "@jupyter-widgets/base",
      "model_module_version": "1.2.0",
      "model_name": "LayoutModel",
      "state": {}
     },
     "4b5ef44753b64a99ba6c6fd378be12b8": {
      "model_module": "@jupyter-widgets/base",
      "model_module_version": "1.2.0",
      "model_name": "LayoutModel",
      "state": {}
     },
     "4b7b4008cfaa47538965ccefc5d5969d": {
      "model_module": "@jupyter-widgets/controls",
      "model_module_version": "1.5.0",
      "model_name": "IntSliderModel",
      "state": {
       "description": "West:",
       "layout": "IPY_MODEL_6795b8bebbc64349b613c53defa674e0",
       "style": "IPY_MODEL_2da304b266734aa28fb7b9e4ba4e713a"
      }
     },
     "4baaefed11f647b19d3c6811a54323db": {
      "model_module": "@jupyter-widgets/controls",
      "model_module_version": "1.5.0",
      "model_name": "SliderStyleModel",
      "state": {
       "description_width": ""
      }
     },
     "4bb46e0ea0434206806dbe05e83e90f2": {
      "model_module": "@jupyter-widgets/base",
      "model_module_version": "1.2.0",
      "model_name": "LayoutModel",
      "state": {}
     },
     "4bbfa85713734318ba32d9d3334c3ffa": {
      "model_module": "@jupyter-widgets/base",
      "model_module_version": "1.2.0",
      "model_name": "LayoutModel",
      "state": {}
     },
     "4c4a13a01bd14bcfb87f6e301020b82b": {
      "model_module": "@jupyter-widgets/controls",
      "model_module_version": "1.5.0",
      "model_name": "IntSliderModel",
      "state": {
       "description": "South:",
       "layout": "IPY_MODEL_957cf948ee1945e8a21e8d79ca83d9c0",
       "style": "IPY_MODEL_045a7c1d84c245c0b98b3c47851122ef"
      }
     },
     "4cb39fa225414b988448bb43e76d29f5": {
      "model_module": "@jupyter-widgets/controls",
      "model_module_version": "1.5.0",
      "model_name": "IntSliderModel",
      "state": {
       "description": "South:",
       "layout": "IPY_MODEL_ac68ffccf45f4a1aad8e44ffe88588d5",
       "style": "IPY_MODEL_e0baab02e0934b6caddaa96af9bcb9de"
      }
     },
     "4cd2e6cc3c664685a42e5fc42230b28a": {
      "model_module": "@jupyter-widgets/controls",
      "model_module_version": "1.5.0",
      "model_name": "IntSliderModel",
      "state": {
       "description": "West:",
       "layout": "IPY_MODEL_0dce0a9de1eb440eb8f1cbe095c98b35",
       "max": 69,
       "style": "IPY_MODEL_c669f94045db4027a60d355a5f9db1de",
       "value": 69
      }
     },
     "4d5d407b67e0480daab8a6d180900def": {
      "model_module": "@jupyter-widgets/controls",
      "model_module_version": "1.5.0",
      "model_name": "SliderStyleModel",
      "state": {
       "description_width": ""
      }
     },
     "4de14045f00a4d24845523996643f66a": {
      "model_module": "@jupyter-widgets/controls",
      "model_module_version": "1.5.0",
      "model_name": "SliderStyleModel",
      "state": {
       "description_width": ""
      }
     },
     "4e042cc2f9bb4b7a9c4335b62fd96c6a": {
      "model_module": "@jupyter-widgets/controls",
      "model_module_version": "1.5.0",
      "model_name": "SliderStyleModel",
      "state": {
       "description_width": ""
      }
     },
     "4e5a3ff9e06042fb8f79e93aebd3f76b": {
      "model_module": "@jupyter-widgets/controls",
      "model_module_version": "1.5.0",
      "model_name": "SliderStyleModel",
      "state": {
       "description_width": ""
      }
     },
     "4ef3942cccfe4e76806cf56335331a49": {
      "model_module": "@jupyter-widgets/base",
      "model_module_version": "1.2.0",
      "model_name": "LayoutModel",
      "state": {}
     },
     "4ef6cc9233754778befae19f5237e833": {
      "model_module": "@jupyter-widgets/controls",
      "model_module_version": "1.5.0",
      "model_name": "SliderStyleModel",
      "state": {
       "description_width": ""
      }
     },
     "4f0709c6153e4013b753e02e4fb55c38": {
      "model_module": "@jupyter-widgets/controls",
      "model_module_version": "1.5.0",
      "model_name": "SliderStyleModel",
      "state": {
       "description_width": ""
      }
     },
     "4f3f8396d6df40a4aa91650c605e4512": {
      "model_module": "@jupyter-widgets/controls",
      "model_module_version": "1.5.0",
      "model_name": "IntSliderModel",
      "state": {
       "description": "South:",
       "layout": "IPY_MODEL_a83d966b57014d19b1275d4cb11bd7f9",
       "style": "IPY_MODEL_f6eb470703df4a6f9b5031502292bfc2",
       "value": 10
      }
     },
     "4f57c99f379f4da58620c60ae3f374b2": {
      "model_module": "@jupyter-widgets/controls",
      "model_module_version": "1.5.0",
      "model_name": "IntSliderModel",
      "state": {
       "description": "South:",
       "layout": "IPY_MODEL_b4207756167b4845b1bf6084fe8764ed",
       "style": "IPY_MODEL_8bd1212850b949c084ec89f507556702",
       "value": 10
      }
     },
     "4faeb756e1c04557877513828e007ce2": {
      "model_module": "@jupyter-widgets/controls",
      "model_module_version": "1.5.0",
      "model_name": "SliderStyleModel",
      "state": {
       "description_width": ""
      }
     },
     "4fe0eef2125540478b072ef20ff12e17": {
      "model_module": "@jupyter-widgets/base",
      "model_module_version": "1.2.0",
      "model_name": "LayoutModel",
      "state": {}
     },
     "500179669ff54b44a18b1b47a91830dc": {
      "model_module": "@jupyter-widgets/controls",
      "model_module_version": "1.5.0",
      "model_name": "IntSliderModel",
      "state": {
       "description": "South:",
       "layout": "IPY_MODEL_a469ac468eca49efb7c98d569256987b",
       "style": "IPY_MODEL_86a2a44d4e3142a894737be24373fa13",
       "value": 100
      }
     },
     "5115c5c46ac846c9ac3dcfe82cd63702": {
      "model_module": "@jupyter-widgets/base",
      "model_module_version": "1.2.0",
      "model_name": "LayoutModel",
      "state": {}
     },
     "51db1293c14f434fbad8f2f5572ea89b": {
      "model_module": "@jupyter-widgets/controls",
      "model_module_version": "1.5.0",
      "model_name": "SliderStyleModel",
      "state": {
       "description_width": ""
      }
     },
     "5320347cec234f0abd0e069e38ff073e": {
      "model_module": "@jupyter-widgets/controls",
      "model_module_version": "1.5.0",
      "model_name": "IntSliderModel",
      "state": {
       "description": "South:",
       "layout": "IPY_MODEL_2b4efd830d144424b5999c0cfecb607c",
       "style": "IPY_MODEL_3b307857b08244b282db4baf4ccab2b2",
       "value": 10
      }
     },
     "537a3139a16143b4bc15a38fd750778c": {
      "model_module": "@jupyter-widgets/controls",
      "model_module_version": "1.5.0",
      "model_name": "SliderStyleModel",
      "state": {
       "description_width": ""
      }
     },
     "54601922cc534731a9b50029e8bc3f35": {
      "model_module": "@jupyter-widgets/controls",
      "model_module_version": "1.5.0",
      "model_name": "SliderStyleModel",
      "state": {
       "description_width": ""
      }
     },
     "547c9089e97c4981a465a097f2cbc6ff": {
      "model_module": "@jupyter-widgets/controls",
      "model_module_version": "1.5.0",
      "model_name": "IntSliderModel",
      "state": {
       "description": "West:",
       "layout": "IPY_MODEL_cec62d34cf6541a28621a531d2c73295",
       "max": 55,
       "style": "IPY_MODEL_620da48d906a47d3930021ec3478f995",
       "value": 33
      }
     },
     "5496afe8272d4cefb773d9264a2af652": {
      "model_module": "@jupyter-widgets/controls",
      "model_module_version": "1.5.0",
      "model_name": "IntSliderModel",
      "state": {
       "description": "Particles:",
       "layout": "IPY_MODEL_bac399d4afb64da991c270c20da38905",
       "max": 5000,
       "min": 1,
       "style": "IPY_MODEL_4baaefed11f647b19d3c6811a54323db",
       "value": 5000
      }
     },
     "555d51c17e2242fd93c37a0042ca8fee": {
      "model_module": "@jupyter-widgets/base",
      "model_module_version": "1.2.0",
      "model_name": "LayoutModel",
      "state": {}
     },
     "555f995d77aa4ca79db7f6160d722c1d": {
      "model_module": "@jupyter-widgets/base",
      "model_module_version": "1.2.0",
      "model_name": "LayoutModel",
      "state": {}
     },
     "5581583999914f229759b6cc5ceb4f97": {
      "model_module": "@jupyter-widgets/base",
      "model_module_version": "1.2.0",
      "model_name": "LayoutModel",
      "state": {}
     },
     "561ecca74b0b4b649c88ba143e748196": {
      "model_module": "@jupyter-widgets/base",
      "model_module_version": "1.2.0",
      "model_name": "LayoutModel",
      "state": {}
     },
     "56f211b893624591a7844734f831f6ac": {
      "model_module": "@jupyter-widgets/base",
      "model_module_version": "1.2.0",
      "model_name": "LayoutModel",
      "state": {}
     },
     "56fbb0c7a9664d6b88bb8bca51ac3ff3": {
      "model_module": "@jupyter-widgets/base",
      "model_module_version": "1.2.0",
      "model_name": "LayoutModel",
      "state": {}
     },
     "57308fa2832245aa820c51eb4add9e06": {
      "model_module": "@jupyter-widgets/base",
      "model_module_version": "1.2.0",
      "model_name": "LayoutModel",
      "state": {}
     },
     "5768005116e2478583d863f71675f40a": {
      "model_module": "@jupyter-widgets/base",
      "model_module_version": "1.2.0",
      "model_name": "LayoutModel",
      "state": {}
     },
     "57a134356bae4b1894b0fee7727d08bd": {
      "model_module": "@jupyter-widgets/base",
      "model_module_version": "1.2.0",
      "model_name": "LayoutModel",
      "state": {}
     },
     "57c04d8e2d1641e0b54d742b030c74b3": {
      "model_module": "@jupyter-widgets/controls",
      "model_module_version": "1.5.0",
      "model_name": "IntSliderModel",
      "state": {
       "description": "North:",
       "layout": "IPY_MODEL_c31150425e104a65ad958c98a7e30a7f",
       "style": "IPY_MODEL_bd1169b90f3a4a25a800f85d5ff23550"
      }
     },
     "57cf36a416a341e9bfffc4418a405ab5": {
      "model_module": "@jupyter-widgets/controls",
      "model_module_version": "1.5.0",
      "model_name": "IntSliderModel",
      "state": {
       "description": "North:",
       "layout": "IPY_MODEL_cc30f5ee25ba403e9daad568821bed8f",
       "max": 40,
       "style": "IPY_MODEL_581f85bfd8ac4792a3d546920c94d847",
       "value": 15
      }
     },
     "5804272ce9d045229ec05d6eb182864d": {
      "model_module": "@jupyter-widgets/controls",
      "model_module_version": "1.5.0",
      "model_name": "IntSliderModel",
      "state": {
       "description": "South:",
       "layout": "IPY_MODEL_555f995d77aa4ca79db7f6160d722c1d",
       "max": 10,
       "min": 1,
       "style": "IPY_MODEL_5c28bb59325a4476870d05577ef8d64e",
       "value": 10
      }
     },
     "581f85bfd8ac4792a3d546920c94d847": {
      "model_module": "@jupyter-widgets/controls",
      "model_module_version": "1.5.0",
      "model_name": "SliderStyleModel",
      "state": {
       "description_width": ""
      }
     },
     "58ee16f844ad4dd4a61d067dbb778399": {
      "model_module": "@jupyter-widgets/base",
      "model_module_version": "1.2.0",
      "model_name": "LayoutModel",
      "state": {}
     },
     "591fb4a06f464db5ac75b2c820ff60c0": {
      "model_module": "@jupyter-widgets/controls",
      "model_module_version": "1.5.0",
      "model_name": "SliderStyleModel",
      "state": {
       "description_width": ""
      }
     },
     "59a67350745e4121bde4f1035ddced05": {
      "model_module": "@jupyter-widgets/controls",
      "model_module_version": "1.5.0",
      "model_name": "SliderStyleModel",
      "state": {
       "description_width": ""
      }
     },
     "59bf9eec618d48ef885ebfd9314c88ce": {
      "model_module": "@jupyter-widgets/controls",
      "model_module_version": "1.5.0",
      "model_name": "SliderStyleModel",
      "state": {
       "description_width": ""
      }
     },
     "59bfb923c4ea40579d75c79a039d48c2": {
      "model_module": "@jupyter-widgets/base",
      "model_module_version": "1.2.0",
      "model_name": "LayoutModel",
      "state": {}
     },
     "5a18720d67e84dbe8ad0912cb08a8a08": {
      "model_module": "@jupyter-widgets/base",
      "model_module_version": "1.2.0",
      "model_name": "LayoutModel",
      "state": {}
     },
     "5a5a09e141484ea398354a703e03cac8": {
      "model_module": "@jupyter-widgets/base",
      "model_module_version": "1.2.0",
      "model_name": "LayoutModel",
      "state": {}
     },
     "5b008ed3ef314cc38ce0143b7ce78e65": {
      "model_module": "@jupyter-widgets/base",
      "model_module_version": "1.2.0",
      "model_name": "LayoutModel",
      "state": {}
     },
     "5b1d11cd34d647cca33ec94898a0272d": {
      "model_module": "@jupyter-widgets/base",
      "model_module_version": "1.2.0",
      "model_name": "LayoutModel",
      "state": {}
     },
     "5bfa73e8f1e348c6bacde853b957858d": {
      "model_module": "@jupyter-widgets/controls",
      "model_module_version": "1.5.0",
      "model_name": "SliderStyleModel",
      "state": {
       "description_width": ""
      }
     },
     "5c28bb59325a4476870d05577ef8d64e": {
      "model_module": "@jupyter-widgets/controls",
      "model_module_version": "1.5.0",
      "model_name": "SliderStyleModel",
      "state": {
       "description_width": ""
      }
     },
     "5c53005e094e432a89afb5168c90a394": {
      "model_module": "@jupyter-widgets/controls",
      "model_module_version": "1.5.0",
      "model_name": "IntSliderModel",
      "state": {
       "description": "East:",
       "layout": "IPY_MODEL_b516998ddee344c3959cfca7d2751746",
       "style": "IPY_MODEL_51db1293c14f434fbad8f2f5572ea89b",
       "value": 39
      }
     },
     "5c5894dbdb2c4e9cb4075470e7d2566d": {
      "model_module": "@jupyter-widgets/controls",
      "model_module_version": "1.5.0",
      "model_name": "SliderStyleModel",
      "state": {
       "description_width": ""
      }
     },
     "5cbb74c5cd794e7a864fd251ecc6f611": {
      "model_module": "@jupyter-widgets/controls",
      "model_module_version": "1.5.0",
      "model_name": "IntSliderModel",
      "state": {
       "description": "West:",
       "layout": "IPY_MODEL_204d30d9898e432f8a11031d58cdd4d7",
       "max": 28,
       "style": "IPY_MODEL_8afe35c3cebb441ca74447a2fa586fa9"
      }
     },
     "5cf3116256dd4097a323da46ae4be8bf": {
      "model_module": "@jupyter-widgets/controls",
      "model_module_version": "1.5.0",
      "model_name": "IntSliderModel",
      "state": {
       "description": "South:",
       "layout": "IPY_MODEL_425774ed65274aed862a2ffceac5aaaa",
       "max": 10,
       "min": 1,
       "style": "IPY_MODEL_0fc2cac137ac4174a1c46cf515b178ad",
       "value": 10
      }
     },
     "5d5957ee9a7240bfb7297011246d6353": {
      "model_module": "@jupyter-widgets/controls",
      "model_module_version": "1.5.0",
      "model_name": "SliderStyleModel",
      "state": {
       "description_width": ""
      }
     },
     "5dc914aebb574994aa15e04e6482f86c": {
      "model_module": "@jupyter-widgets/base",
      "model_module_version": "1.2.0",
      "model_name": "LayoutModel",
      "state": {}
     },
     "5f48bddf66f44b2f9e3077aed8daf23c": {
      "model_module": "@jupyter-widgets/base",
      "model_module_version": "1.2.0",
      "model_name": "LayoutModel",
      "state": {}
     },
     "5fab6b3f3a634b198ccb322bbd53b6d8": {
      "model_module": "@jupyter-widgets/base",
      "model_module_version": "1.2.0",
      "model_name": "LayoutModel",
      "state": {}
     },
     "60b334b3fb914b3fbd1691acad6305f3": {
      "model_module": "@jupyter-widgets/controls",
      "model_module_version": "1.5.0",
      "model_name": "SliderStyleModel",
      "state": {
       "description_width": ""
      }
     },
     "60d43e89974142e7bdfc96fb8b978716": {
      "model_module": "@jupyter-widgets/controls",
      "model_module_version": "1.5.0",
      "model_name": "IntSliderModel",
      "state": {
       "description": "North:",
       "layout": "IPY_MODEL_16e0713565bb485da9ba187111bae3fe",
       "max": 0,
       "style": "IPY_MODEL_9ff5933a4a2245c8934c34e283836fcf"
      }
     },
     "60d56c970768482a862b17edaaa9b6ac": {
      "model_module": "@jupyter-widgets/base",
      "model_module_version": "1.2.0",
      "model_name": "LayoutModel",
      "state": {}
     },
     "61063c19639b4a7e8ec68c805b67e60f": {
      "model_module": "@jupyter-widgets/controls",
      "model_module_version": "1.5.0",
      "model_name": "SliderStyleModel",
      "state": {
       "description_width": ""
      }
     },
     "611e5d64b42a4ece85fd946bf8b61d82": {
      "model_module": "@jupyter-widgets/controls",
      "model_module_version": "1.5.0",
      "model_name": "IntSliderModel",
      "state": {
       "description": "West:",
       "layout": "IPY_MODEL_a7291c8f95514eefb47526707151cb1e",
       "max": 72,
       "style": "IPY_MODEL_537a3139a16143b4bc15a38fd750778c",
       "value": 72
      }
     },
     "61314e1a75ed467595f4a4a76b6488ac": {
      "model_module": "@jupyter-widgets/controls",
      "model_module_version": "1.5.0",
      "model_name": "SliderStyleModel",
      "state": {
       "description_width": ""
      }
     },
     "617a6a422a694e70b11e36e57d6372e9": {
      "model_module": "@jupyter-widgets/base",
      "model_module_version": "1.2.0",
      "model_name": "LayoutModel",
      "state": {}
     },
     "617f565524524dfa9b8f2df0349b8907": {
      "model_module": "@jupyter-widgets/controls",
      "model_module_version": "1.5.0",
      "model_name": "IntSliderModel",
      "state": {
       "description": "West:",
       "layout": "IPY_MODEL_4b5ef44753b64a99ba6c6fd378be12b8",
       "max": 25,
       "min": 1,
       "style": "IPY_MODEL_e4e49a36e8064230bb70350dd82607a9",
       "value": 12
      }
     },
     "61f13f2f644b48ffa2e3a2930f27878e": {
      "model_module": "@jupyter-widgets/base",
      "model_module_version": "1.2.0",
      "model_name": "LayoutModel",
      "state": {}
     },
     "620da48d906a47d3930021ec3478f995": {
      "model_module": "@jupyter-widgets/controls",
      "model_module_version": "1.5.0",
      "model_name": "SliderStyleModel",
      "state": {
       "description_width": ""
      }
     },
     "6210e24e7eba4fa18d3419ce2f81143a": {
      "model_module": "@jupyter-widgets/controls",
      "model_module_version": "1.5.0",
      "model_name": "IntSliderModel",
      "state": {
       "description": "West:",
       "layout": "IPY_MODEL_dd6d25d4551e404aa969ee4c58ecb031",
       "max": 25,
       "min": 1,
       "style": "IPY_MODEL_a22b8c5b95684b309ec7974b7029f376",
       "value": 5
      }
     },
     "6358726f6c324e2883cc6fec954615bc": {
      "model_module": "@jupyter-widgets/controls",
      "model_module_version": "1.5.0",
      "model_name": "SliderStyleModel",
      "state": {
       "description_width": ""
      }
     },
     "636cc44e0f144d5fb89c5fa43d8b2573": {
      "model_module": "@jupyter-widgets/controls",
      "model_module_version": "1.5.0",
      "model_name": "SliderStyleModel",
      "state": {
       "description_width": ""
      }
     },
     "640c16d8ffa54e629b2cae70999ce1a0": {
      "model_module": "@jupyter-widgets/controls",
      "model_module_version": "1.5.0",
      "model_name": "IntSliderModel",
      "state": {
       "description": "East:",
       "layout": "IPY_MODEL_d931d3710428463e95c3fe55c317856b",
       "style": "IPY_MODEL_252d0a275764450e809e6caa281258e1",
       "value": 27
      }
     },
     "640e438362cc4c61bad5f33029577f64": {
      "model_module": "@jupyter-widgets/controls",
      "model_module_version": "1.5.0",
      "model_name": "IntSliderModel",
      "state": {
       "description": "East:",
       "layout": "IPY_MODEL_122e88e16e0c4254a66a256562b33023",
       "style": "IPY_MODEL_345831bf79fc4666be7c309308292b5c",
       "value": 51
      }
     },
     "644cd26162c7434a8d74bdf011da133d": {
      "model_module": "@jupyter-widgets/controls",
      "model_module_version": "1.5.0",
      "model_name": "IntSliderModel",
      "state": {
       "layout": "IPY_MODEL_a4608a45f81f4a199dc1582cfb662442",
       "style": "IPY_MODEL_233cc998cb6e4fde903b44c6bc107b8c",
       "value": 58
      }
     },
     "64e455c8806245ad927b33ff20e125e8": {
      "model_module": "@jupyter-widgets/controls",
      "model_module_version": "1.5.0",
      "model_name": "SliderStyleModel",
      "state": {
       "description_width": ""
      }
     },
     "652009ee817d411198610d016c3ef0af": {
      "model_module": "@jupyter-widgets/base",
      "model_module_version": "1.2.0",
      "model_name": "LayoutModel",
      "state": {}
     },
     "65846d0b065d42e0b735c082937c5f35": {
      "model_module": "@jupyter-widgets/controls",
      "model_module_version": "1.5.0",
      "model_name": "IntSliderModel",
      "state": {
       "description": "South:",
       "layout": "IPY_MODEL_be379557c8a34f278d3876a8c2732598",
       "style": "IPY_MODEL_3dc7252aeacf448e895f4c529bf55b4d"
      }
     },
     "659eb5c57d95497d96ad5f8e1546b3f9": {
      "model_module": "@jupyter-widgets/controls",
      "model_module_version": "1.5.0",
      "model_name": "SliderStyleModel",
      "state": {
       "description_width": ""
      }
     },
     "6608a89252974dfb91210ef246d506d7": {
      "model_module": "@jupyter-widgets/base",
      "model_module_version": "1.2.0",
      "model_name": "LayoutModel",
      "state": {}
     },
     "662d2722915d401cbf3ca4e2727f8465": {
      "model_module": "@jupyter-widgets/controls",
      "model_module_version": "1.5.0",
      "model_name": "IntSliderModel",
      "state": {
       "description": "West:",
       "layout": "IPY_MODEL_70a4d8f6efd7480bbaa6def5a34b1607",
       "style": "IPY_MODEL_35a656aef4ac48a18732c6cda041dae4",
       "value": 5
      }
     },
     "6641c628b3e446fc982336fd17149b66": {
      "model_module": "@jupyter-widgets/base",
      "model_module_version": "1.2.0",
      "model_name": "LayoutModel",
      "state": {}
     },
     "669b455ce04543fab40b90f9ff91bd00": {
      "model_module": "@jupyter-widgets/controls",
      "model_module_version": "1.5.0",
      "model_name": "SliderStyleModel",
      "state": {
       "description_width": ""
      }
     },
     "66e8d5f7325c4731b27983a2b142d8d8": {
      "model_module": "@jupyter-widgets/controls",
      "model_module_version": "1.5.0",
      "model_name": "IntSliderModel",
      "state": {
       "description": "West:",
       "layout": "IPY_MODEL_81121ae118ab49afb85fa955a4d0ade2",
       "max": 64,
       "style": "IPY_MODEL_2532c68784e747d9a28ea9ff5d5fbec3",
       "value": 17
      }
     },
     "66eebf999b154984b259b109b8ea359b": {
      "model_module": "@jupyter-widgets/base",
      "model_module_version": "1.2.0",
      "model_name": "LayoutModel",
      "state": {}
     },
     "66f6bb79c9ab43dfa32b818425dc8fb9": {
      "model_module": "@jupyter-widgets/controls",
      "model_module_version": "1.5.0",
      "model_name": "IntSliderModel",
      "state": {
       "description": "Particles:",
       "layout": "IPY_MODEL_b41dff7a82a64ee5abf3d400a8a47674",
       "max": 5000,
       "min": 1,
       "style": "IPY_MODEL_d504857ea71e42cc8a604a3746718800",
       "value": 5000
      }
     },
     "6711f63870fb4506a0dd8d81154ab64b": {
      "model_module": "@jupyter-widgets/controls",
      "model_module_version": "1.5.0",
      "model_name": "SliderStyleModel",
      "state": {
       "description_width": ""
      }
     },
     "675f6e309d44445cbe162a16ac5d77a5": {
      "model_module": "@jupyter-widgets/base",
      "model_module_version": "1.2.0",
      "model_name": "LayoutModel",
      "state": {}
     },
     "6795b8bebbc64349b613c53defa674e0": {
      "model_module": "@jupyter-widgets/base",
      "model_module_version": "1.2.0",
      "model_name": "LayoutModel",
      "state": {}
     },
     "67a1f9f2bd3643faa8031fb0f4650bc9": {
      "model_module": "@jupyter-widgets/controls",
      "model_module_version": "1.5.0",
      "model_name": "SliderStyleModel",
      "state": {
       "description_width": ""
      }
     },
     "6885702652af46edbd576c5e4bcbc02d": {
      "model_module": "@jupyter-widgets/controls",
      "model_module_version": "1.5.0",
      "model_name": "IntSliderModel",
      "state": {
       "description": "West:",
       "layout": "IPY_MODEL_b539bffbaa934e308ddee51637d7c080",
       "style": "IPY_MODEL_f3dd3f85000c4441afc4dc30360eaf54",
       "value": 52
      }
     },
     "69828ed622bd43d08103e90b85fea2c3": {
      "model_module": "@jupyter-widgets/controls",
      "model_module_version": "1.5.0",
      "model_name": "SliderStyleModel",
      "state": {
       "description_width": ""
      }
     },
     "69cdca173d824649b67fc6a93386d257": {
      "model_module": "@jupyter-widgets/base",
      "model_module_version": "1.2.0",
      "model_name": "LayoutModel",
      "state": {}
     },
     "69f8064864264d26abc41fb6f0b30b8e": {
      "model_module": "@jupyter-widgets/base",
      "model_module_version": "1.2.0",
      "model_name": "LayoutModel",
      "state": {}
     },
     "6a63e75215f646c49aa756f782c52826": {
      "model_module": "@jupyter-widgets/base",
      "model_module_version": "1.2.0",
      "model_name": "LayoutModel",
      "state": {}
     },
     "6aeb58b368824aec9ee43e08a8f370ad": {
      "model_module": "@jupyter-widgets/base",
      "model_module_version": "1.2.0",
      "model_name": "LayoutModel",
      "state": {}
     },
     "6b23022f3c484170ba4cbd91348ededf": {
      "model_module": "@jupyter-widgets/controls",
      "model_module_version": "1.5.0",
      "model_name": "SliderStyleModel",
      "state": {
       "description_width": ""
      }
     },
     "6b3df18e3f114e259da37e774552bbbb": {
      "model_module": "@jupyter-widgets/controls",
      "model_module_version": "1.5.0",
      "model_name": "IntSliderModel",
      "state": {
       "description": "West:",
       "layout": "IPY_MODEL_9c396b1dc0a644d89a5403beb22bebe8",
       "max": 25,
       "min": 1,
       "style": "IPY_MODEL_b07302efb3b64300861c40044a40d31a",
       "value": 5
      }
     },
     "6baf6cad5f3c4a9a8517b5cfa4bdf421": {
      "model_module": "@jupyter-widgets/base",
      "model_module_version": "1.2.0",
      "model_name": "LayoutModel",
      "state": {}
     },
     "6bd445f190344de08ae1cb7d5fa195a3": {
      "model_module": "@jupyter-widgets/base",
      "model_module_version": "1.2.0",
      "model_name": "LayoutModel",
      "state": {}
     },
     "6d3b8239f12a41f1b8fc1e8a91ed1783": {
      "model_module": "@jupyter-widgets/base",
      "model_module_version": "1.2.0",
      "model_name": "LayoutModel",
      "state": {}
     },
     "6d47b32556574bdaa0816ee2ab43ff14": {
      "model_module": "@jupyter-widgets/base",
      "model_module_version": "1.2.0",
      "model_name": "LayoutModel",
      "state": {}
     },
     "6d47e98dd8e142dfbd1ac701ebe31047": {
      "model_module": "@jupyter-widgets/controls",
      "model_module_version": "1.5.0",
      "model_name": "SliderStyleModel",
      "state": {
       "description_width": ""
      }
     },
     "6da1b4836a5546b4be7fe6bfcfa09ed6": {
      "model_module": "@jupyter-widgets/base",
      "model_module_version": "1.2.0",
      "model_name": "LayoutModel",
      "state": {}
     },
     "6dad0919a6c944df9c9fa363a7345850": {
      "model_module": "@jupyter-widgets/controls",
      "model_module_version": "1.5.0",
      "model_name": "SliderStyleModel",
      "state": {
       "description_width": ""
      }
     },
     "6de3518dea194858bc3d63e5ba310404": {
      "model_module": "@jupyter-widgets/base",
      "model_module_version": "1.2.0",
      "model_name": "LayoutModel",
      "state": {}
     },
     "6e696e56a0334f9dbeb38b6c0e57b36f": {
      "model_module": "@jupyter-widgets/controls",
      "model_module_version": "1.5.0",
      "model_name": "IntSliderModel",
      "state": {
       "description": "West:",
       "layout": "IPY_MODEL_1d77b7bee8014d019d29d51550bd25c4",
       "max": 43,
       "style": "IPY_MODEL_febf53372c844018885b91293b42b73f",
       "value": 26
      }
     },
     "6e8c9d1aa1f143b99a30dcb6f8869ee6": {
      "model_module": "@jupyter-widgets/controls",
      "model_module_version": "1.5.0",
      "model_name": "IntSliderModel",
      "state": {
       "description": "South:",
       "layout": "IPY_MODEL_58ee16f844ad4dd4a61d067dbb778399",
       "max": 78,
       "style": "IPY_MODEL_6fd3e92ea8fb40eeb5ab4f7b41c93dec",
       "value": 10
      }
     },
     "6f32b82f84e14693acb2b71445436b3b": {
      "model_module": "@jupyter-widgets/controls",
      "model_module_version": "1.5.0",
      "model_name": "SliderStyleModel",
      "state": {
       "description_width": ""
      }
     },
     "6f715af96e994ab68af839e0bb473aae": {
      "model_module": "@jupyter-widgets/controls",
      "model_module_version": "1.5.0",
      "model_name": "IntSliderModel",
      "state": {
       "description": "South:",
       "layout": "IPY_MODEL_9d78858a05494e0daa5067364c21b771",
       "style": "IPY_MODEL_06befbdb8fdc425bb3be20ce824fe5ed",
       "value": 10
      }
     },
     "6f9995d6a73347bf8c36aaf640002a59": {
      "model_module": "@jupyter-widgets/controls",
      "model_module_version": "1.5.0",
      "model_name": "IntSliderModel",
      "state": {
       "description": "North:",
       "layout": "IPY_MODEL_89d86bc9d7b8471ab6e07c711be78a0a",
       "style": "IPY_MODEL_4de14045f00a4d24845523996643f66a"
      }
     },
     "6fb731459a2743c79caf22d5348a7b1b": {
      "model_module": "@jupyter-widgets/base",
      "model_module_version": "1.2.0",
      "model_name": "LayoutModel",
      "state": {}
     },
     "6fd3e92ea8fb40eeb5ab4f7b41c93dec": {
      "model_module": "@jupyter-widgets/controls",
      "model_module_version": "1.5.0",
      "model_name": "SliderStyleModel",
      "state": {
       "description_width": ""
      }
     },
     "7059444285b84e08bdb1624f3d894245": {
      "model_module": "@jupyter-widgets/base",
      "model_module_version": "1.2.0",
      "model_name": "LayoutModel",
      "state": {}
     },
     "707ea7024eb546fa90e85f3d13306a52": {
      "model_module": "@jupyter-widgets/controls",
      "model_module_version": "1.5.0",
      "model_name": "SliderStyleModel",
      "state": {
       "description_width": ""
      }
     },
     "7096f7c178174b26bd3a87b4bc91fdfe": {
      "model_module": "@jupyter-widgets/controls",
      "model_module_version": "1.5.0",
      "model_name": "IntSliderModel",
      "state": {
       "layout": "IPY_MODEL_4ef3942cccfe4e76806cf56335331a49",
       "style": "IPY_MODEL_69828ed622bd43d08103e90b85fea2c3",
       "value": 3
      }
     },
     "70a4d8f6efd7480bbaa6def5a34b1607": {
      "model_module": "@jupyter-widgets/base",
      "model_module_version": "1.2.0",
      "model_name": "LayoutModel",
      "state": {}
     },
     "71695602bf274d2385588beb5083d1ef": {
      "model_module": "@jupyter-widgets/controls",
      "model_module_version": "1.5.0",
      "model_name": "SliderStyleModel",
      "state": {
       "description_width": ""
      }
     },
     "71835019287c45f1b2f9f3a87cfa83c0": {
      "model_module": "@jupyter-widgets/controls",
      "model_module_version": "1.5.0",
      "model_name": "SliderStyleModel",
      "state": {
       "description_width": ""
      }
     },
     "71f8511beef94eb1bc6f7d828e4dd68d": {
      "model_module": "@jupyter-widgets/base",
      "model_module_version": "1.2.0",
      "model_name": "LayoutModel",
      "state": {}
     },
     "7222d8dcd2124aa898eb16a938dd0e87": {
      "model_module": "@jupyter-widgets/controls",
      "model_module_version": "1.5.0",
      "model_name": "SliderStyleModel",
      "state": {
       "description_width": ""
      }
     },
     "730814a2bef64994b1fe677a438ddce4": {
      "model_module": "@jupyter-widgets/base",
      "model_module_version": "1.2.0",
      "model_name": "LayoutModel",
      "state": {}
     },
     "73657ff051ea4ab4aeda4f58eaad3c3b": {
      "model_module": "@jupyter-widgets/base",
      "model_module_version": "1.2.0",
      "model_name": "LayoutModel",
      "state": {}
     },
     "7368f525303841ad94507075c6d33d8a": {
      "model_module": "@jupyter-widgets/controls",
      "model_module_version": "1.5.0",
      "model_name": "IntSliderModel",
      "state": {
       "description": "Particles:",
       "layout": "IPY_MODEL_7b3d7d96eb1541da94b3390e21bc22ed",
       "max": 5000,
       "min": 1,
       "style": "IPY_MODEL_3c40dc2dfcfc45f0b9d9bff8339914fe",
       "value": 5000
      }
     },
     "73ee13a640a74cd691b0e9505e287836": {
      "model_module": "@jupyter-widgets/base",
      "model_module_version": "1.2.0",
      "model_name": "LayoutModel",
      "state": {}
     },
     "74ba99923d54434da0c1eb6a8af01025": {
      "model_module": "@jupyter-widgets/controls",
      "model_module_version": "1.5.0",
      "model_name": "SliderStyleModel",
      "state": {
       "description_width": ""
      }
     },
     "74bfbab749bf434ca54f9185a04d5c62": {
      "model_module": "@jupyter-widgets/controls",
      "model_module_version": "1.5.0",
      "model_name": "IntSliderModel",
      "state": {
       "description": "West:",
       "layout": "IPY_MODEL_e4571139499943af8006fe7e55cb9353",
       "max": 64,
       "style": "IPY_MODEL_80fb8e4558284633a9a81baf1598cbc4",
       "value": 18
      }
     },
     "74dd6b83b6a246f388cc59e1893cb564": {
      "model_module": "@jupyter-widgets/controls",
      "model_module_version": "1.5.0",
      "model_name": "SliderStyleModel",
      "state": {
       "description_width": ""
      }
     },
     "75065fa478a8472681ca64f417ebe024": {
      "model_module": "@jupyter-widgets/controls",
      "model_module_version": "1.5.0",
      "model_name": "IntSliderModel",
      "state": {
       "description": "West:",
       "layout": "IPY_MODEL_6fb731459a2743c79caf22d5348a7b1b",
       "max": 70,
       "style": "IPY_MODEL_7694c8eb35a048639ea722eb5b853c8a",
       "value": 24
      }
     },
     "751da6cd92e846a2832f737508c7968e": {
      "model_module": "@jupyter-widgets/controls",
      "model_module_version": "1.5.0",
      "model_name": "IntSliderModel",
      "state": {
       "layout": "IPY_MODEL_57308fa2832245aa820c51eb4add9e06",
       "style": "IPY_MODEL_59bf9eec618d48ef885ebfd9314c88ce",
       "value": 50
      }
     },
     "7587661cacf74ffe8553936d3fed30ec": {
      "model_module": "@jupyter-widgets/controls",
      "model_module_version": "1.5.0",
      "model_name": "IntSliderModel",
      "state": {
       "description": "West:",
       "layout": "IPY_MODEL_341868817fac43fca4c9066bb1ed56fe",
       "max": 40,
       "style": "IPY_MODEL_118949c4ec2747ab8e33038391eb81ae",
       "value": 18
      }
     },
     "761b7f9d84984dd0b281cfb779f7c571": {
      "model_module": "@jupyter-widgets/controls",
      "model_module_version": "1.5.0",
      "model_name": "SliderStyleModel",
      "state": {
       "description_width": ""
      }
     },
     "7694c8eb35a048639ea722eb5b853c8a": {
      "model_module": "@jupyter-widgets/controls",
      "model_module_version": "1.5.0",
      "model_name": "SliderStyleModel",
      "state": {
       "description_width": ""
      }
     },
     "76b009839721483ab3020cc0384c81ec": {
      "model_module": "@jupyter-widgets/controls",
      "model_module_version": "1.5.0",
      "model_name": "SliderStyleModel",
      "state": {
       "description_width": ""
      }
     },
     "76d4f31e50d244fe8d6c928f1b27c02f": {
      "model_module": "@jupyter-widgets/controls",
      "model_module_version": "1.5.0",
      "model_name": "SliderStyleModel",
      "state": {
       "description_width": ""
      }
     },
     "775ddb3136324039a6ab6b76ce70d0b5": {
      "model_module": "@jupyter-widgets/controls",
      "model_module_version": "1.5.0",
      "model_name": "IntSliderModel",
      "state": {
       "description": "South:",
       "layout": "IPY_MODEL_6d47b32556574bdaa0816ee2ab43ff14",
       "style": "IPY_MODEL_34554c0b96834b6c941c99860874fe59"
      }
     },
     "77750a00116c4073818d71a2d566d03a": {
      "model_module": "@jupyter-widgets/controls",
      "model_module_version": "1.5.0",
      "model_name": "SliderStyleModel",
      "state": {
       "description_width": ""
      }
     },
     "77c60a6125cb4d9584f5f21600257a68": {
      "model_module": "@jupyter-widgets/controls",
      "model_module_version": "1.5.0",
      "model_name": "SliderStyleModel",
      "state": {
       "description_width": ""
      }
     },
     "77e908c742134d5888454e95d700dbc6": {
      "model_module": "@jupyter-widgets/base",
      "model_module_version": "1.2.0",
      "model_name": "LayoutModel",
      "state": {}
     },
     "78045401e1a640af8e4159ac68eb216e": {
      "model_module": "@jupyter-widgets/controls",
      "model_module_version": "1.5.0",
      "model_name": "IntSliderModel",
      "state": {
       "layout": "IPY_MODEL_de19245df5a6473385823416bf94c11e",
       "style": "IPY_MODEL_0ccc97b2cf9d4bd9a7d691d4d9c8cbb1",
       "value": 7
      }
     },
     "7822f5b0d1fb406ca94471ef3ba9d524": {
      "model_module": "@jupyter-widgets/controls",
      "model_module_version": "1.5.0",
      "model_name": "SliderStyleModel",
      "state": {
       "description_width": ""
      }
     },
     "782aa1fb0acf45f6b78b5472e90e2ff3": {
      "model_module": "@jupyter-widgets/controls",
      "model_module_version": "1.5.0",
      "model_name": "SliderStyleModel",
      "state": {
       "description_width": ""
      }
     },
     "7881a0ad167a491ab22b8ddbba0d4254": {
      "model_module": "@jupyter-widgets/base",
      "model_module_version": "1.2.0",
      "model_name": "LayoutModel",
      "state": {}
     },
     "788bf07054534a669eec32f1b8f8e1cd": {
      "model_module": "@jupyter-widgets/controls",
      "model_module_version": "1.5.0",
      "model_name": "SliderStyleModel",
      "state": {
       "description_width": ""
      }
     },
     "78a856da419141b3b9063dad21563db5": {
      "model_module": "@jupyter-widgets/base",
      "model_module_version": "1.2.0",
      "model_name": "LayoutModel",
      "state": {}
     },
     "7998e4686aac4009befbfeaabede861c": {
      "model_module": "@jupyter-widgets/controls",
      "model_module_version": "1.5.0",
      "model_name": "IntSliderModel",
      "state": {
       "description": "West:",
       "layout": "IPY_MODEL_6de3518dea194858bc3d63e5ba310404",
       "max": 25,
       "min": 1,
       "style": "IPY_MODEL_d75fb71f1a31431bbffe7206142ec155",
       "value": 5
      }
     },
     "79d7133941f943ab9f66f1cb3e8ac835": {
      "model_module": "@jupyter-widgets/base",
      "model_module_version": "1.2.0",
      "model_name": "LayoutModel",
      "state": {}
     },
     "7a03f1a537eb4df580704b6197074827": {
      "model_module": "@jupyter-widgets/controls",
      "model_module_version": "1.5.0",
      "model_name": "IntSliderModel",
      "state": {
       "description": "West:",
       "layout": "IPY_MODEL_3b69e689d8494a048c9c1adee3ff9d96",
       "max": 25,
       "min": 1,
       "style": "IPY_MODEL_9feb845fcf174485b5658f8bfa7f3b9b",
       "value": 25
      }
     },
     "7a9d7c36bcfc43e1abf4faf76b30c2e5": {
      "model_module": "@jupyter-widgets/controls",
      "model_module_version": "1.5.0",
      "model_name": "SliderStyleModel",
      "state": {
       "description_width": ""
      }
     },
     "7b3d7d96eb1541da94b3390e21bc22ed": {
      "model_module": "@jupyter-widgets/base",
      "model_module_version": "1.2.0",
      "model_name": "LayoutModel",
      "state": {}
     },
     "7b9da632184d464d9d7a942b386bca87": {
      "model_module": "@jupyter-widgets/controls",
      "model_module_version": "1.5.0",
      "model_name": "IntSliderModel",
      "state": {
       "description": "West:",
       "layout": "IPY_MODEL_b0db6f8f2c124cceb2706c6851c20f71",
       "max": 25,
       "min": 1,
       "style": "IPY_MODEL_dd7b9f26c3614c069d6296da3f6bc779",
       "value": 5
      }
     },
     "7bafe5d486d04e75aa899b4e234b5865": {
      "model_module": "@jupyter-widgets/controls",
      "model_module_version": "1.5.0",
      "model_name": "IntSliderModel",
      "state": {
       "layout": "IPY_MODEL_82163531516e4710bfe852a07c3f34c7",
       "style": "IPY_MODEL_76d4f31e50d244fe8d6c928f1b27c02f",
       "value": 92
      }
     },
     "7bbacf49437046b9955108f041a54d38": {
      "model_module": "@jupyter-widgets/controls",
      "model_module_version": "1.5.0",
      "model_name": "IntSliderModel",
      "state": {
       "description": "West:",
       "layout": "IPY_MODEL_c2224c092c5e47c68ab7dd3665a3fad9",
       "max": 25,
       "min": 1,
       "style": "IPY_MODEL_2ce842fc4bd34530ba323419702cd74f",
       "value": 5
      }
     },
     "7c2d6dc9ca544eeebeba07146744ce8f": {
      "model_module": "@jupyter-widgets/base",
      "model_module_version": "1.2.0",
      "model_name": "LayoutModel",
      "state": {}
     },
     "7cc9f2d041574d42b179083a8fa69890": {
      "model_module": "@jupyter-widgets/base",
      "model_module_version": "1.2.0",
      "model_name": "LayoutModel",
      "state": {}
     },
     "7d1971d0d8564c1c869fbd8155f91693": {
      "model_module": "@jupyter-widgets/controls",
      "model_module_version": "1.5.0",
      "model_name": "IntSliderModel",
      "state": {
       "description": "East:",
       "layout": "IPY_MODEL_5fab6b3f3a634b198ccb322bbd53b6d8",
       "style": "IPY_MODEL_c236420724d24cd3aebd6d92e125e7fc",
       "value": 20
      }
     },
     "7d77695e84944e66bf29c3eaa2f6dd82": {
      "model_module": "@jupyter-widgets/base",
      "model_module_version": "1.2.0",
      "model_name": "LayoutModel",
      "state": {}
     },
     "7e0e874eb6024ec2bed20ea50ad823b3": {
      "model_module": "@jupyter-widgets/base",
      "model_module_version": "1.2.0",
      "model_name": "LayoutModel",
      "state": {}
     },
     "7e3ee07be89945a886077c1f79e95b62": {
      "model_module": "@jupyter-widgets/base",
      "model_module_version": "1.2.0",
      "model_name": "LayoutModel",
      "state": {}
     },
     "7e5d1f7e56a249d2b9f5af6aa259828c": {
      "model_module": "@jupyter-widgets/controls",
      "model_module_version": "1.5.0",
      "model_name": "SliderStyleModel",
      "state": {
       "description_width": ""
      }
     },
     "7e928ba2da044d76913086eed8bd7d97": {
      "model_module": "@jupyter-widgets/base",
      "model_module_version": "1.2.0",
      "model_name": "LayoutModel",
      "state": {}
     },
     "7eb130a8da9d4349b9a39dc87136f46b": {
      "model_module": "@jupyter-widgets/controls",
      "model_module_version": "1.5.0",
      "model_name": "SliderStyleModel",
      "state": {
       "description_width": ""
      }
     },
     "7f6eb60b7778434aa0cc1aa9366a3f6f": {
      "model_module": "@jupyter-widgets/base",
      "model_module_version": "1.2.0",
      "model_name": "LayoutModel",
      "state": {}
     },
     "7f9f6c0b9939496fb81eb56dd1e8d4a3": {
      "model_module": "@jupyter-widgets/controls",
      "model_module_version": "1.5.0",
      "model_name": "SliderStyleModel",
      "state": {
       "description_width": ""
      }
     },
     "7fc60c0a4a364fb6b0dde7875cbb6e47": {
      "model_module": "@jupyter-widgets/controls",
      "model_module_version": "1.5.0",
      "model_name": "SliderStyleModel",
      "state": {
       "description_width": ""
      }
     },
     "7fcf7af9e31e497baa8667178568080a": {
      "model_module": "@jupyter-widgets/base",
      "model_module_version": "1.2.0",
      "model_name": "LayoutModel",
      "state": {}
     },
     "80fb8e4558284633a9a81baf1598cbc4": {
      "model_module": "@jupyter-widgets/controls",
      "model_module_version": "1.5.0",
      "model_name": "SliderStyleModel",
      "state": {
       "description_width": ""
      }
     },
     "81121ae118ab49afb85fa955a4d0ade2": {
      "model_module": "@jupyter-widgets/base",
      "model_module_version": "1.2.0",
      "model_name": "LayoutModel",
      "state": {}
     },
     "8171ef5bc1fc4ea69e5f18389fc6acec": {
      "model_module": "@jupyter-widgets/controls",
      "model_module_version": "1.5.0",
      "model_name": "SliderStyleModel",
      "state": {
       "description_width": ""
      }
     },
     "81f036d3508d41bf954dd4f15a30ff62": {
      "model_module": "@jupyter-widgets/controls",
      "model_module_version": "1.5.0",
      "model_name": "SliderStyleModel",
      "state": {
       "description_width": ""
      }
     },
     "8207faa0d8ec41cf8522a5c9ba96a00c": {
      "model_module": "@jupyter-widgets/controls",
      "model_module_version": "1.5.0",
      "model_name": "IntSliderModel",
      "state": {
       "description": "West:",
       "layout": "IPY_MODEL_e4edc70825c346eb9ea0ec6da9392fd1",
       "max": 73,
       "style": "IPY_MODEL_40b848545411416285474d22c9937994",
       "value": 46
      }
     },
     "82163531516e4710bfe852a07c3f34c7": {
      "model_module": "@jupyter-widgets/base",
      "model_module_version": "1.2.0",
      "model_name": "LayoutModel",
      "state": {}
     },
     "821bc99d3f2b4d52863895dc9d8a243d": {
      "model_module": "@jupyter-widgets/controls",
      "model_module_version": "1.5.0",
      "model_name": "IntSliderModel",
      "state": {
       "description": "South:",
       "layout": "IPY_MODEL_881afcb40a3e4882b901dbb9df7b31ef",
       "style": "IPY_MODEL_10647fdda75d46aa9eedcb1a1a9d9b17",
       "value": 10
      }
     },
     "82538a0a95aa46a4974dfa15d4c0135e": {
      "model_module": "@jupyter-widgets/controls",
      "model_module_version": "1.5.0",
      "model_name": "IntSliderModel",
      "state": {
       "description": "West:",
       "layout": "IPY_MODEL_8a6b16e220434e19b8df8c30173034fa",
       "max": 25,
       "min": 1,
       "style": "IPY_MODEL_b3c75440d9fe42579c71825f3905d274",
       "value": 5
      }
     },
     "83500b27d60b46e4908810f4ccc8d89a": {
      "model_module": "@jupyter-widgets/base",
      "model_module_version": "1.2.0",
      "model_name": "LayoutModel",
      "state": {}
     },
     "83f3119b78db409d9c8f1cb7006241f7": {
      "model_module": "@jupyter-widgets/base",
      "model_module_version": "1.2.0",
      "model_name": "LayoutModel",
      "state": {}
     },
     "845d13216d9b4f48bd7696dbc7a491ef": {
      "model_module": "@jupyter-widgets/controls",
      "model_module_version": "1.5.0",
      "model_name": "IntSliderModel",
      "state": {
       "description": "North:",
       "layout": "IPY_MODEL_cbc3743aaeab4f86849ebd4d30da0470",
       "style": "IPY_MODEL_6358726f6c324e2883cc6fec954615bc"
      }
     },
     "845f1d67eb324a2cbb5b603ef2bd03b4": {
      "model_module": "@jupyter-widgets/base",
      "model_module_version": "1.2.0",
      "model_name": "LayoutModel",
      "state": {}
     },
     "84f5d474090e46efa799001f7ee502b3": {
      "model_module": "@jupyter-widgets/controls",
      "model_module_version": "1.5.0",
      "model_name": "SliderStyleModel",
      "state": {
       "description_width": ""
      }
     },
     "853cd1cb1f6f4465953700fc5be6e1c1": {
      "model_module": "@jupyter-widgets/controls",
      "model_module_version": "1.5.0",
      "model_name": "IntSliderModel",
      "state": {
       "description": "South:",
       "layout": "IPY_MODEL_8cf19e355dfb4540a945f5fa3c6eb222",
       "style": "IPY_MODEL_6d47e98dd8e142dfbd1ac701ebe31047"
      }
     },
     "8649bb3a35d141e8a0449dd232ef4000": {
      "model_module": "@jupyter-widgets/controls",
      "model_module_version": "1.5.0",
      "model_name": "SliderStyleModel",
      "state": {
       "description_width": ""
      }
     },
     "8660e52eeb1e408a915de97eff47bc6a": {
      "model_module": "@jupyter-widgets/base",
      "model_module_version": "1.2.0",
      "model_name": "LayoutModel",
      "state": {}
     },
     "868c7bc4416c45319130352aec9f9b66": {
      "model_module": "@jupyter-widgets/controls",
      "model_module_version": "1.5.0",
      "model_name": "SliderStyleModel",
      "state": {
       "description_width": ""
      }
     },
     "86a2a44d4e3142a894737be24373fa13": {
      "model_module": "@jupyter-widgets/controls",
      "model_module_version": "1.5.0",
      "model_name": "SliderStyleModel",
      "state": {
       "description_width": ""
      }
     },
     "86bce08068cd460ca942d96862bcaefd": {
      "model_module": "@jupyter-widgets/controls",
      "model_module_version": "1.5.0",
      "model_name": "SliderStyleModel",
      "state": {
       "description_width": ""
      }
     },
     "87cceb33b3db459d838a05fb6ae0bac3": {
      "model_module": "@jupyter-widgets/controls",
      "model_module_version": "1.5.0",
      "model_name": "IntSliderModel",
      "state": {
       "description": "East:",
       "layout": "IPY_MODEL_caa963179aa44c8388dcbb46792f1b99",
       "style": "IPY_MODEL_0e7f74e468f444bda57548b02518e428",
       "value": 41
      }
     },
     "881afcb40a3e4882b901dbb9df7b31ef": {
      "model_module": "@jupyter-widgets/base",
      "model_module_version": "1.2.0",
      "model_name": "LayoutModel",
      "state": {}
     },
     "888122b72cac427ebbbf453fcfadb083": {
      "model_module": "@jupyter-widgets/controls",
      "model_module_version": "1.5.0",
      "model_name": "IntSliderModel",
      "state": {
       "description": "South:",
       "layout": "IPY_MODEL_49836413ec2048d49ca0c7dc3e22b78b",
       "style": "IPY_MODEL_01ed5c337c854fe4acb1f97caa97b5de",
       "value": 10
      }
     },
     "88839073ec1c46dbab21e40c7638e432": {
      "model_module": "@jupyter-widgets/controls",
      "model_module_version": "1.5.0",
      "model_name": "SliderStyleModel",
      "state": {
       "description_width": ""
      }
     },
     "88d56bdc283248e79f2bab13621b5e14": {
      "model_module": "@jupyter-widgets/controls",
      "model_module_version": "1.5.0",
      "model_name": "SliderStyleModel",
      "state": {
       "description_width": ""
      }
     },
     "89d86bc9d7b8471ab6e07c711be78a0a": {
      "model_module": "@jupyter-widgets/base",
      "model_module_version": "1.2.0",
      "model_name": "LayoutModel",
      "state": {}
     },
     "89e75b901df941e9a3975124596a0c18": {
      "model_module": "@jupyter-widgets/base",
      "model_module_version": "1.2.0",
      "model_name": "LayoutModel",
      "state": {}
     },
     "8a0328a002794530bb0716661538ecbc": {
      "model_module": "@jupyter-widgets/base",
      "model_module_version": "1.2.0",
      "model_name": "LayoutModel",
      "state": {}
     },
     "8a40c4e95db245bd91506434d9e11fdb": {
      "model_module": "@jupyter-widgets/controls",
      "model_module_version": "1.5.0",
      "model_name": "SliderStyleModel",
      "state": {
       "description_width": ""
      }
     },
     "8a5a42df6ae2415b8704fe6f9fe9ae2c": {
      "model_module": "@jupyter-widgets/controls",
      "model_module_version": "1.5.0",
      "model_name": "IntSliderModel",
      "state": {
       "description": "South:",
       "layout": "IPY_MODEL_d5f362b1f02d4b2eaa782cd1ee5485bb",
       "max": 10,
       "min": 1,
       "style": "IPY_MODEL_a0ce0f6a47374486a48b434c4ba20ddb",
       "value": 10
      }
     },
     "8a6b16e220434e19b8df8c30173034fa": {
      "model_module": "@jupyter-widgets/base",
      "model_module_version": "1.2.0",
      "model_name": "LayoutModel",
      "state": {}
     },
     "8a6c0dc6307644b7b1b9008705469449": {
      "model_module": "@jupyter-widgets/controls",
      "model_module_version": "1.5.0",
      "model_name": "IntSliderModel",
      "state": {
       "description": "East:",
       "layout": "IPY_MODEL_a3fd724c981741f692025a0a400ba4ab",
       "min": 1,
       "style": "IPY_MODEL_9fb166ac02ea4c949b15f7b0a3649ac8",
       "value": 52
      }
     },
     "8a967f51daf44f8fa4306d938e29ed46": {
      "model_module": "@jupyter-widgets/controls",
      "model_module_version": "1.5.0",
      "model_name": "SliderStyleModel",
      "state": {
       "description_width": ""
      }
     },
     "8ad4e73a278f4d9d930dc92d09199922": {
      "model_module": "@jupyter-widgets/base",
      "model_module_version": "1.2.0",
      "model_name": "LayoutModel",
      "state": {}
     },
     "8afe35c3cebb441ca74447a2fa586fa9": {
      "model_module": "@jupyter-widgets/controls",
      "model_module_version": "1.5.0",
      "model_name": "SliderStyleModel",
      "state": {
       "description_width": ""
      }
     },
     "8b54238f538b42fd83a5f3d640430b98": {
      "model_module": "@jupyter-widgets/base",
      "model_module_version": "1.2.0",
      "model_name": "LayoutModel",
      "state": {}
     },
     "8bb8e7d2b27e4584a89ee33713fd4eff": {
      "model_module": "@jupyter-widgets/controls",
      "model_module_version": "1.5.0",
      "model_name": "SliderStyleModel",
      "state": {
       "description_width": ""
      }
     },
     "8bcaf58932b84a1badffd398e8acef95": {
      "model_module": "@jupyter-widgets/controls",
      "model_module_version": "1.5.0",
      "model_name": "IntSliderModel",
      "state": {
       "description": "West:",
       "layout": "IPY_MODEL_365ca9f3f313463cb9b68bd7840f6a44",
       "max": 61,
       "style": "IPY_MODEL_b9f18e62ac194c3f9a3cafe2cc6c83a2",
       "value": 26
      }
     },
     "8bd1212850b949c084ec89f507556702": {
      "model_module": "@jupyter-widgets/controls",
      "model_module_version": "1.5.0",
      "model_name": "SliderStyleModel",
      "state": {
       "description_width": ""
      }
     },
     "8bd6dd5c4ed5477b8bbd918dedea8ff6": {
      "model_module": "@jupyter-widgets/controls",
      "model_module_version": "1.5.0",
      "model_name": "SliderStyleModel",
      "state": {
       "description_width": ""
      }
     },
     "8bfab4dae2094867907fcc60550ee098": {
      "model_module": "@jupyter-widgets/base",
      "model_module_version": "1.2.0",
      "model_name": "LayoutModel",
      "state": {}
     },
     "8c476a40fe584bd7b5142de0919d740c": {
      "model_module": "@jupyter-widgets/controls",
      "model_module_version": "1.5.0",
      "model_name": "SliderStyleModel",
      "state": {
       "description_width": ""
      }
     },
     "8c72c1deb704467da32df42fadb993f3": {
      "model_module": "@jupyter-widgets/base",
      "model_module_version": "1.2.0",
      "model_name": "LayoutModel",
      "state": {}
     },
     "8cf19e355dfb4540a945f5fa3c6eb222": {
      "model_module": "@jupyter-widgets/base",
      "model_module_version": "1.2.0",
      "model_name": "LayoutModel",
      "state": {}
     },
     "8d1b287a35c3430283aec52e819dcdce": {
      "model_module": "@jupyter-widgets/controls",
      "model_module_version": "1.5.0",
      "model_name": "IntSliderModel",
      "state": {
       "description": "East:",
       "layout": "IPY_MODEL_61f13f2f644b48ffa2e3a2930f27878e",
       "style": "IPY_MODEL_ceb0af58c6fe4f1a905892fa51cecf04",
       "value": 51
      }
     },
     "8d930c67e5d449de997734e31a2c527c": {
      "model_module": "@jupyter-widgets/controls",
      "model_module_version": "1.5.0",
      "model_name": "IntSliderModel",
      "state": {
       "description": "North:",
       "layout": "IPY_MODEL_e50017ff070143c296b618d85d80f219",
       "style": "IPY_MODEL_318dbe71bb3b4f4f883f17b33716d12b"
      }
     },
     "8de863b605ce40d48efe3770bb7e3299": {
      "model_module": "@jupyter-widgets/controls",
      "model_module_version": "1.5.0",
      "model_name": "IntSliderModel",
      "state": {
       "description": "North:",
       "layout": "IPY_MODEL_5115c5c46ac846c9ac3dcfe82cd63702",
       "max": 20,
       "min": 1,
       "style": "IPY_MODEL_90f06fbe90ad4f639a486ab5ba33d8d0",
       "value": 10
      }
     },
     "8e24d39b94684dceb4d599d9d8c309c8": {
      "model_module": "@jupyter-widgets/controls",
      "model_module_version": "1.5.0",
      "model_name": "SliderStyleModel",
      "state": {
       "description_width": ""
      }
     },
     "8e35a0c905c7473d905ce03175f4937b": {
      "model_module": "@jupyter-widgets/controls",
      "model_module_version": "1.5.0",
      "model_name": "SliderStyleModel",
      "state": {
       "description_width": ""
      }
     },
     "8ef206cf6af2435e96fe3f6908ff7aa2": {
      "model_module": "@jupyter-widgets/controls",
      "model_module_version": "1.5.0",
      "model_name": "IntSliderModel",
      "state": {
       "description": "South:",
       "layout": "IPY_MODEL_ca824d71353145ada9515ed221a469a2",
       "style": "IPY_MODEL_c9ab3bfca4b94796b16689294b570469"
      }
     },
     "8f184b1ac190403298ddcbd5024b2521": {
      "model_module": "@jupyter-widgets/base",
      "model_module_version": "1.2.0",
      "model_name": "LayoutModel",
      "state": {}
     },
     "8f5fa0f0fb3b46c8b7fdccc97290f5ea": {
      "model_module": "@jupyter-widgets/controls",
      "model_module_version": "1.5.0",
      "model_name": "SliderStyleModel",
      "state": {
       "description_width": ""
      }
     },
     "8f913a56032e4aa891d4071e2a5a7473": {
      "model_module": "@jupyter-widgets/controls",
      "model_module_version": "1.5.0",
      "model_name": "IntSliderModel",
      "state": {
       "description": "North:",
       "layout": "IPY_MODEL_652009ee817d411198610d016c3ef0af",
       "max": 20,
       "min": 1,
       "style": "IPY_MODEL_09155c46be95459ab4ed51f93615be01",
       "value": 10
      }
     },
     "900371834a384974831873aa1b1fcb2b": {
      "model_module": "@jupyter-widgets/controls",
      "model_module_version": "1.5.0",
      "model_name": "IntSliderModel",
      "state": {
       "description": "North:",
       "layout": "IPY_MODEL_0170fb9b85fa4096b1f19ce185bc10bb",
       "max": 20,
       "min": 1,
       "style": "IPY_MODEL_868c7bc4416c45319130352aec9f9b66",
       "value": 10
      }
     },
     "9051bd3f40c742f09c4ab1a901606ad4": {
      "model_module": "@jupyter-widgets/controls",
      "model_module_version": "1.5.0",
      "model_name": "IntSliderModel",
      "state": {
       "layout": "IPY_MODEL_7f6eb60b7778434aa0cc1aa9366a3f6f",
       "style": "IPY_MODEL_591fb4a06f464db5ac75b2c820ff60c0",
       "value": 100
      }
     },
     "90b10d7ae99e4610a961128958ccbfe1": {
      "model_module": "@jupyter-widgets/controls",
      "model_module_version": "1.5.0",
      "model_name": "IntSliderModel",
      "state": {
       "description": "West:",
       "layout": "IPY_MODEL_7059444285b84e08bdb1624f3d894245",
       "max": 41,
       "style": "IPY_MODEL_0131c3c2f3e74070ab1768e523418452",
       "value": 14
      }
     },
     "90f06fbe90ad4f639a486ab5ba33d8d0": {
      "model_module": "@jupyter-widgets/controls",
      "model_module_version": "1.5.0",
      "model_name": "SliderStyleModel",
      "state": {
       "description_width": ""
      }
     },
     "9135d450054d41acaf63a3eb13585f53": {
      "model_module": "@jupyter-widgets/controls",
      "model_module_version": "1.5.0",
      "model_name": "IntSliderModel",
      "state": {
       "description": "Particles:",
       "layout": "IPY_MODEL_69f8064864264d26abc41fb6f0b30b8e",
       "max": 5000,
       "min": 1,
       "style": "IPY_MODEL_e066e2f7a06b48c6a5e2cbd6ef1204a5",
       "value": 5000
      }
     },
     "921c2502a2444c5ca1656ea8188b8a25": {
      "model_module": "@jupyter-widgets/controls",
      "model_module_version": "1.5.0",
      "model_name": "SliderStyleModel",
      "state": {
       "description_width": ""
      }
     },
     "92615f3a32ad4b8885f781d20517f297": {
      "model_module": "@jupyter-widgets/controls",
      "model_module_version": "1.5.0",
      "model_name": "SliderStyleModel",
      "state": {
       "description_width": ""
      }
     },
     "92ab92c78fa74394a945cb4cd4b6924d": {
      "model_module": "@jupyter-widgets/controls",
      "model_module_version": "1.5.0",
      "model_name": "IntSliderModel",
      "state": {
       "description": "West:",
       "layout": "IPY_MODEL_2bcbfd7e37ac42df82af4914a81ade01",
       "style": "IPY_MODEL_71695602bf274d2385588beb5083d1ef"
      }
     },
     "92c51c414ac842b4a34d03d5c42d1556": {
      "model_module": "@jupyter-widgets/controls",
      "model_module_version": "1.5.0",
      "model_name": "IntSliderModel",
      "state": {
       "description": "West:",
       "layout": "IPY_MODEL_c30eed97e103431bac9b0c26400517b5",
       "max": 30,
       "style": "IPY_MODEL_be8f62777b2a469fa46756e856787568",
       "value": 15
      }
     },
     "94487041555b450cb86ef21a37ea9446": {
      "model_module": "@jupyter-widgets/controls",
      "model_module_version": "1.5.0",
      "model_name": "SliderStyleModel",
      "state": {
       "description_width": ""
      }
     },
     "9481717dc78d49c9b81b4a007b17318a": {
      "model_module": "@jupyter-widgets/controls",
      "model_module_version": "1.5.0",
      "model_name": "SliderStyleModel",
      "state": {
       "description_width": ""
      }
     },
     "94a8760dfe864ee7b1ee546c7369fe7d": {
      "model_module": "@jupyter-widgets/controls",
      "model_module_version": "1.5.0",
      "model_name": "IntSliderModel",
      "state": {
       "description": "East:",
       "layout": "IPY_MODEL_f15dbad0322d40f99f2802b106d3e278",
       "style": "IPY_MODEL_9ab0b3eb3d0340e7b202391056fba515",
       "value": 49
      }
     },
     "94c724f654f047bd9fd6957f26df56e1": {
      "model_module": "@jupyter-widgets/controls",
      "model_module_version": "1.5.0",
      "model_name": "IntSliderModel",
      "state": {
       "description": "North:",
       "layout": "IPY_MODEL_e4873d504f78492f86fed5c579ea7838",
       "max": 44,
       "style": "IPY_MODEL_0328aad8f8c644b0b580f076519cab10"
      }
     },
     "94c8689ed4bd4ce1a2358d2d37bd47c4": {
      "model_module": "@jupyter-widgets/base",
      "model_module_version": "1.2.0",
      "model_name": "LayoutModel",
      "state": {}
     },
     "94ee1f9185d0437487e6e11973a769bf": {
      "model_module": "@jupyter-widgets/base",
      "model_module_version": "1.2.0",
      "model_name": "LayoutModel",
      "state": {}
     },
     "95269ed089fc48c5a960d4d93caed7ff": {
      "model_module": "@jupyter-widgets/controls",
      "model_module_version": "1.5.0",
      "model_name": "IntSliderModel",
      "state": {
       "description": "East:",
       "layout": "IPY_MODEL_f78ffc479b0b4ff39afa3002334bf999",
       "style": "IPY_MODEL_a70d613da0f6498990671cfd1fe12f26",
       "value": 36
      }
     },
     "957cf948ee1945e8a21e8d79ca83d9c0": {
      "model_module": "@jupyter-widgets/base",
      "model_module_version": "1.2.0",
      "model_name": "LayoutModel",
      "state": {}
     },
     "9592a734f3bd4ca1a991a794df76914d": {
      "model_module": "@jupyter-widgets/controls",
      "model_module_version": "1.5.0",
      "model_name": "IntSliderModel",
      "state": {
       "description": "West:",
       "layout": "IPY_MODEL_8a0328a002794530bb0716661538ecbc",
       "max": 25,
       "min": 1,
       "style": "IPY_MODEL_fe965ac6262645849a20fdebfa6129fe",
       "value": 5
      }
     },
     "95b42870db404fb3a1139a173b74b779": {
      "model_module": "@jupyter-widgets/controls",
      "model_module_version": "1.5.0",
      "model_name": "SliderStyleModel",
      "state": {
       "description_width": ""
      }
     },
     "95d0fcc9f5394abbb6777ced81635662": {
      "model_module": "@jupyter-widgets/controls",
      "model_module_version": "1.5.0",
      "model_name": "IntSliderModel",
      "state": {
       "description": "South:",
       "layout": "IPY_MODEL_a5d52b7260b24fff988607c67a2cf6a4",
       "style": "IPY_MODEL_f4fa9f76ef144578a3cd77a740b18105",
       "value": 16
      }
     },
     "96a9cc2374694d2481a45efd90f71a42": {
      "model_module": "@jupyter-widgets/controls",
      "model_module_version": "1.5.0",
      "model_name": "IntSliderModel",
      "state": {
       "description": "West:",
       "layout": "IPY_MODEL_617a6a422a694e70b11e36e57d6372e9",
       "max": 41,
       "style": "IPY_MODEL_2dcc68594f1d4b3c8c9fa58d2a28501b",
       "value": 19
      }
     },
     "96fa7f97f38b41acba19b49497cd0aef": {
      "model_module": "@jupyter-widgets/base",
      "model_module_version": "1.2.0",
      "model_name": "LayoutModel",
      "state": {}
     },
     "9737f299a12e4feeb158f38207adbe89": {
      "model_module": "@jupyter-widgets/controls",
      "model_module_version": "1.5.0",
      "model_name": "SliderStyleModel",
      "state": {
       "description_width": ""
      }
     },
     "97d41874480348bb987e9955de8b2da2": {
      "model_module": "@jupyter-widgets/base",
      "model_module_version": "1.2.0",
      "model_name": "LayoutModel",
      "state": {}
     },
     "97f95e5a5d8543ff92f847306c742540": {
      "model_module": "@jupyter-widgets/controls",
      "model_module_version": "1.5.0",
      "model_name": "SliderStyleModel",
      "state": {
       "description_width": ""
      }
     },
     "98bd316a31ef4178858e478d73870fe4": {
      "model_module": "@jupyter-widgets/controls",
      "model_module_version": "1.5.0",
      "model_name": "SliderStyleModel",
      "state": {
       "description_width": ""
      }
     },
     "99418da0671c45188306ec871dd72aa5": {
      "model_module": "@jupyter-widgets/base",
      "model_module_version": "1.2.0",
      "model_name": "LayoutModel",
      "state": {}
     },
     "9958bde1e5aa4d30bdaf6004659d0b34": {
      "model_module": "@jupyter-widgets/controls",
      "model_module_version": "1.5.0",
      "model_name": "IntSliderModel",
      "state": {
       "layout": "IPY_MODEL_1f0c173e91c14f5797e1d82b5384a126",
       "max": 59,
       "min": 58,
       "style": "IPY_MODEL_92615f3a32ad4b8885f781d20517f297",
       "value": 59
      }
     },
     "9998d462782c479aa4ec4cf6ffd5e730": {
      "model_module": "@jupyter-widgets/controls",
      "model_module_version": "1.5.0",
      "model_name": "IntSliderModel",
      "state": {
       "description": "East:",
       "layout": "IPY_MODEL_7e3ee07be89945a886077c1f79e95b62",
       "style": "IPY_MODEL_fe2c746dfdd8416398ed3499d435b413",
       "value": 73
      }
     },
     "99b8d84ba3904870aa2d4314de976f5f": {
      "model_module": "@jupyter-widgets/controls",
      "model_module_version": "1.5.0",
      "model_name": "IntSliderModel",
      "state": {
       "description": "West:",
       "layout": "IPY_MODEL_4826e263ed6640a590f35e1a76dd3e8d",
       "max": 78,
       "style": "IPY_MODEL_71835019287c45f1b2f9f3a87cfa83c0",
       "value": 78
      }
     },
     "99e56b994be4445e972f154b92569d11": {
      "model_module": "@jupyter-widgets/base",
      "model_module_version": "1.2.0",
      "model_name": "LayoutModel",
      "state": {}
     },
     "9a5a37cc82b14657b912a735c0a956b4": {
      "model_module": "@jupyter-widgets/controls",
      "model_module_version": "1.5.0",
      "model_name": "IntSliderModel",
      "state": {
       "description": "East:",
       "layout": "IPY_MODEL_c7af018888b145878c584612c5c26ffb",
       "min": 1,
       "style": "IPY_MODEL_8171ef5bc1fc4ea69e5f18389fc6acec",
       "value": 43
      }
     },
     "9ab0b3eb3d0340e7b202391056fba515": {
      "model_module": "@jupyter-widgets/controls",
      "model_module_version": "1.5.0",
      "model_name": "SliderStyleModel",
      "state": {
       "description_width": ""
      }
     },
     "9ad2b06a7ff84087ba769ed7932c66a0": {
      "model_module": "@jupyter-widgets/base",
      "model_module_version": "1.2.0",
      "model_name": "LayoutModel",
      "state": {}
     },
     "9ae7e52f56f74f9b8a86089b1854e6cc": {
      "model_module": "@jupyter-widgets/controls",
      "model_module_version": "1.5.0",
      "model_name": "IntSliderModel",
      "state": {
       "description": "East:",
       "layout": "IPY_MODEL_5b1d11cd34d647cca33ec94898a0272d",
       "style": "IPY_MODEL_15d8847aea1a4fdebd39bc12b3352a3c",
       "value": 59
      }
     },
     "9b0dd08c4955418a8b27e3b3d26cc871": {
      "model_module": "@jupyter-widgets/controls",
      "model_module_version": "1.5.0",
      "model_name": "IntSliderModel",
      "state": {
       "description": "North:",
       "layout": "IPY_MODEL_c67f8955120043c3b395918a46948de5",
       "style": "IPY_MODEL_782aa1fb0acf45f6b78b5472e90e2ff3",
       "value": 31
      }
     },
     "9bfcda4601324bfca83094ca7da4b9a3": {
      "model_module": "@jupyter-widgets/controls",
      "model_module_version": "1.5.0",
      "model_name": "SliderStyleModel",
      "state": {
       "description_width": ""
      }
     },
     "9c000759d9af43ab87f85fd5a92122b0": {
      "model_module": "@jupyter-widgets/controls",
      "model_module_version": "1.5.0",
      "model_name": "SliderStyleModel",
      "state": {
       "description_width": ""
      }
     },
     "9c396b1dc0a644d89a5403beb22bebe8": {
      "model_module": "@jupyter-widgets/base",
      "model_module_version": "1.2.0",
      "model_name": "LayoutModel",
      "state": {}
     },
     "9c5ca4a6b2574cec9d6f8a852b6a02ac": {
      "model_module": "@jupyter-widgets/controls",
      "model_module_version": "1.5.0",
      "model_name": "SliderStyleModel",
      "state": {
       "description_width": ""
      }
     },
     "9cab440f69ba47f684bf71d078e2f97a": {
      "model_module": "@jupyter-widgets/controls",
      "model_module_version": "1.5.0",
      "model_name": "IntSliderModel",
      "state": {
       "layout": "IPY_MODEL_7e0e874eb6024ec2bed20ea50ad823b3",
       "style": "IPY_MODEL_1d67cc69abc545d6ba3af67f639beecc",
       "value": 100
      }
     },
     "9cbf2b340b5e4b18b1ca5afc5dd91ff8": {
      "model_module": "@jupyter-widgets/controls",
      "model_module_version": "1.5.0",
      "model_name": "SliderStyleModel",
      "state": {
       "description_width": ""
      }
     },
     "9d227c0f4af74b39881726d073ee3c7b": {
      "model_module": "@jupyter-widgets/controls",
      "model_module_version": "1.5.0",
      "model_name": "SliderStyleModel",
      "state": {
       "description_width": ""
      }
     },
     "9d78858a05494e0daa5067364c21b771": {
      "model_module": "@jupyter-widgets/base",
      "model_module_version": "1.2.0",
      "model_name": "LayoutModel",
      "state": {}
     },
     "9d93f867a0da4d6ca10edd4341b7c837": {
      "model_module": "@jupyter-widgets/controls",
      "model_module_version": "1.5.0",
      "model_name": "SliderStyleModel",
      "state": {
       "description_width": ""
      }
     },
     "9d9b721687334ac7adee1babd172f175": {
      "model_module": "@jupyter-widgets/base",
      "model_module_version": "1.2.0",
      "model_name": "LayoutModel",
      "state": {}
     },
     "9e1f89d92c59456182a6c22e595096e7": {
      "model_module": "@jupyter-widgets/controls",
      "model_module_version": "1.5.0",
      "model_name": "IntSliderModel",
      "state": {
       "description": "East:",
       "layout": "IPY_MODEL_1c9cbd3e5f2447fea7fc84a2330b7bfb",
       "style": "IPY_MODEL_8f5fa0f0fb3b46c8b7fdccc97290f5ea",
       "value": 31
      }
     },
     "9f04e69efd8647c7a9d98fb5313110b7": {
      "model_module": "@jupyter-widgets/controls",
      "model_module_version": "1.5.0",
      "model_name": "IntSliderModel",
      "state": {
       "description": "North:",
       "layout": "IPY_MODEL_7881a0ad167a491ab22b8ddbba0d4254",
       "style": "IPY_MODEL_74ba99923d54434da0c1eb6a8af01025"
      }
     },
     "9f758ec541f647ae936c558d4540cc38": {
      "model_module": "@jupyter-widgets/base",
      "model_module_version": "1.2.0",
      "model_name": "LayoutModel",
      "state": {}
     },
     "9fb166ac02ea4c949b15f7b0a3649ac8": {
      "model_module": "@jupyter-widgets/controls",
      "model_module_version": "1.5.0",
      "model_name": "SliderStyleModel",
      "state": {
       "description_width": ""
      }
     },
     "9feb845fcf174485b5658f8bfa7f3b9b": {
      "model_module": "@jupyter-widgets/controls",
      "model_module_version": "1.5.0",
      "model_name": "SliderStyleModel",
      "state": {
       "description_width": ""
      }
     },
     "9ff5933a4a2245c8934c34e283836fcf": {
      "model_module": "@jupyter-widgets/controls",
      "model_module_version": "1.5.0",
      "model_name": "SliderStyleModel",
      "state": {
       "description_width": ""
      }
     },
     "a041ec7e317940acbb4ebdf82482688d": {
      "model_module": "@jupyter-widgets/controls",
      "model_module_version": "1.5.0",
      "model_name": "SliderStyleModel",
      "state": {
       "description_width": ""
      }
     },
     "a09a33a402f64133b09d7f2044239f60": {
      "model_module": "@jupyter-widgets/base",
      "model_module_version": "1.2.0",
      "model_name": "LayoutModel",
      "state": {}
     },
     "a0ce0f6a47374486a48b434c4ba20ddb": {
      "model_module": "@jupyter-widgets/controls",
      "model_module_version": "1.5.0",
      "model_name": "SliderStyleModel",
      "state": {
       "description_width": ""
      }
     },
     "a0e0ebad07fb4a77933636aa68eb98ec": {
      "model_module": "@jupyter-widgets/controls",
      "model_module_version": "1.5.0",
      "model_name": "IntSliderModel",
      "state": {
       "description": "North:",
       "layout": "IPY_MODEL_ca73e4ad9fae455b9f1832709861e75f",
       "style": "IPY_MODEL_365b737e4f16464c81ef5fb2ca17c018",
       "value": 30
      }
     },
     "a0f4ad823c084e40be5679ac9d2e5b5b": {
      "model_module": "@jupyter-widgets/base",
      "model_module_version": "1.2.0",
      "model_name": "LayoutModel",
      "state": {}
     },
     "a121e4aac9a34baab8a8813b665bdb26": {
      "model_module": "@jupyter-widgets/base",
      "model_module_version": "1.2.0",
      "model_name": "LayoutModel",
      "state": {}
     },
     "a1268c53a5b1453ea290cc165eb6dc63": {
      "model_module": "@jupyter-widgets/controls",
      "model_module_version": "1.5.0",
      "model_name": "IntSliderModel",
      "state": {
       "description": "North:",
       "layout": "IPY_MODEL_6a63e75215f646c49aa756f782c52826",
       "style": "IPY_MODEL_9d93f867a0da4d6ca10edd4341b7c837"
      }
     },
     "a1a54a62ad244e588bc9edad748e1b9e": {
      "model_module": "@jupyter-widgets/controls",
      "model_module_version": "1.5.0",
      "model_name": "IntSliderModel",
      "state": {
       "description": "West:",
       "layout": "IPY_MODEL_156e22f7f1f543bc8cdb0f1e76fa2f28",
       "style": "IPY_MODEL_f8a253cc025d4d5e8deb207a1acd0b81"
      }
     },
     "a1b3d5f6e2ab457caa27db8e6cec6c8c": {
      "model_module": "@jupyter-widgets/base",
      "model_module_version": "1.2.0",
      "model_name": "LayoutModel",
      "state": {}
     },
     "a1f285bb5d744acab1fd22c022218a1a": {
      "model_module": "@jupyter-widgets/base",
      "model_module_version": "1.2.0",
      "model_name": "LayoutModel",
      "state": {}
     },
     "a1ff6faecc484ec4a07ba4217e3695bf": {
      "model_module": "@jupyter-widgets/controls",
      "model_module_version": "1.5.0",
      "model_name": "IntSliderModel",
      "state": {
       "description": "Slider 1",
       "layout": "IPY_MODEL_0d4d839e980f40ea9f548adfa6a584e0",
       "style": "IPY_MODEL_2eb9ec613da2455e94daccb4ad8f1648",
       "value": 85
      }
     },
     "a21d9e94279d4d4eb68fbf401e7eed5e": {
      "model_module": "@jupyter-widgets/base",
      "model_module_version": "1.2.0",
      "model_name": "LayoutModel",
      "state": {}
     },
     "a22b1f4e30544340a2129238448f7e6b": {
      "model_module": "@jupyter-widgets/controls",
      "model_module_version": "1.5.0",
      "model_name": "SliderStyleModel",
      "state": {
       "description_width": ""
      }
     },
     "a22b8c5b95684b309ec7974b7029f376": {
      "model_module": "@jupyter-widgets/controls",
      "model_module_version": "1.5.0",
      "model_name": "SliderStyleModel",
      "state": {
       "description_width": ""
      }
     },
     "a2fff51e572c490b963d01c73e135cb7": {
      "model_module": "@jupyter-widgets/controls",
      "model_module_version": "1.5.0",
      "model_name": "SliderStyleModel",
      "state": {
       "description_width": ""
      }
     },
     "a3868b5981ac41259ad9f9d8cfb1f5c1": {
      "model_module": "@jupyter-widgets/controls",
      "model_module_version": "1.5.0",
      "model_name": "IntSliderModel",
      "state": {
       "description": "North:",
       "layout": "IPY_MODEL_111e4f41aa5b4bef841945bae6881ad4",
       "style": "IPY_MODEL_2923fde20dd74f97acbdea4ff36c57e9",
       "value": 10
      }
     },
     "a3e3cc34998349f0b3c98e112b91d156": {
      "model_module": "@jupyter-widgets/base",
      "model_module_version": "1.2.0",
      "model_name": "LayoutModel",
      "state": {}
     },
     "a3fd724c981741f692025a0a400ba4ab": {
      "model_module": "@jupyter-widgets/base",
      "model_module_version": "1.2.0",
      "model_name": "LayoutModel",
      "state": {}
     },
     "a4319d04a4c84986869e7b3a9ea4bc15": {
      "model_module": "@jupyter-widgets/controls",
      "model_module_version": "1.5.0",
      "model_name": "SliderStyleModel",
      "state": {
       "description_width": ""
      }
     },
     "a4608a45f81f4a199dc1582cfb662442": {
      "model_module": "@jupyter-widgets/base",
      "model_module_version": "1.2.0",
      "model_name": "LayoutModel",
      "state": {}
     },
     "a469ac468eca49efb7c98d569256987b": {
      "model_module": "@jupyter-widgets/base",
      "model_module_version": "1.2.0",
      "model_name": "LayoutModel",
      "state": {}
     },
     "a4908d86a7c041e49a61676e2d80b6d6": {
      "model_module": "@jupyter-widgets/base",
      "model_module_version": "1.2.0",
      "model_name": "LayoutModel",
      "state": {}
     },
     "a49350b96b964ac08450e6a03755409c": {
      "model_module": "@jupyter-widgets/controls",
      "model_module_version": "1.5.0",
      "model_name": "IntSliderModel",
      "state": {
       "description": "East:",
       "layout": "IPY_MODEL_13509214d6c0457c95403bfb674e4a88",
       "style": "IPY_MODEL_ee15e62c119441b9aa93146c0fa8b5a4",
       "value": 75
      }
     },
     "a4e57fa4093146f4950c849a5eede54f": {
      "model_module": "@jupyter-widgets/base",
      "model_module_version": "1.2.0",
      "model_name": "LayoutModel",
      "state": {}
     },
     "a5a027b6c5934a53a74a54550c01acba": {
      "model_module": "@jupyter-widgets/base",
      "model_module_version": "1.2.0",
      "model_name": "LayoutModel",
      "state": {}
     },
     "a5a3a3698ffe4c0092dc8bd7be77f8b2": {
      "model_module": "@jupyter-widgets/base",
      "model_module_version": "1.2.0",
      "model_name": "LayoutModel",
      "state": {}
     },
     "a5d52b7260b24fff988607c67a2cf6a4": {
      "model_module": "@jupyter-widgets/base",
      "model_module_version": "1.2.0",
      "model_name": "LayoutModel",
      "state": {}
     },
     "a5e88579ae894d949f8454db2c2a73fe": {
      "model_module": "@jupyter-widgets/controls",
      "model_module_version": "1.5.0",
      "model_name": "SliderStyleModel",
      "state": {
       "description_width": ""
      }
     },
     "a68b9f75e89b4e8b8ae0f893ee02ddd1": {
      "model_module": "@jupyter-widgets/base",
      "model_module_version": "1.2.0",
      "model_name": "LayoutModel",
      "state": {}
     },
     "a68bbc2e38264d09a935a3db65da0e26": {
      "model_module": "@jupyter-widgets/base",
      "model_module_version": "1.2.0",
      "model_name": "LayoutModel",
      "state": {}
     },
     "a70d613da0f6498990671cfd1fe12f26": {
      "model_module": "@jupyter-widgets/controls",
      "model_module_version": "1.5.0",
      "model_name": "SliderStyleModel",
      "state": {
       "description_width": ""
      }
     },
     "a7291c8f95514eefb47526707151cb1e": {
      "model_module": "@jupyter-widgets/base",
      "model_module_version": "1.2.0",
      "model_name": "LayoutModel",
      "state": {}
     },
     "a7532c0c879e4410b1ef1ea1bdf03b7a": {
      "model_module": "@jupyter-widgets/controls",
      "model_module_version": "1.5.0",
      "model_name": "SliderStyleModel",
      "state": {
       "description_width": ""
      }
     },
     "a78aa8bd1498436499b3485e55e39690": {
      "model_module": "@jupyter-widgets/controls",
      "model_module_version": "1.5.0",
      "model_name": "IntSliderModel",
      "state": {
       "description": "East:",
       "layout": "IPY_MODEL_c96fbdd1bd27437a9aa2b58afffb6710",
       "style": "IPY_MODEL_9bfcda4601324bfca83094ca7da4b9a3",
       "value": 76
      }
     },
     "a83d966b57014d19b1275d4cb11bd7f9": {
      "model_module": "@jupyter-widgets/base",
      "model_module_version": "1.2.0",
      "model_name": "LayoutModel",
      "state": {}
     },
     "a92d899f397140f08a206a151f242783": {
      "model_module": "@jupyter-widgets/controls",
      "model_module_version": "1.5.0",
      "model_name": "SliderStyleModel",
      "state": {
       "description_width": ""
      }
     },
     "a9397a88d42c43c2aff17301639604a6": {
      "model_module": "@jupyter-widgets/base",
      "model_module_version": "1.2.0",
      "model_name": "LayoutModel",
      "state": {}
     },
     "aa09a5cca74b4fe8bea18c59e2ac3704": {
      "model_module": "@jupyter-widgets/controls",
      "model_module_version": "1.5.0",
      "model_name": "SliderStyleModel",
      "state": {
       "description_width": ""
      }
     },
     "aa8442eaf92a4de39b57f37fd503fdab": {
      "model_module": "@jupyter-widgets/controls",
      "model_module_version": "1.5.0",
      "model_name": "IntSliderModel",
      "state": {
       "description": "South:",
       "layout": "IPY_MODEL_0e6383ca564e443296f5f35f97cddcae",
       "max": 10,
       "min": 1,
       "style": "IPY_MODEL_aab008f7544a4da78451d3cf1ef011d1",
       "value": 10
      }
     },
     "aaab2c5aae8b486a9aba21c19c24de3b": {
      "model_module": "@jupyter-widgets/controls",
      "model_module_version": "1.5.0",
      "model_name": "SliderStyleModel",
      "state": {
       "description_width": ""
      }
     },
     "aab008f7544a4da78451d3cf1ef011d1": {
      "model_module": "@jupyter-widgets/controls",
      "model_module_version": "1.5.0",
      "model_name": "SliderStyleModel",
      "state": {
       "description_width": ""
      }
     },
     "aae3353601da40c5ac3de74fab1f060d": {
      "model_module": "@jupyter-widgets/base",
      "model_module_version": "1.2.0",
      "model_name": "LayoutModel",
      "state": {}
     },
     "aae90b60483446f1afb3cf205d0858ca": {
      "model_module": "@jupyter-widgets/controls",
      "model_module_version": "1.5.0",
      "model_name": "IntSliderModel",
      "state": {
       "description": "North:",
       "layout": "IPY_MODEL_f5e8b140f3d84ed8b51e09fc23a9a6c8",
       "style": "IPY_MODEL_066daaf1aa4c4815adf8dbc18a29211c",
       "value": 98
      }
     },
     "ab91f4cd42f348349b6ed9d94b00ae0e": {
      "model_module": "@jupyter-widgets/controls",
      "model_module_version": "1.5.0",
      "model_name": "IntSliderModel",
      "state": {
       "layout": "IPY_MODEL_83f3119b78db409d9c8f1cb7006241f7",
       "style": "IPY_MODEL_d38c735150c14cb986dd445cadb7dd79",
       "value": 63
      }
     },
     "ab9744f872c4441eb2e7a5abbf225de8": {
      "model_module": "@jupyter-widgets/controls",
      "model_module_version": "1.5.0",
      "model_name": "SliderStyleModel",
      "state": {
       "description_width": ""
      }
     },
     "ac24c0baf24e47f888cd5b4047385e06": {
      "model_module": "@jupyter-widgets/controls",
      "model_module_version": "1.5.0",
      "model_name": "IntSliderModel",
      "state": {
       "description": "East:",
       "layout": "IPY_MODEL_eaa2ac4340a949a0b25718fa709d42ee",
       "style": "IPY_MODEL_8bb8e7d2b27e4584a89ee33713fd4eff",
       "value": 34
      }
     },
     "ac68ffccf45f4a1aad8e44ffe88588d5": {
      "model_module": "@jupyter-widgets/base",
      "model_module_version": "1.2.0",
      "model_name": "LayoutModel",
      "state": {}
     },
     "acd7df3033b04a0b90a4f814d8c34779": {
      "model_module": "@jupyter-widgets/base",
      "model_module_version": "1.2.0",
      "model_name": "LayoutModel",
      "state": {}
     },
     "acdb844f8f9c43b0a626461499fb82b1": {
      "model_module": "@jupyter-widgets/controls",
      "model_module_version": "1.5.0",
      "model_name": "SliderStyleModel",
      "state": {
       "description_width": ""
      }
     },
     "ad9ed8500d594cc9bca0999613b4103f": {
      "model_module": "@jupyter-widgets/controls",
      "model_module_version": "1.5.0",
      "model_name": "IntSliderModel",
      "state": {
       "description": "East:",
       "layout": "IPY_MODEL_d44edf41edcf4ee8852a4d5b24134751",
       "style": "IPY_MODEL_3d5965333ac74129ab5cb72bd0a0c6a3",
       "value": 75
      }
     },
     "ae37fdfd47844759a3278a029a9b83be": {
      "model_module": "@jupyter-widgets/controls",
      "model_module_version": "1.5.0",
      "model_name": "SliderStyleModel",
      "state": {
       "description_width": ""
      }
     },
     "ae70bc4e760344e3adb82ff3f83ad816": {
      "model_module": "@jupyter-widgets/controls",
      "model_module_version": "1.5.0",
      "model_name": "IntSliderModel",
      "state": {
       "description": "North:",
       "layout": "IPY_MODEL_94c8689ed4bd4ce1a2358d2d37bd47c4",
       "style": "IPY_MODEL_0f7ead812bc54bdb950e789e4da5fcc0"
      }
     },
     "ae7c08ada083478e9ca97c01c92fd2cc": {
      "model_module": "@jupyter-widgets/controls",
      "model_module_version": "1.5.0",
      "model_name": "IntSliderModel",
      "state": {
       "description": "East:",
       "layout": "IPY_MODEL_f5b68c79f9214371905545ed63e5421c",
       "style": "IPY_MODEL_aaab2c5aae8b486a9aba21c19c24de3b",
       "value": 56
      }
     },
     "af05a73da07c443da6d418e54efc5167": {
      "model_module": "@jupyter-widgets/base",
      "model_module_version": "1.2.0",
      "model_name": "LayoutModel",
      "state": {}
     },
     "af4f64049aae4630b0fea6bd72c3490d": {
      "model_module": "@jupyter-widgets/base",
      "model_module_version": "1.2.0",
      "model_name": "LayoutModel",
      "state": {}
     },
     "af6aae8ec7f4463ba7f03042a5de7232": {
      "model_module": "@jupyter-widgets/controls",
      "model_module_version": "1.5.0",
      "model_name": "SliderStyleModel",
      "state": {
       "description_width": ""
      }
     },
     "af75542fe35b4bef8f733cfa7415231b": {
      "model_module": "@jupyter-widgets/controls",
      "model_module_version": "1.5.0",
      "model_name": "SliderStyleModel",
      "state": {
       "description_width": ""
      }
     },
     "afdd3e05dcf04d6bb8c7dc6d32f88268": {
      "model_module": "@jupyter-widgets/base",
      "model_module_version": "1.2.0",
      "model_name": "LayoutModel",
      "state": {}
     },
     "b05719605c8d4f3ab11cdee72ccaf9a2": {
      "model_module": "@jupyter-widgets/base",
      "model_module_version": "1.2.0",
      "model_name": "LayoutModel",
      "state": {}
     },
     "b07302efb3b64300861c40044a40d31a": {
      "model_module": "@jupyter-widgets/controls",
      "model_module_version": "1.5.0",
      "model_name": "SliderStyleModel",
      "state": {
       "description_width": ""
      }
     },
     "b0cdaa16d95b4280906bbfae02a85e3a": {
      "model_module": "@jupyter-widgets/controls",
      "model_module_version": "1.5.0",
      "model_name": "SliderStyleModel",
      "state": {
       "description_width": ""
      }
     },
     "b0db6f8f2c124cceb2706c6851c20f71": {
      "model_module": "@jupyter-widgets/base",
      "model_module_version": "1.2.0",
      "model_name": "LayoutModel",
      "state": {}
     },
     "b15dcc495d914b2c86eb8317be6fcb62": {
      "model_module": "@jupyter-widgets/controls",
      "model_module_version": "1.5.0",
      "model_name": "SliderStyleModel",
      "state": {
       "description_width": ""
      }
     },
     "b2afe885b6874dae99129bd0394f008f": {
      "model_module": "@jupyter-widgets/controls",
      "model_module_version": "1.5.0",
      "model_name": "IntSliderModel",
      "state": {
       "description": "South:",
       "layout": "IPY_MODEL_20403e9a78ea4f2f8c88755de9ba9755",
       "style": "IPY_MODEL_427cc7b4af3d4c97a7259c8bd152dee0"
      }
     },
     "b3572808fe554cc2a2a04eefaf50d502": {
      "model_module": "@jupyter-widgets/controls",
      "model_module_version": "1.5.0",
      "model_name": "SliderStyleModel",
      "state": {
       "description_width": ""
      }
     },
     "b3c75440d9fe42579c71825f3905d274": {
      "model_module": "@jupyter-widgets/controls",
      "model_module_version": "1.5.0",
      "model_name": "SliderStyleModel",
      "state": {
       "description_width": ""
      }
     },
     "b41dff7a82a64ee5abf3d400a8a47674": {
      "model_module": "@jupyter-widgets/base",
      "model_module_version": "1.2.0",
      "model_name": "LayoutModel",
      "state": {}
     },
     "b4207756167b4845b1bf6084fe8764ed": {
      "model_module": "@jupyter-widgets/base",
      "model_module_version": "1.2.0",
      "model_name": "LayoutModel",
      "state": {}
     },
     "b471f444843049749cb3558d3fb986d4": {
      "model_module": "@jupyter-widgets/controls",
      "model_module_version": "1.5.0",
      "model_name": "SliderStyleModel",
      "state": {
       "description_width": ""
      }
     },
     "b4cc327705fe46d3804ed0d2dd851010": {
      "model_module": "@jupyter-widgets/controls",
      "model_module_version": "1.5.0",
      "model_name": "IntSliderModel",
      "state": {
       "description": "West:",
       "layout": "IPY_MODEL_03a797c468174abc8286aaee3e31c1d5",
       "max": 55,
       "min": 1,
       "style": "IPY_MODEL_81f036d3508d41bf954dd4f15a30ff62",
       "value": 5
      }
     },
     "b516998ddee344c3959cfca7d2751746": {
      "model_module": "@jupyter-widgets/base",
      "model_module_version": "1.2.0",
      "model_name": "LayoutModel",
      "state": {}
     },
     "b539bffbaa934e308ddee51637d7c080": {
      "model_module": "@jupyter-widgets/base",
      "model_module_version": "1.2.0",
      "model_name": "LayoutModel",
      "state": {}
     },
     "b68a9df127fe418cbaa07a2b4f0418ad": {
      "model_module": "@jupyter-widgets/controls",
      "model_module_version": "1.5.0",
      "model_name": "IntSliderModel",
      "state": {
       "description": "Particles:",
       "layout": "IPY_MODEL_6608a89252974dfb91210ef246d506d7",
       "max": 5000,
       "min": 1,
       "style": "IPY_MODEL_e0dbfd7734ab444b95eec10622497e47",
       "value": 2639
      }
     },
     "b736f26ae06d4b5c975e5fa05f23b0bb": {
      "model_module": "@jupyter-widgets/controls",
      "model_module_version": "1.5.0",
      "model_name": "IntSliderModel",
      "state": {
       "description": "North:",
       "layout": "IPY_MODEL_99e56b994be4445e972f154b92569d11",
       "style": "IPY_MODEL_761b7f9d84984dd0b281cfb779f7c571"
      }
     },
     "b74127dee25442498cd8de243d3bf504": {
      "model_module": "@jupyter-widgets/controls",
      "model_module_version": "1.5.0",
      "model_name": "IntSliderModel",
      "state": {
       "description": "North:",
       "layout": "IPY_MODEL_a21d9e94279d4d4eb68fbf401e7eed5e",
       "max": 20,
       "min": 1,
       "style": "IPY_MODEL_2efe8e13cf774b73ae7f0b6b6e657898",
       "value": 20
      }
     },
     "b77736614aed41afa85f0b5b38ba744f": {
      "model_module": "@jupyter-widgets/controls",
      "model_module_version": "1.5.0",
      "model_name": "SliderStyleModel",
      "state": {
       "description_width": ""
      }
     },
     "b8212d0199d84d1fb0869e0259faaccd": {
      "model_module": "@jupyter-widgets/controls",
      "model_module_version": "1.5.0",
      "model_name": "IntSliderModel",
      "state": {
       "description": "North:",
       "layout": "IPY_MODEL_afdd3e05dcf04d6bb8c7dc6d32f88268",
       "max": 22,
       "style": "IPY_MODEL_edcd94945fa84c6d936b608782b07e4c"
      }
     },
     "b85e67d515294abbaac748bf413b47e7": {
      "model_module": "@jupyter-widgets/controls",
      "model_module_version": "1.5.0",
      "model_name": "IntSliderModel",
      "state": {
       "description": "East:",
       "layout": "IPY_MODEL_b05719605c8d4f3ab11cdee72ccaf9a2",
       "style": "IPY_MODEL_8c476a40fe584bd7b5142de0919d740c",
       "value": 75
      }
     },
     "b90da06bed2a4ac1b558453d0d7e0b6f": {
      "model_module": "@jupyter-widgets/base",
      "model_module_version": "1.2.0",
      "model_name": "LayoutModel",
      "state": {}
     },
     "b9d030b5a5d44daa8e3048e6ac88221f": {
      "model_module": "@jupyter-widgets/base",
      "model_module_version": "1.2.0",
      "model_name": "LayoutModel",
      "state": {}
     },
     "b9e2d2cf8439455298b4eab6bb3e9a37": {
      "model_module": "@jupyter-widgets/base",
      "model_module_version": "1.2.0",
      "model_name": "LayoutModel",
      "state": {}
     },
     "b9f18e62ac194c3f9a3cafe2cc6c83a2": {
      "model_module": "@jupyter-widgets/controls",
      "model_module_version": "1.5.0",
      "model_name": "SliderStyleModel",
      "state": {
       "description_width": ""
      }
     },
     "b9fef03d98ec494fac41872026bd7342": {
      "model_module": "@jupyter-widgets/controls",
      "model_module_version": "1.5.0",
      "model_name": "IntSliderModel",
      "state": {
       "description": "West:",
       "layout": "IPY_MODEL_182865493cf14504809e1e02ad427001",
       "style": "IPY_MODEL_98bd316a31ef4178858e478d73870fe4",
       "value": 100
      }
     },
     "ba3312929ac04d1f83ce5d177c6c9f3f": {
      "model_module": "@jupyter-widgets/controls",
      "model_module_version": "1.5.0",
      "model_name": "IntSliderModel",
      "state": {
       "description": "East:",
       "layout": "IPY_MODEL_288aff9e8a9d4808865519fb3ee8aa54",
       "style": "IPY_MODEL_86bce08068cd460ca942d96862bcaefd",
       "value": 37
      }
     },
     "ba7968aed11c4d439266bec3e702f08c": {
      "model_module": "@jupyter-widgets/controls",
      "model_module_version": "1.5.0",
      "model_name": "IntSliderModel",
      "state": {
       "description": "East:",
       "layout": "IPY_MODEL_c8378d170e6e47ffacf18646cb53e8f8",
       "style": "IPY_MODEL_f85ec26fb7e74da9875f55f629d0513a",
       "value": 70
      }
     },
     "baa39bc5420b43b28f8281649a7effa2": {
      "model_module": "@jupyter-widgets/controls",
      "model_module_version": "1.5.0",
      "model_name": "IntSliderModel",
      "state": {
       "description": "South:",
       "layout": "IPY_MODEL_4bb46e0ea0434206806dbe05e83e90f2",
       "style": "IPY_MODEL_c4cd51bda4884d41be15f5fe3c18627b"
      }
     },
     "bac399d4afb64da991c270c20da38905": {
      "model_module": "@jupyter-widgets/base",
      "model_module_version": "1.2.0",
      "model_name": "LayoutModel",
      "state": {}
     },
     "bbe5786a751c4aeaa9fd5280e174b07f": {
      "model_module": "@jupyter-widgets/controls",
      "model_module_version": "1.5.0",
      "model_name": "SliderStyleModel",
      "state": {
       "description_width": ""
      }
     },
     "bd0df07f70ad46c6a4ede9a4386fd396": {
      "model_module": "@jupyter-widgets/controls",
      "model_module_version": "1.5.0",
      "model_name": "IntSliderModel",
      "state": {
       "description": "South:",
       "layout": "IPY_MODEL_7e928ba2da044d76913086eed8bd7d97",
       "max": 10,
       "min": 1,
       "style": "IPY_MODEL_2bec5385bee54900a3e8918273a43ede",
       "value": 10
      }
     },
     "bd1169b90f3a4a25a800f85d5ff23550": {
      "model_module": "@jupyter-widgets/controls",
      "model_module_version": "1.5.0",
      "model_name": "SliderStyleModel",
      "state": {
       "description_width": ""
      }
     },
     "bd56c1db2ea541d581938f1e5ba6540e": {
      "model_module": "@jupyter-widgets/base",
      "model_module_version": "1.2.0",
      "model_name": "LayoutModel",
      "state": {}
     },
     "bd64f4caea7d47e098c8ad411eaf3bf9": {
      "model_module": "@jupyter-widgets/controls",
      "model_module_version": "1.5.0",
      "model_name": "IntSliderModel",
      "state": {
       "description": "Particles:",
       "layout": "IPY_MODEL_8f184b1ac190403298ddcbd5024b2521",
       "max": 5000,
       "min": 1,
       "style": "IPY_MODEL_095a7a50567541979f6da5ed80847b0a",
       "value": 5000
      }
     },
     "bd7da5403cfe429488fda20946ad54de": {
      "model_module": "@jupyter-widgets/controls",
      "model_module_version": "1.5.0",
      "model_name": "IntSliderModel",
      "state": {
       "description": "East:",
       "layout": "IPY_MODEL_71f8511beef94eb1bc6f7d828e4dd68d",
       "min": 1,
       "style": "IPY_MODEL_a041ec7e317940acbb4ebdf82482688d",
       "value": 75
      }
     },
     "be379557c8a34f278d3876a8c2732598": {
      "model_module": "@jupyter-widgets/base",
      "model_module_version": "1.2.0",
      "model_name": "LayoutModel",
      "state": {}
     },
     "be4c12bb93ef4a0294caf4609b8f3f70": {
      "model_module": "@jupyter-widgets/base",
      "model_module_version": "1.2.0",
      "model_name": "LayoutModel",
      "state": {}
     },
     "be8f62777b2a469fa46756e856787568": {
      "model_module": "@jupyter-widgets/controls",
      "model_module_version": "1.5.0",
      "model_name": "SliderStyleModel",
      "state": {
       "description_width": ""
      }
     },
     "bf1ab229505b43cdb185419a2342e5b2": {
      "model_module": "@jupyter-widgets/base",
      "model_module_version": "1.2.0",
      "model_name": "LayoutModel",
      "state": {}
     },
     "bfb446c2ef6f4fcc80d493bd7d88e735": {
      "model_module": "@jupyter-widgets/base",
      "model_module_version": "1.2.0",
      "model_name": "LayoutModel",
      "state": {}
     },
     "c0e14db76b004e078f9a784eedfc5ec8": {
      "model_module": "@jupyter-widgets/controls",
      "model_module_version": "1.5.0",
      "model_name": "SliderStyleModel",
      "state": {
       "description_width": ""
      }
     },
     "c0e4c41709bc49478cea2cdb4212df8a": {
      "model_module": "@jupyter-widgets/base",
      "model_module_version": "1.2.0",
      "model_name": "LayoutModel",
      "state": {}
     },
     "c1275ecd52de4baa850c2a2ee3b8368a": {
      "model_module": "@jupyter-widgets/controls",
      "model_module_version": "1.5.0",
      "model_name": "IntSliderModel",
      "state": {
       "description": "South:",
       "layout": "IPY_MODEL_5a18720d67e84dbe8ad0912cb08a8a08",
       "style": "IPY_MODEL_9c5ca4a6b2574cec9d6f8a852b6a02ac"
      }
     },
     "c2224c092c5e47c68ab7dd3665a3fad9": {
      "model_module": "@jupyter-widgets/base",
      "model_module_version": "1.2.0",
      "model_name": "LayoutModel",
      "state": {}
     },
     "c236420724d24cd3aebd6d92e125e7fc": {
      "model_module": "@jupyter-widgets/controls",
      "model_module_version": "1.5.0",
      "model_name": "SliderStyleModel",
      "state": {
       "description_width": ""
      }
     },
     "c238f836d4d54f0bb057cf4b4a0963d3": {
      "model_module": "@jupyter-widgets/controls",
      "model_module_version": "1.5.0",
      "model_name": "IntSliderModel",
      "state": {
       "description": "East:",
       "layout": "IPY_MODEL_177c06ee5f98433491f2b51f4b5232bb",
       "min": 1,
       "style": "IPY_MODEL_d34c524ea10d416ebf2e1fdb20f413e2",
       "value": 75
      }
     },
     "c26ff8b9dbdb4c2ba9a006710de094b9": {
      "model_module": "@jupyter-widgets/controls",
      "model_module_version": "1.5.0",
      "model_name": "IntSliderModel",
      "state": {
       "description": "North:",
       "layout": "IPY_MODEL_e812beacae354fc7a42098a326b0bc00",
       "style": "IPY_MODEL_ceb9a6f05dec4eef9ddbb9b9bbcc32f9"
      }
     },
     "c287c2e240104bd5bc8b5b4b68a35f4c": {
      "model_module": "@jupyter-widgets/controls",
      "model_module_version": "1.5.0",
      "model_name": "DescriptionStyleModel",
      "state": {
       "description_width": ""
      }
     },
     "c28ada39d8994e659ed5d61eee979a90": {
      "model_module": "@jupyter-widgets/controls",
      "model_module_version": "1.5.0",
      "model_name": "SliderStyleModel",
      "state": {
       "description_width": ""
      }
     },
     "c294b26cbb02451e9a5d8ffaa733d1ac": {
      "model_module": "@jupyter-widgets/controls",
      "model_module_version": "1.5.0",
      "model_name": "IntSliderModel",
      "state": {
       "description": "South:",
       "layout": "IPY_MODEL_e3ef49fe03394d0e91f1d142edc5ee4c",
       "style": "IPY_MODEL_02610cc843d64c5f843dc034267d9442"
      }
     },
     "c2f2ef63f89346feb748809456a6f5b0": {
      "model_module": "@jupyter-widgets/controls",
      "model_module_version": "1.5.0",
      "model_name": "IntSliderModel",
      "state": {
       "description": "North:",
       "layout": "IPY_MODEL_5a5a09e141484ea398354a703e03cac8",
       "style": "IPY_MODEL_1133fda490b04819b2e9fb66357675dc"
      }
     },
     "c2fe50473dd84d8c881bdf37a32f699d": {
      "model_module": "@jupyter-widgets/base",
      "model_module_version": "1.2.0",
      "model_name": "LayoutModel",
      "state": {}
     },
     "c30eed97e103431bac9b0c26400517b5": {
      "model_module": "@jupyter-widgets/base",
      "model_module_version": "1.2.0",
      "model_name": "LayoutModel",
      "state": {}
     },
     "c31150425e104a65ad958c98a7e30a7f": {
      "model_module": "@jupyter-widgets/base",
      "model_module_version": "1.2.0",
      "model_name": "LayoutModel",
      "state": {}
     },
     "c37dc956951d4fd9bb139b973fda9f4d": {
      "model_module": "@jupyter-widgets/controls",
      "model_module_version": "1.5.0",
      "model_name": "SliderStyleModel",
      "state": {
       "description_width": ""
      }
     },
     "c3daaaa2cc8c4943b6b72ea3d2f85d12": {
      "model_module": "@jupyter-widgets/controls",
      "model_module_version": "1.5.0",
      "model_name": "SliderStyleModel",
      "state": {
       "description_width": ""
      }
     },
     "c4cd51bda4884d41be15f5fe3c18627b": {
      "model_module": "@jupyter-widgets/controls",
      "model_module_version": "1.5.0",
      "model_name": "SliderStyleModel",
      "state": {
       "description_width": ""
      }
     },
     "c524d3c8ec064e2384eefd10a2e65928": {
      "model_module": "@jupyter-widgets/controls",
      "model_module_version": "1.5.0",
      "model_name": "IntSliderModel",
      "state": {
       "description": "West:",
       "layout": "IPY_MODEL_25d81cff5f1943c18e5f77aa88c4ea4b",
       "max": 8,
       "style": "IPY_MODEL_d626d904077542e29d4c9ba2cb03cd78",
       "value": 6
      }
     },
     "c53366cc09524856a02ccd529bdb06ec": {
      "model_module": "@jupyter-widgets/controls",
      "model_module_version": "1.5.0",
      "model_name": "IntSliderModel",
      "state": {
       "description": "East:",
       "layout": "IPY_MODEL_ecc2575e0e1a49a29de8b61e0a4e47c2",
       "min": 1,
       "style": "IPY_MODEL_6711f63870fb4506a0dd8d81154ab64b",
       "value": 75
      }
     },
     "c5e45f9e35004a40bcaf26da859e08d2": {
      "model_module": "@jupyter-widgets/base",
      "model_module_version": "1.2.0",
      "model_name": "LayoutModel",
      "state": {}
     },
     "c63a5ff32a344a7cb68e5370742788c5": {
      "model_module": "@jupyter-widgets/controls",
      "model_module_version": "1.5.0",
      "model_name": "SliderStyleModel",
      "state": {
       "description_width": ""
      }
     },
     "c669f94045db4027a60d355a5f9db1de": {
      "model_module": "@jupyter-widgets/controls",
      "model_module_version": "1.5.0",
      "model_name": "SliderStyleModel",
      "state": {
       "description_width": ""
      }
     },
     "c67f8955120043c3b395918a46948de5": {
      "model_module": "@jupyter-widgets/base",
      "model_module_version": "1.2.0",
      "model_name": "LayoutModel",
      "state": {}
     },
     "c69f63965220406b9a66e090d8c388d4": {
      "model_module": "@jupyter-widgets/controls",
      "model_module_version": "1.5.0",
      "model_name": "SliderStyleModel",
      "state": {
       "description_width": ""
      }
     },
     "c749da3e04d94e968d814b6d61da62b0": {
      "model_module": "@jupyter-widgets/controls",
      "model_module_version": "1.5.0",
      "model_name": "IntSliderModel",
      "state": {
       "description": "East:",
       "layout": "IPY_MODEL_89e75b901df941e9a3975124596a0c18",
       "min": 1,
       "style": "IPY_MODEL_d074f36ec02344cab3f2e8d63218582a",
       "value": 75
      }
     },
     "c7708e4dc8234b63832db609a54adcc9": {
      "model_module": "@jupyter-widgets/controls",
      "model_module_version": "1.5.0",
      "model_name": "IntSliderModel",
      "state": {
       "description": "East:",
       "layout": "IPY_MODEL_6baf6cad5f3c4a9a8517b5cfa4bdf421",
       "style": "IPY_MODEL_ed4a4b86bc6543e9a006e8ce6a1377a4",
       "value": 75
      }
     },
     "c79f081bed344d0c82d409e0ab1a08e7": {
      "model_module": "@jupyter-widgets/controls",
      "model_module_version": "1.5.0",
      "model_name": "IntSliderModel",
      "state": {
       "description": "West:",
       "layout": "IPY_MODEL_0b2bd8d02b6a4697b334540ec3db9fad",
       "max": 44,
       "style": "IPY_MODEL_e3e17047fcc54570a8b5d8bdc7f5ce1f"
      }
     },
     "c7acfd4c3d9a48039cf552b9d01f6904": {
      "model_module": "@jupyter-widgets/controls",
      "model_module_version": "1.5.0",
      "model_name": "SliderStyleModel",
      "state": {
       "description_width": ""
      }
     },
     "c7af018888b145878c584612c5c26ffb": {
      "model_module": "@jupyter-widgets/base",
      "model_module_version": "1.2.0",
      "model_name": "LayoutModel",
      "state": {}
     },
     "c7b535a0bd644c4da08a8beeccefab90": {
      "model_module": "@jupyter-widgets/base",
      "model_module_version": "1.2.0",
      "model_name": "LayoutModel",
      "state": {}
     },
     "c7fc204b9fea417eab021a0b5460c536": {
      "model_module": "@jupyter-widgets/base",
      "model_module_version": "1.2.0",
      "model_name": "LayoutModel",
      "state": {}
     },
     "c8378d170e6e47ffacf18646cb53e8f8": {
      "model_module": "@jupyter-widgets/base",
      "model_module_version": "1.2.0",
      "model_name": "LayoutModel",
      "state": {}
     },
     "c934111d986143969916dbd2470c74d3": {
      "model_module": "@jupyter-widgets/controls",
      "model_module_version": "1.5.0",
      "model_name": "SliderStyleModel",
      "state": {
       "description_width": ""
      }
     },
     "c96fbdd1bd27437a9aa2b58afffb6710": {
      "model_module": "@jupyter-widgets/base",
      "model_module_version": "1.2.0",
      "model_name": "LayoutModel",
      "state": {}
     },
     "c9ab3bfca4b94796b16689294b570469": {
      "model_module": "@jupyter-widgets/controls",
      "model_module_version": "1.5.0",
      "model_name": "SliderStyleModel",
      "state": {
       "description_width": ""
      }
     },
     "ca4927a3f37c4eea8bc0b73b0553391a": {
      "model_module": "@jupyter-widgets/controls",
      "model_module_version": "1.5.0",
      "model_name": "IntSliderModel",
      "state": {
       "description": "North:",
       "layout": "IPY_MODEL_13b6bbf34bde4a0eb032eb44e42d4f4a",
       "style": "IPY_MODEL_84f5d474090e46efa799001f7ee502b3",
       "value": 10
      }
     },
     "ca52a5b8b1f8466ca728bc4d5d93144b": {
      "model_module": "@jupyter-widgets/controls",
      "model_module_version": "1.5.0",
      "model_name": "IntSliderModel",
      "state": {
       "layout": "IPY_MODEL_173f0fb61cc5404eb0dcaf5b1c03c3ec",
       "max": 5,
       "style": "IPY_MODEL_ee119c81884041f4ab12081d951cad09",
       "value": 3
      }
     },
     "ca536960d62040738d0e391ec49fe47f": {
      "model_module": "@jupyter-widgets/controls",
      "model_module_version": "1.5.0",
      "model_name": "IntSliderModel",
      "state": {
       "description": "North:",
       "layout": "IPY_MODEL_0e817dcaa75c4ee2aef6c4b05b5be804",
       "max": 20,
       "min": 1,
       "style": "IPY_MODEL_3da5ab480d7e4ec7aaae6254b3c6a1c0",
       "value": 12
      }
     },
     "ca71c246886748e4810e4763360661b6": {
      "model_module": "@jupyter-widgets/controls",
      "model_module_version": "1.5.0",
      "model_name": "IntSliderModel",
      "state": {
       "description": "North:",
       "layout": "IPY_MODEL_4a06f75b676e43d8aafe1dc8bc6f9989",
       "max": 10,
       "style": "IPY_MODEL_2afd9727cb0342b7a83c29c778ed1484"
      }
     },
     "ca73e4ad9fae455b9f1832709861e75f": {
      "model_module": "@jupyter-widgets/base",
      "model_module_version": "1.2.0",
      "model_name": "LayoutModel",
      "state": {}
     },
     "ca824d71353145ada9515ed221a469a2": {
      "model_module": "@jupyter-widgets/base",
      "model_module_version": "1.2.0",
      "model_name": "LayoutModel",
      "state": {}
     },
     "caa963179aa44c8388dcbb46792f1b99": {
      "model_module": "@jupyter-widgets/base",
      "model_module_version": "1.2.0",
      "model_name": "LayoutModel",
      "state": {}
     },
     "cb0a28d32ccb4594994402047336e305": {
      "model_module": "@jupyter-widgets/controls",
      "model_module_version": "1.5.0",
      "model_name": "IntSliderModel",
      "state": {
       "description": "Particles:",
       "layout": "IPY_MODEL_7cc9f2d041574d42b179083a8fa69890",
       "max": 5000,
       "min": 1,
       "style": "IPY_MODEL_8a40c4e95db245bd91506434d9e11fdb",
       "value": 5000
      }
     },
     "cb3df76546f545a392dd94f3363be2fa": {
      "model_module": "@jupyter-widgets/controls",
      "model_module_version": "1.5.0",
      "model_name": "IntSliderModel",
      "state": {
       "description": "East:",
       "layout": "IPY_MODEL_77e908c742134d5888454e95d700dbc6",
       "style": "IPY_MODEL_a92d899f397140f08a206a151f242783",
       "value": 63
      }
     },
     "cb67368cdfa24b7ea526191232887618": {
      "model_module": "@jupyter-widgets/controls",
      "model_module_version": "1.5.0",
      "model_name": "IntSliderModel",
      "state": {
       "description": "West:",
       "layout": "IPY_MODEL_fb1c77670ca14001bc46692fcb977b29",
       "max": 25,
       "min": 1,
       "style": "IPY_MODEL_ebfbb911c041427baf1203676d458ce4",
       "value": 5
      }
     },
     "cbc3743aaeab4f86849ebd4d30da0470": {
      "model_module": "@jupyter-widgets/base",
      "model_module_version": "1.2.0",
      "model_name": "LayoutModel",
      "state": {}
     },
     "cbd9547526c74bea98f3297c456ff24b": {
      "model_module": "@jupyter-widgets/controls",
      "model_module_version": "1.5.0",
      "model_name": "IntSliderModel",
      "state": {
       "description": "East:",
       "layout": "IPY_MODEL_f7767aa3f42243cabf4313e532ba2d77",
       "style": "IPY_MODEL_7f9f6c0b9939496fb81eb56dd1e8d4a3",
       "value": 75
      }
     },
     "cc1626d7a4494ff081efd2bc623207b2": {
      "model_module": "@jupyter-widgets/controls",
      "model_module_version": "1.5.0",
      "model_name": "LabelModel",
      "state": {
       "layout": "IPY_MODEL_d3e672934e1849c58c299b72637a480b",
       "style": "IPY_MODEL_3b0bf4faffb244beb7eb8ae378bc7406",
       "value": "Changes in source values are reflected in target1"
      }
     },
     "cc16f81996f04fd586855e3addce4c65": {
      "model_module": "@jupyter-widgets/controls",
      "model_module_version": "1.5.0",
      "model_name": "IntSliderModel",
      "state": {
       "layout": "IPY_MODEL_f28840b05c954cb2b7e2b91b19a543d1",
       "max": 9,
       "min": 4,
       "style": "IPY_MODEL_c37dc956951d4fd9bb139b973fda9f4d",
       "value": 6
      }
     },
     "cc30f5ee25ba403e9daad568821bed8f": {
      "model_module": "@jupyter-widgets/base",
      "model_module_version": "1.2.0",
      "model_name": "LayoutModel",
      "state": {}
     },
     "cc587be26c194c0d93b862b1a1acadc0": {
      "model_module": "@jupyter-widgets/controls",
      "model_module_version": "1.5.0",
      "model_name": "IntSliderModel",
      "state": {
       "description": "South:",
       "layout": "IPY_MODEL_a121e4aac9a34baab8a8813b665bdb26",
       "max": 17,
       "min": 1,
       "style": "IPY_MODEL_322996ca1a0445a599bcbde2ffa4eeea",
       "value": 10
      }
     },
     "cd75131fe8104a0e935c9cdfed6fde8a": {
      "model_module": "@jupyter-widgets/base",
      "model_module_version": "1.2.0",
      "model_name": "LayoutModel",
      "state": {}
     },
     "cd7d01ef70af4e4284e6130b5fd7a77f": {
      "model_module": "@jupyter-widgets/controls",
      "model_module_version": "1.5.0",
      "model_name": "SliderStyleModel",
      "state": {
       "description_width": ""
      }
     },
     "cdb9644024364d8485a0064ad0685194": {
      "model_module": "@jupyter-widgets/controls",
      "model_module_version": "1.5.0",
      "model_name": "IntSliderModel",
      "state": {
       "description": "West:",
       "layout": "IPY_MODEL_08c8bc1ad54045efb0329ed2da7928e1",
       "style": "IPY_MODEL_bbe5786a751c4aeaa9fd5280e174b07f"
      }
     },
     "ce1b2864201a4402a53efc6b61e00db4": {
      "model_module": "@jupyter-widgets/base",
      "model_module_version": "1.2.0",
      "model_name": "LayoutModel",
      "state": {}
     },
     "ce709be0bc954ad391c2247208c3250a": {
      "model_module": "@jupyter-widgets/controls",
      "model_module_version": "1.5.0",
      "model_name": "SliderStyleModel",
      "state": {
       "description_width": ""
      }
     },
     "ce81d689470d42eda3c8f75f2f82e8d4": {
      "model_module": "@jupyter-widgets/controls",
      "model_module_version": "1.5.0",
      "model_name": "IntSliderModel",
      "state": {
       "description": "East:",
       "layout": "IPY_MODEL_a5a027b6c5934a53a74a54550c01acba",
       "style": "IPY_MODEL_f3ceaf044a4d494bb4372ee6f60751ab",
       "value": 56
      }
     },
     "ce85ca6831d143989679bc96536baa23": {
      "model_module": "@jupyter-widgets/base",
      "model_module_version": "1.2.0",
      "model_name": "LayoutModel",
      "state": {}
     },
     "ceb0af58c6fe4f1a905892fa51cecf04": {
      "model_module": "@jupyter-widgets/controls",
      "model_module_version": "1.5.0",
      "model_name": "SliderStyleModel",
      "state": {
       "description_width": ""
      }
     },
     "ceb9a6f05dec4eef9ddbb9b9bbcc32f9": {
      "model_module": "@jupyter-widgets/controls",
      "model_module_version": "1.5.0",
      "model_name": "SliderStyleModel",
      "state": {
       "description_width": ""
      }
     },
     "cec62d34cf6541a28621a531d2c73295": {
      "model_module": "@jupyter-widgets/base",
      "model_module_version": "1.2.0",
      "model_name": "LayoutModel",
      "state": {}
     },
     "cf91d54ffedf4cc0b63cd51b7b7befe2": {
      "model_module": "@jupyter-widgets/controls",
      "model_module_version": "1.5.0",
      "model_name": "SliderStyleModel",
      "state": {
       "description_width": ""
      }
     },
     "cfb896637f864ff0a2e68f58f60af75d": {
      "model_module": "@jupyter-widgets/base",
      "model_module_version": "1.2.0",
      "model_name": "LayoutModel",
      "state": {}
     },
     "d074f36ec02344cab3f2e8d63218582a": {
      "model_module": "@jupyter-widgets/controls",
      "model_module_version": "1.5.0",
      "model_name": "SliderStyleModel",
      "state": {
       "description_width": ""
      }
     },
     "d0cd7993579f45deb386b8756ab0a66f": {
      "model_module": "@jupyter-widgets/controls",
      "model_module_version": "1.5.0",
      "model_name": "IntSliderModel",
      "state": {
       "layout": "IPY_MODEL_2a20d87b74d2442f9b1e2de11606255b",
       "style": "IPY_MODEL_07ac80ae04004915921e2b589f1216b2",
       "value": 49
      }
     },
     "d0e9a5db6e3d438cb1a74caacc396aa7": {
      "model_module": "@jupyter-widgets/controls",
      "model_module_version": "1.5.0",
      "model_name": "IntSliderModel",
      "state": {
       "description": "East:",
       "layout": "IPY_MODEL_a4e57fa4093146f4950c849a5eede54f",
       "style": "IPY_MODEL_0bb77747fc034aabb707d49721088822",
       "value": 60
      }
     },
     "d13dd706e8654f638a49f4d51b57c9ac": {
      "model_module": "@jupyter-widgets/controls",
      "model_module_version": "1.5.0",
      "model_name": "IntSliderModel",
      "state": {
       "description": "South:",
       "layout": "IPY_MODEL_e1714b31a1a04f0a85281a93c69df352",
       "style": "IPY_MODEL_4d5d407b67e0480daab8a6d180900def",
       "value": 10
      }
     },
     "d17eb7f5dabe433f95016311fc58f8e9": {
      "model_module": "@jupyter-widgets/base",
      "model_module_version": "1.2.0",
      "model_name": "LayoutModel",
      "state": {}
     },
     "d18d63e1c5f54863ad7711b852c71e24": {
      "model_module": "@jupyter-widgets/controls",
      "model_module_version": "1.5.0",
      "model_name": "IntSliderModel",
      "state": {
       "description": "South:",
       "layout": "IPY_MODEL_46365b0f89e54466a971a502cb32acce",
       "max": 56,
       "style": "IPY_MODEL_88839073ec1c46dbab21e40c7638e432",
       "value": 56
      }
     },
     "d2205d9f79a54ddfabcc784df437610f": {
      "model_module": "@jupyter-widgets/controls",
      "model_module_version": "1.5.0",
      "model_name": "SliderStyleModel",
      "state": {
       "description_width": ""
      }
     },
     "d34c524ea10d416ebf2e1fdb20f413e2": {
      "model_module": "@jupyter-widgets/controls",
      "model_module_version": "1.5.0",
      "model_name": "SliderStyleModel",
      "state": {
       "description_width": ""
      }
     },
     "d38c735150c14cb986dd445cadb7dd79": {
      "model_module": "@jupyter-widgets/controls",
      "model_module_version": "1.5.0",
      "model_name": "SliderStyleModel",
      "state": {
       "description_width": ""
      }
     },
     "d3e672934e1849c58c299b72637a480b": {
      "model_module": "@jupyter-widgets/base",
      "model_module_version": "1.2.0",
      "model_name": "LayoutModel",
      "state": {}
     },
     "d44edf41edcf4ee8852a4d5b24134751": {
      "model_module": "@jupyter-widgets/base",
      "model_module_version": "1.2.0",
      "model_name": "LayoutModel",
      "state": {}
     },
     "d47114e3f65a43a6bbd49ee17d48fcbc": {
      "model_module": "@jupyter-widgets/controls",
      "model_module_version": "1.5.0",
      "model_name": "IntSliderModel",
      "state": {
       "description": "North:",
       "layout": "IPY_MODEL_a9397a88d42c43c2aff17301639604a6",
       "style": "IPY_MODEL_9481717dc78d49c9b81b4a007b17318a",
       "value": 10
      }
     },
     "d4867b2b51b849aba169bba1708469ef": {
      "model_module": "@jupyter-widgets/base",
      "model_module_version": "1.2.0",
      "model_name": "LayoutModel",
      "state": {}
     },
     "d4cc90abb2114638b334f009937685da": {
      "model_module": "@jupyter-widgets/controls",
      "model_module_version": "1.5.0",
      "model_name": "IntSliderModel",
      "state": {
       "description": "West:",
       "layout": "IPY_MODEL_f8cf14d901c44e4e8037cb814495034a",
       "max": 25,
       "min": 1,
       "style": "IPY_MODEL_09f25b83c81f4d7e98157fd60cbbf336",
       "value": 5
      }
     },
     "d504857ea71e42cc8a604a3746718800": {
      "model_module": "@jupyter-widgets/controls",
      "model_module_version": "1.5.0",
      "model_name": "SliderStyleModel",
      "state": {
       "description_width": ""
      }
     },
     "d5c15ec4cced4e53a384586191b146d8": {
      "model_module": "@jupyter-widgets/base",
      "model_module_version": "1.2.0",
      "model_name": "LayoutModel",
      "state": {}
     },
     "d5dc942b20e34c4eb5d4cc72397dfdc9": {
      "model_module": "@jupyter-widgets/controls",
      "model_module_version": "1.5.0",
      "model_name": "IntSliderModel",
      "state": {
       "description": "West:",
       "layout": "IPY_MODEL_e22f419d827e45b2944570bbd8e94c5e",
       "max": 84,
       "style": "IPY_MODEL_fc1289281eef4aeab01d5b570d7b60f6",
       "value": 21
      }
     },
     "d5f362b1f02d4b2eaa782cd1ee5485bb": {
      "model_module": "@jupyter-widgets/base",
      "model_module_version": "1.2.0",
      "model_name": "LayoutModel",
      "state": {}
     },
     "d626d904077542e29d4c9ba2cb03cd78": {
      "model_module": "@jupyter-widgets/controls",
      "model_module_version": "1.5.0",
      "model_name": "SliderStyleModel",
      "state": {
       "description_width": ""
      }
     },
     "d62a05121ade47c9b8731df11154bb5c": {
      "model_module": "@jupyter-widgets/controls",
      "model_module_version": "1.5.0",
      "model_name": "IntSliderModel",
      "state": {
       "layout": "IPY_MODEL_96fa7f97f38b41acba19b49497cd0aef",
       "style": "IPY_MODEL_b15dcc495d914b2c86eb8317be6fcb62",
       "value": 54
      }
     },
     "d6b7de66941744e681ac580ec7fff13d": {
      "model_module": "@jupyter-widgets/controls",
      "model_module_version": "1.5.0",
      "model_name": "IntSliderModel",
      "state": {
       "layout": "IPY_MODEL_7fcf7af9e31e497baa8667178568080a",
       "style": "IPY_MODEL_27189ac578f047a5b155326ac1d3c7d7",
       "value": 27
      }
     },
     "d6ee008ffd5843aea9c1b85bf02771b6": {
      "model_module": "@jupyter-widgets/controls",
      "model_module_version": "1.5.0",
      "model_name": "IntSliderModel",
      "state": {
       "description": "East:",
       "layout": "IPY_MODEL_73657ff051ea4ab4aeda4f58eaad3c3b",
       "style": "IPY_MODEL_3b763c91ca264ff5a2f069d4dc34993b",
       "value": 25
      }
     },
     "d720e305893a4979981b52be3f5576c8": {
      "model_module": "@jupyter-widgets/controls",
      "model_module_version": "1.5.0",
      "model_name": "IntSliderModel",
      "state": {
       "description": "Particles:",
       "layout": "IPY_MODEL_07ca0e09b57a403281642b7d6644aba6",
       "max": 5000,
       "min": 1,
       "style": "IPY_MODEL_9737f299a12e4feeb158f38207adbe89",
       "value": 5000
      }
     },
     "d75fb71f1a31431bbffe7206142ec155": {
      "model_module": "@jupyter-widgets/controls",
      "model_module_version": "1.5.0",
      "model_name": "SliderStyleModel",
      "state": {
       "description_width": ""
      }
     },
     "d78a4913d07244779a837a6b292e8b6d": {
      "model_module": "@jupyter-widgets/base",
      "model_module_version": "1.2.0",
      "model_name": "LayoutModel",
      "state": {}
     },
     "d8aacfc09c934e9199d24390d6097053": {
      "model_module": "@jupyter-widgets/controls",
      "model_module_version": "1.5.0",
      "model_name": "IntSliderModel",
      "state": {
       "description": "East:",
       "layout": "IPY_MODEL_73ee13a640a74cd691b0e9505e287836",
       "min": 1,
       "style": "IPY_MODEL_64e455c8806245ad927b33ff20e125e8",
       "value": 43
      }
     },
     "d931d3710428463e95c3fe55c317856b": {
      "model_module": "@jupyter-widgets/base",
      "model_module_version": "1.2.0",
      "model_name": "LayoutModel",
      "state": {}
     },
     "d9e4446cef4a46b597b723c430f04e0b": {
      "model_module": "@jupyter-widgets/controls",
      "model_module_version": "1.5.0",
      "model_name": "IntSliderModel",
      "state": {
       "description": "East:",
       "layout": "IPY_MODEL_aae3353601da40c5ac3de74fab1f060d",
       "style": "IPY_MODEL_460aad16f3a14a3d823567321ba0c59e",
       "value": 60
      }
     },
     "da35e2c98df447c6b1211494af7d029d": {
      "model_module": "@jupyter-widgets/base",
      "model_module_version": "1.2.0",
      "model_name": "LayoutModel",
      "state": {}
     },
     "db04a3395337431d88d52527908ede5e": {
      "model_module": "@jupyter-widgets/base",
      "model_module_version": "1.2.0",
      "model_name": "LayoutModel",
      "state": {}
     },
     "dc2e31e8bac44a1689fdde06a95c4d8b": {
      "model_module": "@jupyter-widgets/controls",
      "model_module_version": "1.5.0",
      "model_name": "IntSliderModel",
      "state": {
       "description": "West:",
       "layout": "IPY_MODEL_6aeb58b368824aec9ee43e08a8f370ad",
       "style": "IPY_MODEL_145f17d48dff47d18d1109cfb68c9440"
      }
     },
     "dca06d5daf6643a18bdcc5bbd2facb38": {
      "model_module": "@jupyter-widgets/base",
      "model_module_version": "1.2.0",
      "model_name": "LayoutModel",
      "state": {}
     },
     "dd0246d3a65048e78867e7566c36af16": {
      "model_module": "@jupyter-widgets/controls",
      "model_module_version": "1.5.0",
      "model_name": "IntSliderModel",
      "state": {
       "description": "South:",
       "layout": "IPY_MODEL_1741b2d3c97a4c52986d07c00eea08d5",
       "style": "IPY_MODEL_1342e654b0c7453eb990b20d6aa0ab90"
      }
     },
     "dd43f073f02b4a0094228c9cd17680e4": {
      "model_module": "@jupyter-widgets/controls",
      "model_module_version": "1.5.0",
      "model_name": "IntSliderModel",
      "state": {
       "description": "South:",
       "layout": "IPY_MODEL_b9e2d2cf8439455298b4eab6bb3e9a37",
       "style": "IPY_MODEL_398ea1d7f4054d9b8fc31e9084e6adec"
      }
     },
     "dd4495866af84aebb2c038f74191e21b": {
      "model_module": "@jupyter-widgets/controls",
      "model_module_version": "1.5.0",
      "model_name": "IntSliderModel",
      "state": {
       "description": "North:",
       "layout": "IPY_MODEL_c7b535a0bd644c4da08a8beeccefab90",
       "style": "IPY_MODEL_a5e88579ae894d949f8454db2c2a73fe"
      }
     },
     "dd6d25d4551e404aa969ee4c58ecb031": {
      "model_module": "@jupyter-widgets/base",
      "model_module_version": "1.2.0",
      "model_name": "LayoutModel",
      "state": {}
     },
     "dd7b9f26c3614c069d6296da3f6bc779": {
      "model_module": "@jupyter-widgets/controls",
      "model_module_version": "1.5.0",
      "model_name": "SliderStyleModel",
      "state": {
       "description_width": ""
      }
     },
     "ddead5705ff141d989a1515433c17a6e": {
      "model_module": "@jupyter-widgets/base",
      "model_module_version": "1.2.0",
      "model_name": "LayoutModel",
      "state": {}
     },
     "de0aaae44ac045af89818d32ff808aa4": {
      "model_module": "@jupyter-widgets/controls",
      "model_module_version": "1.5.0",
      "model_name": "SliderStyleModel",
      "state": {
       "description_width": ""
      }
     },
     "de13137e92f545a886c63ea61debf717": {
      "model_module": "@jupyter-widgets/base",
      "model_module_version": "1.2.0",
      "model_name": "LayoutModel",
      "state": {}
     },
     "de19245df5a6473385823416bf94c11e": {
      "model_module": "@jupyter-widgets/base",
      "model_module_version": "1.2.0",
      "model_name": "LayoutModel",
      "state": {}
     },
     "de35127a35fd454ca2f487df9ff8b7b7": {
      "model_module": "@jupyter-widgets/controls",
      "model_module_version": "1.5.0",
      "model_name": "IntSliderModel",
      "state": {
       "description": "West:",
       "layout": "IPY_MODEL_e4cdca9adffc4898849829af33447f29",
       "max": 37,
       "style": "IPY_MODEL_8e35a0c905c7473d905ce03175f4937b",
       "value": 15
      }
     },
     "ded057d3fb8f4439ba0284cf2a815422": {
      "model_module": "@jupyter-widgets/controls",
      "model_module_version": "1.5.0",
      "model_name": "SliderStyleModel",
      "state": {
       "description_width": ""
      }
     },
     "df2cc41343674f7ca7d2b736063d9a9a": {
      "model_module": "@jupyter-widgets/controls",
      "model_module_version": "1.5.0",
      "model_name": "IntSliderModel",
      "state": {
       "description": "East:",
       "layout": "IPY_MODEL_1a848751118e46eba056f277e3e3c56b",
       "min": 1,
       "style": "IPY_MODEL_263f14ee3d614ac8b70f90e9bb79cece",
       "value": 38
      }
     },
     "dfa283734dd640e3b8e3a3cf469e38fe": {
      "model_module": "@jupyter-widgets/controls",
      "model_module_version": "1.5.0",
      "model_name": "IntSliderModel",
      "state": {
       "description": "Particles:",
       "layout": "IPY_MODEL_e4e4afe3671e4f7eb2795d252c7eb258",
       "max": 5000,
       "min": 1,
       "style": "IPY_MODEL_c28ada39d8994e659ed5d61eee979a90",
       "value": 5000
      }
     },
     "dfd506e4a52d458ab6f91b2c367ecc2c": {
      "model_module": "@jupyter-widgets/controls",
      "model_module_version": "1.5.0",
      "model_name": "IntSliderModel",
      "state": {
       "description": "West:",
       "layout": "IPY_MODEL_18bf1c0e69f0409ab4f91abf693c7020",
       "max": 25,
       "min": 1,
       "style": "IPY_MODEL_c69f63965220406b9a66e090d8c388d4",
       "value": 5
      }
     },
     "e066e2f7a06b48c6a5e2cbd6ef1204a5": {
      "model_module": "@jupyter-widgets/controls",
      "model_module_version": "1.5.0",
      "model_name": "SliderStyleModel",
      "state": {
       "description_width": ""
      }
     },
     "e0baab02e0934b6caddaa96af9bcb9de": {
      "model_module": "@jupyter-widgets/controls",
      "model_module_version": "1.5.0",
      "model_name": "SliderStyleModel",
      "state": {
       "description_width": ""
      }
     },
     "e0dbfd7734ab444b95eec10622497e47": {
      "model_module": "@jupyter-widgets/controls",
      "model_module_version": "1.5.0",
      "model_name": "SliderStyleModel",
      "state": {
       "description_width": ""
      }
     },
     "e0ee172fb8c84bbfb814895665e59344": {
      "model_module": "@jupyter-widgets/controls",
      "model_module_version": "1.5.0",
      "model_name": "IntSliderModel",
      "state": {
       "description": "West:",
       "layout": "IPY_MODEL_bfb446c2ef6f4fcc80d493bd7d88e735",
       "max": 57,
       "min": 1,
       "style": "IPY_MODEL_77750a00116c4073818d71a2d566d03a",
       "value": 12
      }
     },
     "e1714b31a1a04f0a85281a93c69df352": {
      "model_module": "@jupyter-widgets/base",
      "model_module_version": "1.2.0",
      "model_name": "LayoutModel",
      "state": {}
     },
     "e1e3ca48b16c4a46860a245fbc303402": {
      "model_module": "@jupyter-widgets/controls",
      "model_module_version": "1.5.0",
      "model_name": "IntSliderModel",
      "state": {
       "description": "Particles:",
       "layout": "IPY_MODEL_33bccced14d0454eae108591664285cc",
       "max": 5000,
       "min": 1,
       "style": "IPY_MODEL_ded057d3fb8f4439ba0284cf2a815422",
       "value": 779
      }
     },
     "e22f419d827e45b2944570bbd8e94c5e": {
      "model_module": "@jupyter-widgets/base",
      "model_module_version": "1.2.0",
      "model_name": "LayoutModel",
      "state": {}
     },
     "e2a41751b7f64e9f8c16f05130e38199": {
      "model_module": "@jupyter-widgets/controls",
      "model_module_version": "1.5.0",
      "model_name": "IntSliderModel",
      "state": {
       "description": "North:",
       "layout": "IPY_MODEL_ce1b2864201a4402a53efc6b61e00db4",
       "style": "IPY_MODEL_fc3abc332208452eb14f44c855ea88dd"
      }
     },
     "e36ee1dcafce4d4aadfab2ca9af6f850": {
      "model_module": "@jupyter-widgets/controls",
      "model_module_version": "1.5.0",
      "model_name": "IntSliderModel",
      "state": {
       "description": "East:",
       "layout": "IPY_MODEL_7c2d6dc9ca544eeebeba07146744ce8f",
       "style": "IPY_MODEL_61314e1a75ed467595f4a4a76b6488ac",
       "value": 75
      }
     },
     "e37f7b9dfe2842dfade01848ca576240": {
      "model_module": "@jupyter-widgets/base",
      "model_module_version": "1.2.0",
      "model_name": "LayoutModel",
      "state": {}
     },
     "e3c2462cabba46b0a789a312b27b8b5b": {
      "model_module": "@jupyter-widgets/base",
      "model_module_version": "1.2.0",
      "model_name": "LayoutModel",
      "state": {}
     },
     "e3c29f257e694f42b33c133f0a09c156": {
      "model_module": "@jupyter-widgets/controls",
      "model_module_version": "1.5.0",
      "model_name": "SliderStyleModel",
      "state": {
       "description_width": ""
      }
     },
     "e3e17047fcc54570a8b5d8bdc7f5ce1f": {
      "model_module": "@jupyter-widgets/controls",
      "model_module_version": "1.5.0",
      "model_name": "SliderStyleModel",
      "state": {
       "description_width": ""
      }
     },
     "e3ef49fe03394d0e91f1d142edc5ee4c": {
      "model_module": "@jupyter-widgets/base",
      "model_module_version": "1.2.0",
      "model_name": "LayoutModel",
      "state": {}
     },
     "e4571139499943af8006fe7e55cb9353": {
      "model_module": "@jupyter-widgets/base",
      "model_module_version": "1.2.0",
      "model_name": "LayoutModel",
      "state": {}
     },
     "e4873d504f78492f86fed5c579ea7838": {
      "model_module": "@jupyter-widgets/base",
      "model_module_version": "1.2.0",
      "model_name": "LayoutModel",
      "state": {}
     },
     "e49ab86221744201bd369ac928c69fa3": {
      "model_module": "@jupyter-widgets/controls",
      "model_module_version": "1.5.0",
      "model_name": "SliderStyleModel",
      "state": {
       "description_width": ""
      }
     },
     "e4cdca9adffc4898849829af33447f29": {
      "model_module": "@jupyter-widgets/base",
      "model_module_version": "1.2.0",
      "model_name": "LayoutModel",
      "state": {}
     },
     "e4e49a36e8064230bb70350dd82607a9": {
      "model_module": "@jupyter-widgets/controls",
      "model_module_version": "1.5.0",
      "model_name": "SliderStyleModel",
      "state": {
       "description_width": ""
      }
     },
     "e4e4afe3671e4f7eb2795d252c7eb258": {
      "model_module": "@jupyter-widgets/base",
      "model_module_version": "1.2.0",
      "model_name": "LayoutModel",
      "state": {}
     },
     "e4edc70825c346eb9ea0ec6da9392fd1": {
      "model_module": "@jupyter-widgets/base",
      "model_module_version": "1.2.0",
      "model_name": "LayoutModel",
      "state": {}
     },
     "e50017ff070143c296b618d85d80f219": {
      "model_module": "@jupyter-widgets/base",
      "model_module_version": "1.2.0",
      "model_name": "LayoutModel",
      "state": {}
     },
     "e53c7a424c3845c780c3120e59d15a25": {
      "model_module": "@jupyter-widgets/controls",
      "model_module_version": "1.5.0",
      "model_name": "IntSliderModel",
      "state": {
       "description": "West:",
       "layout": "IPY_MODEL_0b83220f35af40629b32424d3e9b3a8b",
       "max": 44,
       "style": "IPY_MODEL_1f07d6e29b3d4bd6b19112ad80071466",
       "value": 14
      }
     },
     "e64de745f4da4d32b0bab988fef0a1a8": {
      "model_module": "@jupyter-widgets/controls",
      "model_module_version": "1.5.0",
      "model_name": "SliderStyleModel",
      "state": {
       "description_width": ""
      }
     },
     "e6906651920345caaa819c3832114987": {
      "model_module": "@jupyter-widgets/controls",
      "model_module_version": "1.5.0",
      "model_name": "SliderStyleModel",
      "state": {
       "description_width": ""
      }
     },
     "e690c8a5b22845fd84a8ebb134282640": {
      "model_module": "@jupyter-widgets/controls",
      "model_module_version": "1.5.0",
      "model_name": "IntSliderModel",
      "state": {
       "description": "North:",
       "layout": "IPY_MODEL_42612b0f11784ff69af6a42d937269e6",
       "max": 8,
       "style": "IPY_MODEL_e49ab86221744201bd369ac928c69fa3",
       "value": 7
      }
     },
     "e750b4b65e654617b9cc2c1fadfc1104": {
      "model_module": "@jupyter-widgets/base",
      "model_module_version": "1.2.0",
      "model_name": "LayoutModel",
      "state": {}
     },
     "e8099d0ef83548808fdfe35e95a7591f": {
      "model_module": "@jupyter-widgets/base",
      "model_module_version": "1.2.0",
      "model_name": "LayoutModel",
      "state": {}
     },
     "e812beacae354fc7a42098a326b0bc00": {
      "model_module": "@jupyter-widgets/base",
      "model_module_version": "1.2.0",
      "model_name": "LayoutModel",
      "state": {}
     },
     "e81838333848418ba87798ac80655240": {
      "model_module": "@jupyter-widgets/base",
      "model_module_version": "1.2.0",
      "model_name": "LayoutModel",
      "state": {}
     },
     "ea10d3b770424cfabc72ad0b03db1711": {
      "model_module": "@jupyter-widgets/controls",
      "model_module_version": "1.5.0",
      "model_name": "SliderStyleModel",
      "state": {
       "description_width": ""
      }
     },
     "ea85800198084aa498333879fe45b515": {
      "model_module": "@jupyter-widgets/controls",
      "model_module_version": "1.5.0",
      "model_name": "IntSliderModel",
      "state": {
       "description": "North:",
       "layout": "IPY_MODEL_fa79b7ee75fd460ca8cec8c51714ed5c",
       "max": 20,
       "min": 1,
       "style": "IPY_MODEL_ee7ce822e01d4c51a4361cd72339c226",
       "value": 10
      }
     },
     "ea9da1c17b2d442295704ea8fd754af1": {
      "model_module": "@jupyter-widgets/controls",
      "model_module_version": "1.5.0",
      "model_name": "IntSliderModel",
      "state": {
       "description": "West:",
       "layout": "IPY_MODEL_8c72c1deb704467da32df42fadb993f3",
       "style": "IPY_MODEL_e6906651920345caaa819c3832114987"
      }
     },
     "eaa2ac4340a949a0b25718fa709d42ee": {
      "model_module": "@jupyter-widgets/base",
      "model_module_version": "1.2.0",
      "model_name": "LayoutModel",
      "state": {}
     },
     "eb3f1184baf744068a15345b44442a57": {
      "model_module": "@jupyter-widgets/controls",
      "model_module_version": "1.5.0",
      "model_name": "IntSliderModel",
      "state": {
       "description": "South:",
       "layout": "IPY_MODEL_94ee1f9185d0437487e6e11973a769bf",
       "style": "IPY_MODEL_b471f444843049749cb3558d3fb986d4"
      }
     },
     "ebe0c0f8b2d2477991866e331febea2b": {
      "model_module": "@jupyter-widgets/controls",
      "model_module_version": "1.5.0",
      "model_name": "SliderStyleModel",
      "state": {
       "description_width": ""
      }
     },
     "ebfbb911c041427baf1203676d458ce4": {
      "model_module": "@jupyter-widgets/controls",
      "model_module_version": "1.5.0",
      "model_name": "SliderStyleModel",
      "state": {
       "description_width": ""
      }
     },
     "ec736254ced74d048c31ec47a6bc7ac2": {
      "model_module": "@jupyter-widgets/controls",
      "model_module_version": "1.5.0",
      "model_name": "SliderStyleModel",
      "state": {
       "description_width": ""
      }
     },
     "ecbab9efc2834615980c1c91714276d4": {
      "model_module": "@jupyter-widgets/controls",
      "model_module_version": "1.5.0",
      "model_name": "IntSliderModel",
      "state": {
       "description": "West:",
       "layout": "IPY_MODEL_a5a3a3698ffe4c0092dc8bd7be77f8b2",
       "style": "IPY_MODEL_7fc60c0a4a364fb6b0dde7875cbb6e47"
      }
     },
     "ecc2575e0e1a49a29de8b61e0a4e47c2": {
      "model_module": "@jupyter-widgets/base",
      "model_module_version": "1.2.0",
      "model_name": "LayoutModel",
      "state": {}
     },
     "ed4a4b86bc6543e9a006e8ce6a1377a4": {
      "model_module": "@jupyter-widgets/controls",
      "model_module_version": "1.5.0",
      "model_name": "SliderStyleModel",
      "state": {
       "description_width": ""
      }
     },
     "ed824cf15d2d40b48271cb490f448254": {
      "model_module": "@jupyter-widgets/controls",
      "model_module_version": "1.5.0",
      "model_name": "IntSliderModel",
      "state": {
       "description": "South:",
       "layout": "IPY_MODEL_561ecca74b0b4b649c88ba143e748196",
       "max": 10,
       "style": "IPY_MODEL_422facf2ebdd4068a6266da5f39939a8",
       "value": 10
      }
     },
     "edcd94945fa84c6d936b608782b07e4c": {
      "model_module": "@jupyter-widgets/controls",
      "model_module_version": "1.5.0",
      "model_name": "SliderStyleModel",
      "state": {
       "description_width": ""
      }
     },
     "ee119c81884041f4ab12081d951cad09": {
      "model_module": "@jupyter-widgets/controls",
      "model_module_version": "1.5.0",
      "model_name": "SliderStyleModel",
      "state": {
       "description_width": ""
      }
     },
     "ee15e62c119441b9aa93146c0fa8b5a4": {
      "model_module": "@jupyter-widgets/controls",
      "model_module_version": "1.5.0",
      "model_name": "SliderStyleModel",
      "state": {
       "description_width": ""
      }
     },
     "ee1760dbfb73464a86447a72e273dc56": {
      "model_module": "@jupyter-widgets/controls",
      "model_module_version": "1.5.0",
      "model_name": "IntSliderModel",
      "state": {
       "description": "North:",
       "layout": "IPY_MODEL_a09a33a402f64133b09d7f2044239f60",
       "max": 78,
       "style": "IPY_MODEL_3cd63772334f485fbee006e81af3fc79"
      }
     },
     "ee7ce822e01d4c51a4361cd72339c226": {
      "model_module": "@jupyter-widgets/controls",
      "model_module_version": "1.5.0",
      "model_name": "SliderStyleModel",
      "state": {
       "description_width": ""
      }
     },
     "eeb77b038ea94e6d8d2d504d3eddb924": {
      "model_module": "@jupyter-widgets/controls",
      "model_module_version": "1.5.0",
      "model_name": "IntSliderModel",
      "state": {
       "description": "West:",
       "layout": "IPY_MODEL_8bfab4dae2094867907fcc60550ee098",
       "max": 40,
       "style": "IPY_MODEL_c934111d986143969916dbd2470c74d3",
       "value": 10
      }
     },
     "efa2ae2c7dc84645919856b31eb1d213": {
      "model_module": "@jupyter-widgets/controls",
      "model_module_version": "1.5.0",
      "model_name": "IntSliderModel",
      "state": {
       "description": "West:",
       "layout": "IPY_MODEL_462763e3c7434c08aa2909568cca0db6",
       "max": 59,
       "style": "IPY_MODEL_6b23022f3c484170ba4cbd91348ededf",
       "value": 13
      }
     },
     "f0ad0a4f72ba4ac89b32eb2d2cf05a09": {
      "model_module": "@jupyter-widgets/controls",
      "model_module_version": "1.5.0",
      "model_name": "IntSliderModel",
      "state": {
       "description": "East:",
       "layout": "IPY_MODEL_e81838333848418ba87798ac80655240",
       "style": "IPY_MODEL_0353ff5159954fd9880345f6e8de8b0c",
       "value": 75
      }
     },
     "f12c4b5a9d334d65aae05fab02d76a8b": {
      "model_module": "@jupyter-widgets/controls",
      "model_module_version": "1.5.0",
      "model_name": "SliderStyleModel",
      "state": {
       "description_width": ""
      }
     },
     "f15dbad0322d40f99f2802b106d3e278": {
      "model_module": "@jupyter-widgets/base",
      "model_module_version": "1.2.0",
      "model_name": "LayoutModel",
      "state": {}
     },
     "f28840b05c954cb2b7e2b91b19a543d1": {
      "model_module": "@jupyter-widgets/base",
      "model_module_version": "1.2.0",
      "model_name": "LayoutModel",
      "state": {}
     },
     "f29c12c52b68454c98a5c600e12c7092": {
      "model_module": "@jupyter-widgets/controls",
      "model_module_version": "1.5.0",
      "model_name": "SliderStyleModel",
      "state": {
       "description_width": ""
      }
     },
     "f3ceaf044a4d494bb4372ee6f60751ab": {
      "model_module": "@jupyter-widgets/controls",
      "model_module_version": "1.5.0",
      "model_name": "SliderStyleModel",
      "state": {
       "description_width": ""
      }
     },
     "f3dd3f85000c4441afc4dc30360eaf54": {
      "model_module": "@jupyter-widgets/controls",
      "model_module_version": "1.5.0",
      "model_name": "SliderStyleModel",
      "state": {
       "description_width": ""
      }
     },
     "f4aea03c45734d1a8fea80b2d9bab6c3": {
      "model_module": "@jupyter-widgets/base",
      "model_module_version": "1.2.0",
      "model_name": "LayoutModel",
      "state": {}
     },
     "f4fa9f76ef144578a3cd77a740b18105": {
      "model_module": "@jupyter-widgets/controls",
      "model_module_version": "1.5.0",
      "model_name": "SliderStyleModel",
      "state": {
       "description_width": ""
      }
     },
     "f510d879784e4a69a05597166cd20a88": {
      "model_module": "@jupyter-widgets/controls",
      "model_module_version": "1.5.0",
      "model_name": "IntSliderModel",
      "state": {
       "description": "West:",
       "layout": "IPY_MODEL_cd75131fe8104a0e935c9cdfed6fde8a",
       "max": 49,
       "style": "IPY_MODEL_3a776736603c467b9795ac1e223a24f6",
       "value": 21
      }
     },
     "f595c91d5de9422cb6272a3d63d5e6ca": {
      "model_module": "@jupyter-widgets/controls",
      "model_module_version": "1.5.0",
      "model_name": "SliderStyleModel",
      "state": {
       "description_width": ""
      }
     },
     "f5b68c79f9214371905545ed63e5421c": {
      "model_module": "@jupyter-widgets/base",
      "model_module_version": "1.2.0",
      "model_name": "LayoutModel",
      "state": {}
     },
     "f5bb786109bb41479af877a0763bb28c": {
      "model_module": "@jupyter-widgets/controls",
      "model_module_version": "1.5.0",
      "model_name": "IntSliderModel",
      "state": {
       "description": "North:",
       "layout": "IPY_MODEL_167d9823a3b34bf89504968768814026",
       "style": "IPY_MODEL_fa2b321e55e74ca594c73b4cdf17745e"
      }
     },
     "f5e8b140f3d84ed8b51e09fc23a9a6c8": {
      "model_module": "@jupyter-widgets/base",
      "model_module_version": "1.2.0",
      "model_name": "LayoutModel",
      "state": {}
     },
     "f6eb470703df4a6f9b5031502292bfc2": {
      "model_module": "@jupyter-widgets/controls",
      "model_module_version": "1.5.0",
      "model_name": "SliderStyleModel",
      "state": {
       "description_width": ""
      }
     },
     "f75a0f971bed443aafd30cfe30093ded": {
      "model_module": "@jupyter-widgets/base",
      "model_module_version": "1.2.0",
      "model_name": "LayoutModel",
      "state": {}
     },
     "f7767aa3f42243cabf4313e532ba2d77": {
      "model_module": "@jupyter-widgets/base",
      "model_module_version": "1.2.0",
      "model_name": "LayoutModel",
      "state": {}
     },
     "f78ffc479b0b4ff39afa3002334bf999": {
      "model_module": "@jupyter-widgets/base",
      "model_module_version": "1.2.0",
      "model_name": "LayoutModel",
      "state": {}
     },
     "f7bffb6da70a489ca03cd10982f9e03c": {
      "model_module": "@jupyter-widgets/base",
      "model_module_version": "1.2.0",
      "model_name": "LayoutModel",
      "state": {}
     },
     "f8553b0cc66c446a9c77271b0483f5b2": {
      "model_module": "@jupyter-widgets/controls",
      "model_module_version": "1.5.0",
      "model_name": "IntSliderModel",
      "state": {
       "description": "East:",
       "layout": "IPY_MODEL_e8099d0ef83548808fdfe35e95a7591f",
       "min": 1,
       "style": "IPY_MODEL_e3c29f257e694f42b33c133f0a09c156",
       "value": 75
      }
     },
     "f85ec26fb7e74da9875f55f629d0513a": {
      "model_module": "@jupyter-widgets/controls",
      "model_module_version": "1.5.0",
      "model_name": "SliderStyleModel",
      "state": {
       "description_width": ""
      }
     },
     "f88712098b5d459a8c3369995d5bbedc": {
      "model_module": "@jupyter-widgets/base",
      "model_module_version": "1.2.0",
      "model_name": "LayoutModel",
      "state": {}
     },
     "f8a253cc025d4d5e8deb207a1acd0b81": {
      "model_module": "@jupyter-widgets/controls",
      "model_module_version": "1.5.0",
      "model_name": "SliderStyleModel",
      "state": {
       "description_width": ""
      }
     },
     "f8cf14d901c44e4e8037cb814495034a": {
      "model_module": "@jupyter-widgets/base",
      "model_module_version": "1.2.0",
      "model_name": "LayoutModel",
      "state": {}
     },
     "f8ea95baaa034cbcb72fdd572a85b52c": {
      "model_module": "@jupyter-widgets/base",
      "model_module_version": "1.2.0",
      "model_name": "LayoutModel",
      "state": {}
     },
     "f8f9ed7879db41dd8618bd0a6ab91781": {
      "model_module": "@jupyter-widgets/controls",
      "model_module_version": "1.5.0",
      "model_name": "IntSliderModel",
      "state": {
       "description": "Particles:",
       "layout": "IPY_MODEL_e750b4b65e654617b9cc2c1fadfc1104",
       "max": 5000,
       "min": 1,
       "style": "IPY_MODEL_a22b1f4e30544340a2129238448f7e6b",
       "value": 5000
      }
     },
     "f8fd45225d724a46adc15c66242ff8bd": {
      "model_module": "@jupyter-widgets/controls",
      "model_module_version": "1.5.0",
      "model_name": "IntSliderModel",
      "state": {
       "layout": "IPY_MODEL_17d58a58d1d84533a32cc3d6f67253ff",
       "style": "IPY_MODEL_de0aaae44ac045af89818d32ff808aa4",
       "value": 3
      }
     },
     "f9b5929005d84a21802d85bef23907f0": {
      "model_module": "@jupyter-widgets/base",
      "model_module_version": "1.2.0",
      "model_name": "LayoutModel",
      "state": {}
     },
     "f9dd417db2544199894ff176e1d74591": {
      "model_module": "@jupyter-widgets/controls",
      "model_module_version": "1.5.0",
      "model_name": "IntSliderModel",
      "state": {
       "description": "Particles:",
       "layout": "IPY_MODEL_d5c15ec4cced4e53a384586191b146d8",
       "max": 5000,
       "min": 1,
       "style": "IPY_MODEL_c63a5ff32a344a7cb68e5370742788c5",
       "value": 921
      }
     },
     "fa2b321e55e74ca594c73b4cdf17745e": {
      "model_module": "@jupyter-widgets/controls",
      "model_module_version": "1.5.0",
      "model_name": "SliderStyleModel",
      "state": {
       "description_width": ""
      }
     },
     "fa79b7ee75fd460ca8cec8c51714ed5c": {
      "model_module": "@jupyter-widgets/base",
      "model_module_version": "1.2.0",
      "model_name": "LayoutModel",
      "state": {}
     },
     "fb1c77670ca14001bc46692fcb977b29": {
      "model_module": "@jupyter-widgets/base",
      "model_module_version": "1.2.0",
      "model_name": "LayoutModel",
      "state": {}
     },
     "fb837a2b29204e208d30925bd925556d": {
      "model_module": "@jupyter-widgets/controls",
      "model_module_version": "1.5.0",
      "model_name": "IntSliderModel",
      "state": {
       "description": "North:",
       "layout": "IPY_MODEL_1ed6cb580e7b4ab29c0138576ec19341",
       "max": 56,
       "style": "IPY_MODEL_f595c91d5de9422cb6272a3d63d5e6ca",
       "value": 56
      }
     },
     "fbde505291174278ae4a3d4a7efaff74": {
      "model_module": "@jupyter-widgets/controls",
      "model_module_version": "1.5.0",
      "model_name": "IntSliderModel",
      "state": {
       "description": "West:",
       "layout": "IPY_MODEL_acd7df3033b04a0b90a4f814d8c34779",
       "style": "IPY_MODEL_707ea7024eb546fa90e85f3d13306a52",
       "value": 5
      }
     },
     "fc1289281eef4aeab01d5b570d7b60f6": {
      "model_module": "@jupyter-widgets/controls",
      "model_module_version": "1.5.0",
      "model_name": "SliderStyleModel",
      "state": {
       "description_width": ""
      }
     },
     "fc3abc332208452eb14f44c855ea88dd": {
      "model_module": "@jupyter-widgets/controls",
      "model_module_version": "1.5.0",
      "model_name": "SliderStyleModel",
      "state": {
       "description_width": ""
      }
     },
     "fc8a81503edd4f8ead078059eebd1c17": {
      "model_module": "@jupyter-widgets/base",
      "model_module_version": "1.2.0",
      "model_name": "LayoutModel",
      "state": {}
     },
     "fe2c746dfdd8416398ed3499d435b413": {
      "model_module": "@jupyter-widgets/controls",
      "model_module_version": "1.5.0",
      "model_name": "SliderStyleModel",
      "state": {
       "description_width": ""
      }
     },
     "fe965ac6262645849a20fdebfa6129fe": {
      "model_module": "@jupyter-widgets/controls",
      "model_module_version": "1.5.0",
      "model_name": "SliderStyleModel",
      "state": {
       "description_width": ""
      }
     },
     "febf53372c844018885b91293b42b73f": {
      "model_module": "@jupyter-widgets/controls",
      "model_module_version": "1.5.0",
      "model_name": "SliderStyleModel",
      "state": {
       "description_width": ""
      }
     },
     "fec931fcfa3049798aded635bf838406": {
      "model_module": "@jupyter-widgets/controls",
      "model_module_version": "1.5.0",
      "model_name": "IntSliderModel",
      "state": {
       "description": "East:",
       "layout": "IPY_MODEL_257e50324828479ebf515fd01562a654",
       "style": "IPY_MODEL_c3daaaa2cc8c4943b6b72ea3d2f85d12",
       "value": 46
      }
     },
     "ff4446d58262433e918b639f8df879f0": {
      "model_module": "@jupyter-widgets/controls",
      "model_module_version": "1.5.0",
      "model_name": "IntSliderModel",
      "state": {
       "description": "North:",
       "layout": "IPY_MODEL_1710f14152eb46558dbff20da2acc7a9",
       "style": "IPY_MODEL_54601922cc534731a9b50029e8bc3f35"
      }
     }
    },
    "version_major": 2,
    "version_minor": 0
   }
  }
 },
 "nbformat": 4,
 "nbformat_minor": 4
}
