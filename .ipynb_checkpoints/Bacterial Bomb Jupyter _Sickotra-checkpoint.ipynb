{
 "cells": [
  {
   "cell_type": "markdown",
   "metadata": {},
   "source": [
    "# Bacterial Bomb - Model to Track Contamination"
   ]
  },
  {
   "cell_type": "markdown",
   "metadata": {},
   "source": [
    "**This model has been designed to track the fallout of a biological weapon that has been detonated on top of a building. The code used to build the model is detailed in this notebook.**\n",
    "\n",
    "Docstrings detailing Classes, methods and functions can be found at ENTER LINK\n",
    "\n",
    "---------"
   ]
  },
  {
   "cell_type": "markdown",
   "metadata": {},
   "source": [
    "First import all the packages that will be needed to run the program. Instructions to install `pandas` and `seaborn` with Anaconda can be found here: \n",
    "https://anaconda.org/anaconda/pandas \n",
    "https://anaconda.org/anaconda/seaborn"
   ]
  },
  {
   "cell_type": "code",
   "execution_count": null,
   "metadata": {},
   "outputs": [],
   "source": [
    "import csv                      #to allow raster data to be read\n",
    "import random                   #for random number generating\n",
    "import matplotlib.pyplot as plt #for plotting spread \n",
    "import particle_framework       #the particle class created \n",
    "import pandas as pd             #for density map data frame\n",
    "import seaborn as sns           #for creating density map "
   ]
  },
  {
   "cell_type": "markdown",
   "metadata": {},
   "source": [
    "## Build the `Particle` Class"
   ]
  },
  {
   "cell_type": "markdown",
   "metadata": {},
   "source": [
    "Create the `Particle` Class which will be used as a framework and to initialise the particles. The class will enable the particles to spread either North, South, East or West depending on the directional probablities set. It will also enable them to rise up or fall down to the ground, again depending on the turbulance probabilities set. "
   ]
  },
  {
   "cell_type": "code",
   "execution_count": null,
   "metadata": {},
   "outputs": [],
   "source": [
    "class Particle:\n",
    "    \n",
    "    def __init__(self, town, particles, y, x):\n",
    "        \n",
    "        #the initial starting point for each particle is at the bomb location\n",
    "        self.y = 150 \n",
    "        self.x = 50\n",
    "            \n",
    "        self.town = town  #giving every agent access to the map of the town\n",
    "        self.toxicity = 70 #base toxicity is 70 and will increase later        #TODO\n",
    "        self.particles = particles #every particle access to 'particles' list\n",
    "        self.height = 75 #all particles initial height = building height 75m \n",
    "        \n",
    "        \n",
    "    def __repr__(self):\n",
    "        \n",
    "        return str([self.x, self.y]) #used to print initial & moved particles\n",
    "       \n",
    "    \n",
    "    def spread(self, p_east, p_west, p_north, p_south):\n",
    "        \n",
    "        chance = random.randint(1, 100) #select a random integer between 1-100 \n",
    "        \n",
    "        if chance <= p_east:\n",
    "            self.x = self.x + 1 #move east 75% chance default or value entered\n",
    "            \n",
    "        elif (p_east < chance <= p_east + p_west):\n",
    "            self.x = self.x - 1 #move west 5% chance default or value entered \n",
    "            \n",
    "        elif (p_east + p_west < chance <= p_east + p_west + p_north):\n",
    "            self.y = self.y + 1 #move north 10% chance default or value entered\n",
    "        \n",
    "        elif (p_east + p_west + p_north < chance <= p_east + p_west + p_north + p_south): \n",
    "            self.y = self.y - 1 #move south 10% chance default of value entered \n",
    "            \n",
    "        #Town is non abstract landscape, particles cannot follow torus boundary\n",
    "        #Create solid wall boundary, check if particle off edge & adjust\n",
    "        if self.x < 0:   #if x, y hit 0, stop from going below 0 \n",
    "            self.x = 0\n",
    "        if self.y < 0:\n",
    "            self.y = 0\n",
    "        if self.x > 300:  #if x, y hit 299 (300x300 is town dimension),\n",
    "            self.x = 300  #stop from going any higher\n",
    "        if self.y > 300:\n",
    "            self.y = 300\n",
    "        \n",
    "            \n",
    "    def turbulance(self, p_rise, p_same, p_fall):\n",
    "        \n",
    "        chance = random.randint(1, 100) #select a random integer between 1-100 \n",
    "               \n",
    "        if self.height >= 75: #for particles ABOVE the building height of 75m\n",
    "            #particle rises, 20% default chance or value entered\n",
    "            if chance <= p_rise:\n",
    "                self.height = self.height + 1  \n",
    "                \n",
    "            #particle stays at same level, 10% chance or value entered   \n",
    "            elif (p_rise < chance <= p_rise + p_same):\n",
    "                self.height = self.height   \n",
    "            \n",
    "            #particle falls, 70% default chance of value entered    \n",
    "            elif (p_rise + p_same < chance <= p_rise + p_same + p_fall):\n",
    "                self.height = self.height - 1\n",
    "                      \n",
    "        elif (0 < self.height < 75):  #for particles BELOW the building height\n",
    "            self.height = self.height - 1  #falls until hits the ground at 0m"
   ]
  },
  {
   "cell_type": "markdown",
   "metadata": {},
   "source": [
    "## 1. Pull in the `wind.raster` data file and find out the bombing location"
   ]
  },
  {
   "cell_type": "markdown",
   "metadata": {},
   "source": [
    "First the the raster data file needs to be read and processed. "
   ]
  },
  {
   "cell_type": "code",
   "execution_count": null,
   "metadata": {},
   "outputs": [],
   "source": [
    "#'fix' the random numbers so outputs stay constant, can change the seed arg\n",
    "random.seed(0)\n",
    "\n",
    "\n",
    "# Setting up town\n",
    "f = open ('wind.raster', newline='') #read in data from raster file\n",
    "#csv.reader gives data as list of list to be looped through\n",
    "dataset = csv.reader (f, quoting=csv.QUOTE_NONNUMERIC) #converts no. to floats\n",
    "\n",
    "town = [] #empty town list to add the rowlist elements (mutable)\n",
    "\n",
    "for row in dataset:\n",
    "    rowlist = [] #empty list to add each row as an element\n",
    "    for value in row:\n",
    "        rowlist.append (value) #adds each row's data as its own rowlist element\n",
    "    town.append (rowlist)  #each rowlist added to environ list, 2D now \n",
    "f.close() \t#file closed after reading data"
   ]
  },
  {
   "cell_type": "markdown",
   "metadata": {},
   "source": [
    "Now the location of the building where the bomb was detonated can be identified."
   ]
  },
  {
   "cell_type": "code",
   "execution_count": null,
   "metadata": {},
   "outputs": [],
   "source": [
    "# Locating the bomb detonation point\n",
    "counter = 0 #start a counter for the rows in the town list\n",
    "for row in town: #both for loops to check through every value in the 2D list\n",
    "    for value in row:\n",
    "        if value != 0: #if the value is not equal to zero, then set bomb coords \n",
    "            bomb_x = row.index(value) #bomb x coord\n",
    "            bomb_y = counter \n",
    "            #will print the coord of the only non zero pixel value (255)\n",
    "            print(\"Coords of the building where bomb detonated:\",(bomb_x, bomb_y))\n",
    "    #step the row counter by 1 to loop through all rows until non zero found\n",
    "    counter += 1"
   ]
  },
  {
   "cell_type": "markdown",
   "metadata": {},
   "source": [
    "Plot the raster data so that a map of the town can be outputted as a figure, with the bomb location marked."
   ]
  },
  {
   "cell_type": "code",
   "execution_count": null,
   "metadata": {},
   "outputs": [],
   "source": [
    "# Plotting the raster data\n",
    "plt.ylim (0, 300) #setting graph axis 300x300 to match raster\n",
    "plt.xlim (0, 300)\n",
    "plt.title ('A plot to show the map of the town and the bombing location')\n",
    "plt.xlabel('x metres') #graph axis labels, 1 pixel = 1 metre\n",
    "plt.ylabel('y metres')\n",
    "#mark the bomb location with a red diamond overlay \n",
    "plt.scatter (50, 150, color='red', marker=('D'))\n",
    "#plotting map of the area/town and bombing location\n",
    "plt.imshow(town) "
   ]
  },
  {
   "cell_type": "markdown",
   "metadata": {},
   "source": [
    "## 2. Calculate where 5000 bacteria will end up"
   ]
  },
  {
   "cell_type": "markdown",
   "metadata": {},
   "source": [
    "Initialise/create the particles using the Particles class."
   ]
  },
  {
   "cell_type": "code",
   "execution_count": 6,
   "metadata": {},
   "outputs": [
    {
     "name": "stdout",
     "output_type": "stream",
     "text": [
      "Initialising particles--\n"
     ]
    }
   ],
   "source": [
    "# Major model parameters\n",
    "num_of_particles = 5000\n",
    "num_of_iterations = 100 #i.e after 700 seconds, 11mins\n",
    "\n",
    "#Chances/probability of wind blowing particle in different directions\n",
    "p_east = 75  #75 means 75% chance particle moves east each second/iteration \n",
    "p_west = 5   #NESW probs can be integer or decimal/float, just need sum = 100\n",
    "p_north = 10\n",
    "p_south = 10\n",
    "\n",
    "#Chances of wind turbulance effects \n",
    "p_rise = 20 #20% chance particle rises 1m per second (1 pixel per iteration)\n",
    "p_same = 10 #particle stays at the same level\n",
    "p_fall = 70 #probs can be integer or decimal/float, just need sum = 100\n",
    "\n",
    "\n",
    "\n",
    "particles = [] #empty list to add Partical class instances\n",
    "\n",
    "print (\"Initialising particles--\") \n",
    "# Creating particles and adding to particles list\n",
    "\n",
    "for i in range(num_of_particles): \n",
    "    y = 150\n",
    "    x = 50\n",
    "    #passing in data from town & particles list and y,x and appending to list\n",
    "    particles.append (particle_framework.Particle(town, particles, y, x)) "
   ]
  },
  {
   "cell_type": "markdown",
   "metadata": {},
   "source": [
    "To move the particles that have just been created, the `spread` and `turbulance` methods from the `Particles` class will need to be used. This replicates the effects that the wind and turbulance, in a real town, would have on the particles. The bacteria particles spread either North, East, South or West. The turbulance means that particles may rise upwards, but they will all eventually fall down to the ground."
   ]
  },
  {
   "cell_type": "code",
   "execution_count": null,
   "metadata": {},
   "outputs": [],
   "source": [
    "print (\"Spreading bomb particles--\")\n",
    "# Particles spread across town either NESW directions and rise/fall \n",
    "\n",
    "for j in range (num_of_iterations):   #moves the coords num of iteration times\n",
    "    #randomly shuffle particles list each iternation to reduce model artifacts\n",
    "    random.shuffle (particles) \n",
    "    #methods in Particles class act on every element in particles list\n",
    "    for i in range (num_of_particles): \n",
    "        particles[i].spread(p_east, p_west, p_north, p_south) #NESW movement\n",
    "        particles[i].turbulance(p_rise, p_same, p_fall) #up/down movement\n",
    "        #print (particles[i].height) #TEST to see turbulance method working\n",
    "#print(\"Particles after spreading:\") #comment out for large no's of particles\n",
    "#print (particles) # 2D list/array of particles at their end locations, TEST \n",
    "print (\"All particles have now settled on the ground\")\n",
    "\n",
    "# Plotting all particles after spreading on a scatter plot\n",
    "for i in range (num_of_particles):\n",
    "    #ith obj from particles list, using Particles Class to specify x, y coords\n",
    "    plt.scatter (particles[i].x, particles[i].y) \n",
    "plt.show() "
   ]
  },
  {
   "cell_type": "markdown",
   "metadata": {},
   "source": [
    "Output the end locations of all the bacteria particles after they have reached the ground. The output file format is a `.txt` text file."
   ]
  },
  {
   "cell_type": "code",
   "execution_count": null,
   "metadata": {},
   "outputs": [],
   "source": [
    "f = open(\"end_locations.txt\",'w', newline='') #builtin open func to write end coords\n",
    "for line in particles: #for every line in particles list\n",
    "    f.write (repr(line)) #write as a string in the text file\n",
    "f.close() #file closed after writting the coords"
   ]
  }
 ],
 "metadata": {
  "kernelspec": {
   "display_name": "Python 3",
   "language": "python",
   "name": "python3"
  },
  "language_info": {
   "codemirror_mode": {
    "name": "ipython",
    "version": 3
   },
   "file_extension": ".py",
   "mimetype": "text/x-python",
   "name": "python",
   "nbconvert_exporter": "python",
   "pygments_lexer": "ipython3",
   "version": "3.8.3"
  }
 },
 "nbformat": 4,
 "nbformat_minor": 4
}
